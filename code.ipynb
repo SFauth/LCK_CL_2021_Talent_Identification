{
 "cells": [
  {
   "cell_type": "markdown",
   "metadata": {},
   "source": [
    "League of Legends is a popular Multiplayer Online Battle Arena (MOBA) that is played by more than 100 Million people around the globe. Data is publicly available and can be accessed. The problem is that the data structure is very incovenient (a lot of dictionaries) and a lot of data wrangling is necessary until actual, useful questions can be answered. This project gets data from the Riot Games API."
   ]
  },
  {
   "cell_type": "code",
   "execution_count": 750,
   "metadata": {},
   "outputs": [],
   "source": [
    "import pandas as pd\n",
    "import numpy as np\n",
    "from scipy.stats import beta, binom\n",
    "import matplotlib.pyplot as plt\n",
    "import seaborn as sns\n",
    "import plotly.express as px\n",
    "from plotly.subplots import make_subplots\n",
    "import plotly.graph_objects as go\n",
    "from dash import Dash, dcc, html, Input, Output, no_update"
   ]
  },
  {
   "cell_type": "markdown",
   "metadata": {},
   "source": [
    "Teams try to find talented players. We want to get stats for the best players (Rank: Challenger) of the Korean server. Teams' scouts might be interested in metrics.\n"
   ]
  },
  {
   "cell_type": "markdown",
   "metadata": {},
   "source": [
    "Reading in data from Oracle's Elixir, downloaded on 1-13-2021."
   ]
  },
  {
   "cell_type": "code",
   "execution_count": 751,
   "metadata": {},
   "outputs": [],
   "source": [
    "sp_2021_reg, sp_2021_pl, su_2021_reg, su_2021_pl =  pd.read_csv(\"LCK CL 2021 Spring - Player Stats - OraclesElixir.csv\"), pd.read_csv(\"LCK CL 2021 Spring Playoffs - Player Stats - OraclesElixir.csv\"), pd.read_csv(\"LCK CL 2021 Summer - Player Stats - OraclesElixir.csv\"), pd.read_csv(\"LCK CL 2021 Summer Playoffs - Player Stats - OraclesElixir.csv\")\n",
    "\n",
    "all_splits = [sp_2021_reg, sp_2021_pl, su_2021_reg, su_2021_pl]\n",
    "\n",
    "all_splits_df = pd.concat(all_splits)"
   ]
  },
  {
   "cell_type": "markdown",
   "metadata": {},
   "source": [
    "Inspecting one players as an example."
   ]
  },
  {
   "cell_type": "code",
   "execution_count": 752,
   "metadata": {},
   "outputs": [
    {
     "data": {
      "text/plain": [
       "Index(['Player', 'Team', 'Pos', 'GP', 'W%', 'CTR%', 'K', 'D', 'A', 'KDA', 'KP',\n",
       "       'KS%', 'DTH%', 'FB%', 'GD10', 'XPD10', 'CSD10', 'CSPM', 'CS%P15', 'DPM',\n",
       "       'DMG%', 'D%P15', 'EGPM', 'GOLD%', 'STL', 'WPM', 'WCPM'],\n",
       "      dtype='object')"
      ]
     },
     "execution_count": 752,
     "metadata": {},
     "output_type": "execute_result"
    }
   ],
   "source": [
    "all_splits_df.query('Player == \"Berserker\"').columns"
   ]
  },
  {
   "cell_type": "markdown",
   "metadata": {},
   "source": [
    "We want to change some column names to avoid confusion."
   ]
  },
  {
   "cell_type": "code",
   "execution_count": 753,
   "metadata": {},
   "outputs": [],
   "source": [
    "all_splits_df = all_splits_df.rename(columns={\"K\": \"total_kills\",\n",
    "\"Pos\": \"position\",\n",
    " \"D\": \"total_deaths\",\n",
    "  \"A\": \"total_assists\",\n",
    "  \"GP\": \"games_played\",\n",
    "   \"W%\": \"winrate%\",\n",
    "    \"CTR%\": \"pick_after_opponent%\",\n",
    "     \"KP\":\"kill_assist_participation%\",\n",
    "      \"KS%\":\"kill_participation%\",\n",
    "      \"DTH%\":\"average_share_teams_deaths%\",\n",
    "      \"FB%\": \"first_blood_participation_rate%\",\n",
    "      \"GD10\": \"average_gold_diff_10_min\",\n",
    "      \"XPD10\": \"average_xp_diff_10_min\",\n",
    "      \"CSD10\": \"average_cs_diff_10_min\",\n",
    "      \"CSPM\": \"average_CSPM\",\n",
    "      \"CS%P15\": \"average_share_team_cs_post_15_min%\",\n",
    "      \"DPM\": \"average_DPM_to_champs\",\n",
    "      \"DMG%\": \"average_share_team_DMG_to_champs%\",\n",
    "      \"D%P15\": \"average_share_team_DMG_to_champs_post_15_min%\",\n",
    "      \"EGPM\": \"average_gold_per_min\",\n",
    "      \"GOLD%\": \"average_share_team_gold%\",\n",
    "      \"STL\": \"num_neutral_obj_stolen\",\n",
    "      \"WPM\": \"average_wards_per_min\",\n",
    "      \"WCPM\": \"average_wards_cleared_per_min\"})"
   ]
  },
  {
   "cell_type": "markdown",
   "metadata": {},
   "source": [
    "Inspecting the resulting column names and their datatypes. "
   ]
  },
  {
   "cell_type": "code",
   "execution_count": 754,
   "metadata": {},
   "outputs": [
    {
     "data": {
      "text/plain": [
       "Player                                            object\n",
       "Team                                              object\n",
       "position                                          object\n",
       "games_played                                       int64\n",
       "winrate%                                          object\n",
       "pick_after_opponent%                              object\n",
       "total_kills                                        int64\n",
       "total_deaths                                       int64\n",
       "total_assists                                      int64\n",
       "KDA                                              float64\n",
       "kill_assist_participation%                        object\n",
       "kill_participation%                               object\n",
       "average_share_teams_deaths%                       object\n",
       "first_blood_participation_rate%                   object\n",
       "average_gold_diff_10_min                           int64\n",
       "average_xp_diff_10_min                             int64\n",
       "average_cs_diff_10_min                           float64\n",
       "average_CSPM                                     float64\n",
       "average_share_team_cs_post_15_min%                object\n",
       "average_DPM_to_champs                              int64\n",
       "average_share_team_DMG_to_champs%                 object\n",
       "average_share_team_DMG_to_champs_post_15_min%     object\n",
       "average_gold_per_min                               int64\n",
       "average_share_team_gold%                          object\n",
       "num_neutral_obj_stolen                           float64\n",
       "average_wards_per_min                            float64\n",
       "average_wards_cleared_per_min                    float64\n",
       "dtype: object"
      ]
     },
     "execution_count": 754,
     "metadata": {},
     "output_type": "execute_result"
    }
   ],
   "source": [
    "all_splits_df.dtypes"
   ]
  },
  {
   "cell_type": "markdown",
   "metadata": {},
   "source": [
    "All columns that are measured in percent are not recognized as numeric columns, but as object columns. In order to use mathematical operations with these columns, they have to be transformed to numeric columns."
   ]
  },
  {
   "cell_type": "code",
   "execution_count": 755,
   "metadata": {},
   "outputs": [
    {
     "data": {
      "text/plain": [
       "0     55\n",
       "1     83\n",
       "2     63\n",
       "3     83\n",
       "4     42\n",
       "      ..\n",
       "28    40\n",
       "29    40\n",
       "30    44\n",
       "31    50\n",
       "32    50\n",
       "Name: winrate%, Length: 195, dtype: object"
      ]
     },
     "execution_count": 755,
     "metadata": {},
     "output_type": "execute_result"
    }
   ],
   "source": [
    "all_splits_df['winrate%'].str.rstrip('%')\n",
    "\n",
    "#all_splits_df.astype({'winrate%' : 'float64'})"
   ]
  },
  {
   "cell_type": "markdown",
   "metadata": {},
   "source": [
    "As we have seen above, some players participated in more than one split, we have to aggregate their data, such that we end up with one row for every player. We want to keep non-performance related features, as they are in the raw data: this includes the player name, his team, his position and the number of games played. Some metrics allow for just averaging over them (e.g. all averaged metrics). This is possible, as these metrics refer to an average game of a player in one split, i.e. playoff. Thus, taking their mean just means that the value now represents the average game of all tournaments, a player took part in. However, this can not be done for absolute measures who refer to a whole tournaments, such as kills. This is due to the fact that certain players have participated in different tournaments that had a different amount of games. This questions the general use of absolute measures."
   ]
  },
  {
   "cell_type": "markdown",
   "metadata": {},
   "source": [
    "We are gonna create lists that specify columns that will be aggregated in the same way: one list for the columns that will be summed, one list for the columns that will be averaged, and finally, one list for the remaining, non-numerical, columns."
   ]
  },
  {
   "cell_type": "code",
   "execution_count": 756,
   "metadata": {},
   "outputs": [],
   "source": [
    "cols_to_sum = ['games_played',\n",
    " 'total_kills', 'total_deaths',\n",
    "  'total_assists', 'num_neutral_obj_stolen']\n",
    "\n",
    "cols_to_keep = ['Player','Team', 'position']\n",
    "\n",
    "cols_to_avg = [col for col in all_splits_df.columns if col not in (cols_to_sum + cols_to_keep)]"
   ]
  },
  {
   "cell_type": "markdown",
   "metadata": {},
   "source": [
    "Transforming string columns that are stored in % to numerical columns, before grouping and performing the aggregation."
   ]
  },
  {
   "cell_type": "code",
   "execution_count": 757,
   "metadata": {},
   "outputs": [],
   "source": [
    "percentage_cols = [col for col in cols_to_avg if col.endswith(\"%\")]\n",
    "\n",
    "all_splits_df_percentage_cols = all_splits_df[percentage_cols].astype(str).applymap(lambda x: x.strip(\"%\"))\n",
    "\n",
    "\n",
    "\n",
    "all_splits_df = pd.concat([all_splits_df.drop(percentage_cols, axis = 1),\n",
    " all_splits_df_percentage_cols.astype('float16')], axis = 1)"
   ]
  },
  {
   "cell_type": "code",
   "execution_count": 758,
   "metadata": {},
   "outputs": [
    {
     "data": {
      "text/plain": [
       "Player                                            object\n",
       "Team                                              object\n",
       "position                                          object\n",
       "games_played                                       int64\n",
       "total_kills                                        int64\n",
       "total_deaths                                       int64\n",
       "total_assists                                      int64\n",
       "KDA                                              float64\n",
       "average_gold_diff_10_min                           int64\n",
       "average_xp_diff_10_min                             int64\n",
       "average_cs_diff_10_min                           float64\n",
       "average_CSPM                                     float64\n",
       "average_DPM_to_champs                              int64\n",
       "average_gold_per_min                               int64\n",
       "num_neutral_obj_stolen                           float64\n",
       "average_wards_per_min                            float64\n",
       "average_wards_cleared_per_min                    float64\n",
       "winrate%                                         float16\n",
       "pick_after_opponent%                             float16\n",
       "kill_assist_participation%                       float16\n",
       "kill_participation%                              float16\n",
       "average_share_teams_deaths%                      float16\n",
       "first_blood_participation_rate%                  float16\n",
       "average_share_team_cs_post_15_min%               float16\n",
       "average_share_team_DMG_to_champs%                float16\n",
       "average_share_team_DMG_to_champs_post_15_min%    float16\n",
       "average_share_team_gold%                         float16\n",
       "dtype: object"
      ]
     },
     "execution_count": 758,
     "metadata": {},
     "output_type": "execute_result"
    }
   ],
   "source": [
    "all_splits_df.dtypes"
   ]
  },
  {
   "cell_type": "markdown",
   "metadata": {},
   "source": [
    "Grouping and aggregating."
   ]
  },
  {
   "cell_type": "code",
   "execution_count": 759,
   "metadata": {},
   "outputs": [],
   "source": [
    "all_splits_by_player = all_splits_df.groupby(['Player'])\n",
    "\n",
    "orig_cols = all_splits_df[cols_to_keep].drop_duplicates('Player')\n",
    "summed_cols = all_splits_by_player[cols_to_sum].sum()\n",
    "\n",
    "\n",
    "avg_cols = all_splits_by_player[cols_to_avg].mean()\n",
    "\n"
   ]
  },
  {
   "cell_type": "markdown",
   "metadata": {},
   "source": [
    " Concatenating the dfs. "
   ]
  },
  {
   "cell_type": "code",
   "execution_count": 760,
   "metadata": {},
   "outputs": [],
   "source": [
    "orig_summed_cols = pd.concat([orig_cols.set_index('Player'), summed_cols], axis = 1)\n",
    "agg_all = pd.concat([orig_summed_cols, avg_cols], axis = 1)"
   ]
  },
  {
   "cell_type": "markdown",
   "metadata": {},
   "source": [
    "Unfortunately, the metrics are still biased by the team and the position of a player. One should not compare the number of kills of a support and of an attack damage carry (ADC). This can be easily be taken care of by grouping by positions.\n",
    "Added to that, two players that feature the same characteristics (e.g. ability) will have different metrics. This is due to the fact that if one player is on the worst team, while the other is on the best team, he will score less kills, for example. Therefore, it is also indispensable to account for the relative rank of a player's team. In order to minimize the team's effect, we will conduct statistical tests to compare the performance of teams. Then, if a team's performance (m games won out of n games) is not statistically different from another team's, we consider then to be similar, allowing for comparison of players. First, we have to compute a team's performance. This can be done by looking at the player of the team that has played most games for it, serving as an estimate for m and n."
   ]
  },
  {
   "cell_type": "code",
   "execution_count": 761,
   "metadata": {},
   "outputs": [
    {
     "data": {
      "text/html": [
       "<div>\n",
       "<style scoped>\n",
       "    .dataframe tbody tr th:only-of-type {\n",
       "        vertical-align: middle;\n",
       "    }\n",
       "\n",
       "    .dataframe tbody tr th {\n",
       "        vertical-align: top;\n",
       "    }\n",
       "\n",
       "    .dataframe thead th {\n",
       "        text-align: right;\n",
       "    }\n",
       "</style>\n",
       "<table border=\"1\" class=\"dataframe\">\n",
       "  <thead>\n",
       "    <tr style=\"text-align: right;\">\n",
       "      <th></th>\n",
       "      <th>wins</th>\n",
       "      <th>winrate%</th>\n",
       "      <th>games_played</th>\n",
       "    </tr>\n",
       "    <tr>\n",
       "      <th>Team</th>\n",
       "      <th></th>\n",
       "      <th></th>\n",
       "      <th></th>\n",
       "    </tr>\n",
       "  </thead>\n",
       "  <tbody>\n",
       "    <tr>\n",
       "      <th>Gen.G Challengers</th>\n",
       "      <td>39</td>\n",
       "      <td>76</td>\n",
       "      <td>51</td>\n",
       "    </tr>\n",
       "    <tr>\n",
       "      <th>DWG KIA Challengers</th>\n",
       "      <td>27</td>\n",
       "      <td>75</td>\n",
       "      <td>36</td>\n",
       "    </tr>\n",
       "    <tr>\n",
       "      <th>Kwangdong Freecs Challengers</th>\n",
       "      <td>25</td>\n",
       "      <td>71</td>\n",
       "      <td>36</td>\n",
       "    </tr>\n",
       "    <tr>\n",
       "      <th>T1 Challengers</th>\n",
       "      <td>29</td>\n",
       "      <td>70</td>\n",
       "      <td>42</td>\n",
       "    </tr>\n",
       "    <tr>\n",
       "      <th>Nongshim RedForce Challengers</th>\n",
       "      <td>28</td>\n",
       "      <td>59</td>\n",
       "      <td>48</td>\n",
       "    </tr>\n",
       "    <tr>\n",
       "      <th>KT Rolster Challengers</th>\n",
       "      <td>27</td>\n",
       "      <td>57</td>\n",
       "      <td>48</td>\n",
       "    </tr>\n",
       "    <tr>\n",
       "      <th>Hanwha Life Esports Challengers</th>\n",
       "      <td>26</td>\n",
       "      <td>52</td>\n",
       "      <td>50</td>\n",
       "    </tr>\n",
       "    <tr>\n",
       "      <th>DRX Challengers</th>\n",
       "      <td>24</td>\n",
       "      <td>50</td>\n",
       "      <td>48</td>\n",
       "    </tr>\n",
       "    <tr>\n",
       "      <th>Liiv SANDBOX Challengers</th>\n",
       "      <td>21</td>\n",
       "      <td>47</td>\n",
       "      <td>46</td>\n",
       "    </tr>\n",
       "    <tr>\n",
       "      <th>Fredit BRION Challengers</th>\n",
       "      <td>17</td>\n",
       "      <td>45</td>\n",
       "      <td>39</td>\n",
       "    </tr>\n",
       "  </tbody>\n",
       "</table>\n",
       "</div>"
      ],
      "text/plain": [
       "                                 wins  winrate%  games_played\n",
       "Team                                                         \n",
       "Gen.G Challengers                  39        76            51\n",
       "DWG KIA Challengers                27        75            36\n",
       "Kwangdong Freecs Challengers       25        71            36\n",
       "T1 Challengers                     29        70            42\n",
       "Nongshim RedForce Challengers      28        59            48\n",
       "KT Rolster Challengers             27        57            48\n",
       "Hanwha Life Esports Challengers    26        52            50\n",
       "DRX Challengers                    24        50            48\n",
       "Liiv SANDBOX Challengers           21        47            46\n",
       "Fredit BRION Challengers           17        45            39"
      ]
     },
     "execution_count": 761,
     "metadata": {},
     "output_type": "execute_result"
    }
   ],
   "source": [
    "teams = agg_all.groupby(['Team']).max('games_played')\n",
    "\n",
    "teams = teams.assign(wins = (teams['winrate%'] / 100) * teams['games_played']).astype(int)\n",
    "\n",
    "win_stats = teams[['wins', 'winrate%', 'games_played']].sort_values(by=['winrate%'], ascending = False)\n",
    "\n",
    "win_stats"
   ]
  },
  {
   "cell_type": "markdown",
   "metadata": {},
   "source": [
    "By descriptively looking at the teams, I would suggest three groups: Gen.G, DWG, Freecs and T1 form the best teams, followed by mid tier teams Nongshim and KT. Lastly, we have the rest of the teams whose winrate is very close to 50% only. Unfortunately, comparison within groups would be quite difficult, assuming we have three groups, as in the worst case scenario, we would only have two players in each position to compare in the mid tier group. Therefore, two groups should be the play. Still, it remains unclear, where the cut-off should be. Maybe inference can help us making this decision: "
   ]
  },
  {
   "cell_type": "markdown",
   "metadata": {},
   "source": [
    "#### Hypothesis testing\n",
    "$H_0: w_0 = ... = w_9 $\n",
    "\n",
    "A standard testing procedure comparing all win rates, simultaneously, would not really help to solve to this problem, as it is super likely that we would reject the $H_0$ just due to Fredit and Gen.G's difference. We would not gain a lot of additional insight, as we don't statistical evidence for this difference (the worst team and the best team are just different). Therefore, it is necessary to think about a more useful approach. It would be possible to do pair wise comparisons instead. Then, however, one has to consider the type-1-error inflation, by implementing, for instance, the Bonferroni correction. \\\n",
    "Pair-wise comparisons can be done by doing Binomial tests, as we are having one binomial distribution for every team. We want to know whether these distributions differ."
   ]
  },
  {
   "cell_type": "markdown",
   "metadata": {},
   "source": [
    "$p(w_i | m_i , n_i ) =  \\frac{p(m_i , n_i | w_i) * p(w_i)}\n",
    "    {\\int p(m_i , n_i | w_a) * p(w_a) dw_a}$"
   ]
  },
  {
   "cell_type": "markdown",
   "metadata": {},
   "source": [
    "Let's do Bayesian inference to get a posterior for the winrate of every team. The prior should be a distribution that suggests, most frequently, a winrate of 50%, as I would assume, before seeing any data that each team will perform similarly well, while some teams are worse and some teams are better. We want to use a Beta prior:"
   ]
  },
  {
   "cell_type": "markdown",
   "metadata": {},
   "source": [
    "$p(w_i) = \\frac{(w_i)^{a-1} (1-w_i)^{b-1}}{B(a,b)}$"
   ]
  },
  {
   "cell_type": "markdown",
   "metadata": {},
   "source": [
    "Creating a function that plots a beta distribution, which is parameterized by a and b:"
   ]
  },
  {
   "cell_type": "code",
   "execution_count": 762,
   "metadata": {},
   "outputs": [],
   "source": [
    "def plot_beta_prior(a:float, b:float):\n",
    "\n",
    "    prior = beta(a,b)\n",
    "\n",
    "    mm = np.linspace(0, 1, 500)\n",
    "\n",
    "    fig,ax = plt.subplots(1,1, figsize=(10, 4),dpi=150)\n",
    "    \n",
    "    ax.vlines(mm,0,prior.pdf(mm))   \n",
    "\n"
   ]
  },
  {
   "cell_type": "markdown",
   "metadata": {},
   "source": [
    "A symmetric beta distribution manifests the belief that the most frequent winrate is 50%:"
   ]
  },
  {
   "cell_type": "code",
   "execution_count": 763,
   "metadata": {},
   "outputs": [
    {
     "data": {
      "image/png": "[encoded data removed]",
      "text/plain": [
       "<Figure size 1500x600 with 1 Axes>"
      ]
     },
     "metadata": {
      "needs_background": "light"
     },
     "output_type": "display_data"
    }
   ],
   "source": [
    "plot_beta_prior(2,2 )"
   ]
  },
  {
   "cell_type": "markdown",
   "metadata": {},
   "source": [
    "As mentioned above, we are having a Binomial likelihood:"
   ]
  },
  {
   "cell_type": "markdown",
   "metadata": {},
   "source": [
    "$p(m_i , n_i | w_i) = {n_i\\choose m_i} w_{i}^{m_i} (1 - w_i)^{n_i - m_i}$"
   ]
  },
  {
   "cell_type": "markdown",
   "metadata": {},
   "source": [
    "Creating a function that plots a binomial distribution:"
   ]
  },
  {
   "cell_type": "code",
   "execution_count": 764,
   "metadata": {},
   "outputs": [],
   "source": [
    "def plot_binomial_likelihood(n:int, w:float):\n",
    "\n",
    "    grid = np.arange(n_1)\n",
    "\n",
    "    fig,ax = plt.subplots(1,1, figsize=(10, 4),dpi=150)\n",
    "    ax.vlines(grid, 0, binom.pmf(grid, n, w))   \n"
   ]
  },
  {
   "cell_type": "markdown",
   "metadata": {},
   "source": [
    "For Gen.G, this looks like:"
   ]
  },
  {
   "cell_type": "code",
   "execution_count": 765,
   "metadata": {},
   "outputs": [
    {
     "data": {
      "image/png": "[encoded data removed]",
      "text/plain": [
       "<Figure size 1500x600 with 1 Axes>"
      ]
     },
     "metadata": {
      "needs_background": "light"
     },
     "output_type": "display_data"
    }
   ],
   "source": [
    "n_1 = win_stats.loc['Gen.G Challengers'].games_played\n",
    "w_1 = win_stats.loc['Gen.G Challengers'][['winrate%']]/100\n",
    "m_1 = win_stats.loc['Gen.G Challengers'].wins\n",
    "\n",
    "plot_binomial_likelihood(n_1, w_1)\n"
   ]
  },
  {
   "cell_type": "markdown",
   "metadata": {},
   "source": [
    "The Beta distribution is a conjugate prior for the Binomial distribution, which means that we can write down the posterior in the following closed form:"
   ]
  },
  {
   "cell_type": "markdown",
   "metadata": {},
   "source": [
    "$p(w_i | m_i , n_i ) = \\frac{(w_i)^{a - 1 + m_i} (1-w_i)^{b- 1+ n_i - m_i}}{B(a + m_i; b - n_i + m_i )}$"
   ]
  },
  {
   "cell_type": "markdown",
   "metadata": {},
   "source": [
    "Creating a function that plots the probability density function (PDF) of a posterior (beta distribution), which is parameterized by $a' = a + m_i$ and $b' = b - n_i + m_i$:"
   ]
  },
  {
   "cell_type": "code",
   "execution_count": 766,
   "metadata": {},
   "outputs": [],
   "source": [
    "def plot_beta_posterior_team(teams:list, a:int, b:int):\n",
    "    \"\"\"\n",
    "    Specify a list of teams whose posterior should plotted,\n",
    "    assuming prior Beta prior parameters a and b.\n",
    "\n",
    "    \"\"\"\n",
    "    jet= plt.get_cmap('jet')\n",
    "    colors = iter(jet(np.linspace(0,1,5)))\n",
    "    \n",
    "    fig, axs = plt.subplots(1,1, figsize=(10, 4),dpi=150)\n",
    "    \n",
    "    for team in range(len(teams)):\n",
    "        m_i = win_stats_formalized.filter(like=teams[team], axis=0).m_i\n",
    "        n_i = win_stats_formalized.filter(like=teams[team], axis=0).n_i \n",
    "\n",
    "        mm = np.linspace(0, 1, 100)\n",
    "        \n",
    "        axs.plot(mm, beta.pdf(mm, a + m_i, b + n_i - m_i ), label=teams[team])\n",
    "        axs.fill(mm, beta.pdf(mm, a + m_i, b + n_i - m_i ), alpha = 0.2)\n",
    "        axs.legend()\n",
    "\n",
    "        "
   ]
  },
  {
   "cell_type": "code",
   "execution_count": 767,
   "metadata": {},
   "outputs": [
    {
     "data": {
      "text/html": [
       "<div>\n",
       "<style scoped>\n",
       "    .dataframe tbody tr th:only-of-type {\n",
       "        vertical-align: middle;\n",
       "    }\n",
       "\n",
       "    .dataframe tbody tr th {\n",
       "        vertical-align: top;\n",
       "    }\n",
       "\n",
       "    .dataframe thead th {\n",
       "        text-align: right;\n",
       "    }\n",
       "</style>\n",
       "<table border=\"1\" class=\"dataframe\">\n",
       "  <thead>\n",
       "    <tr style=\"text-align: right;\">\n",
       "      <th></th>\n",
       "      <th>m_i</th>\n",
       "      <th>w_i</th>\n",
       "      <th>n_i</th>\n",
       "    </tr>\n",
       "    <tr>\n",
       "      <th>Team</th>\n",
       "      <th></th>\n",
       "      <th></th>\n",
       "      <th></th>\n",
       "    </tr>\n",
       "  </thead>\n",
       "  <tbody>\n",
       "    <tr>\n",
       "      <th>Gen.G Challengers</th>\n",
       "      <td>39</td>\n",
       "      <td>76</td>\n",
       "      <td>51</td>\n",
       "    </tr>\n",
       "    <tr>\n",
       "      <th>DWG KIA Challengers</th>\n",
       "      <td>27</td>\n",
       "      <td>75</td>\n",
       "      <td>36</td>\n",
       "    </tr>\n",
       "    <tr>\n",
       "      <th>Kwangdong Freecs Challengers</th>\n",
       "      <td>25</td>\n",
       "      <td>71</td>\n",
       "      <td>36</td>\n",
       "    </tr>\n",
       "    <tr>\n",
       "      <th>T1 Challengers</th>\n",
       "      <td>29</td>\n",
       "      <td>70</td>\n",
       "      <td>42</td>\n",
       "    </tr>\n",
       "    <tr>\n",
       "      <th>Nongshim RedForce Challengers</th>\n",
       "      <td>28</td>\n",
       "      <td>59</td>\n",
       "      <td>48</td>\n",
       "    </tr>\n",
       "    <tr>\n",
       "      <th>KT Rolster Challengers</th>\n",
       "      <td>27</td>\n",
       "      <td>57</td>\n",
       "      <td>48</td>\n",
       "    </tr>\n",
       "    <tr>\n",
       "      <th>Hanwha Life Esports Challengers</th>\n",
       "      <td>26</td>\n",
       "      <td>52</td>\n",
       "      <td>50</td>\n",
       "    </tr>\n",
       "    <tr>\n",
       "      <th>DRX Challengers</th>\n",
       "      <td>24</td>\n",
       "      <td>50</td>\n",
       "      <td>48</td>\n",
       "    </tr>\n",
       "    <tr>\n",
       "      <th>Liiv SANDBOX Challengers</th>\n",
       "      <td>21</td>\n",
       "      <td>47</td>\n",
       "      <td>46</td>\n",
       "    </tr>\n",
       "    <tr>\n",
       "      <th>Fredit BRION Challengers</th>\n",
       "      <td>17</td>\n",
       "      <td>45</td>\n",
       "      <td>39</td>\n",
       "    </tr>\n",
       "  </tbody>\n",
       "</table>\n",
       "</div>"
      ],
      "text/plain": [
       "                                 m_i  w_i  n_i\n",
       "Team                                          \n",
       "Gen.G Challengers                 39   76   51\n",
       "DWG KIA Challengers               27   75   36\n",
       "Kwangdong Freecs Challengers      25   71   36\n",
       "T1 Challengers                    29   70   42\n",
       "Nongshim RedForce Challengers     28   59   48\n",
       "KT Rolster Challengers            27   57   48\n",
       "Hanwha Life Esports Challengers   26   52   50\n",
       "DRX Challengers                   24   50   48\n",
       "Liiv SANDBOX Challengers          21   47   46\n",
       "Fredit BRION Challengers          17   45   39"
      ]
     },
     "execution_count": 767,
     "metadata": {},
     "output_type": "execute_result"
    }
   ],
   "source": [
    "win_stats_formalized = win_stats.rename(columns={\"wins\": \"m_i\", \"winrate%\": \"w_i\", \"games_played\": \"n_i\"})\n",
    "\n",
    "win_stats_formalized"
   ]
  },
  {
   "cell_type": "code",
   "execution_count": 768,
   "metadata": {},
   "outputs": [
    {
     "data": {
      "image/png": "[encoded data removed]",
      "text/plain": [
       "<Figure size 1500x600 with 1 Axes>"
      ]
     },
     "metadata": {
      "needs_background": "light"
     },
     "output_type": "display_data"
    }
   ],
   "source": [
    "teams = ['T1 Challengers', 'Nongshim RedForce Challengers', 'KT Rolster Challengers',\n",
    "'Hanwha Life Esports Challengers']\n",
    "\n",
    "plot_beta_posterior_team(teams, 2, 2)"
   ]
  },
  {
   "cell_type": "markdown",
   "metadata": {},
   "source": [
    "The posterior plots question the whole idea of splitting the data in groups. I have to admit that it also does not make a lot of sense. Later, in the notebook we will see that players have, independent of their team, a huge difference in winrates.\n",
    "Other than that, the analyst could also focus on metrics that show the team's fraction. Like that, we could check for the following hypotheses:\n",
    "\n",
    "- who is the most efficient player: who does most damage / yields highest KDA by needing the least amount of resources (gold / xp). Let us call these metrics gold efficiency. Like in soccer, goals are not everything, but having the top scorer of the league on your team definitely helps winning. First of all, damage and kill participation are clearly not the relevant metrics in every game. There are many scenarios that we can think off: for instance, it might be that a player performs horribly (low total damage, low KP) and just ends up playing one teamfight perfectly that wins the game for his team. Of course, at first glance, that player seemed to have made the difference, but if it wasn't for his teammates, who maybe consistently perform well, the team maybe would not have even been in the position, where he could shine. Nevertheless, on average, stakeholders should consider a player an extraordinary good player, who is able to consistently, on average, performing relatively well. \n",
    "\n",
    "- who is the best inlane: who performs well in terms of cs and xp, even though he does, potentially, counterpicked. In the early game (pre 10 minutes), the team influence is limited, as laners are mostly in isolated matchups."
   ]
  },
  {
   "cell_type": "markdown",
   "metadata": {},
   "source": [
    "To account for the bias in the KPIs (an ADC will deal more damage than a support) caused by positions, the data should be grouped by the position of the player. Or put everything in one plot and mark positions."
   ]
  },
  {
   "cell_type": "code",
   "execution_count": 769,
   "metadata": {},
   "outputs": [
    {
     "data": {
      "text/plain": [
       "5kid             ADC\n",
       "Asper        Support\n",
       "Baut         Support\n",
       "Berserker        ADC\n",
       "Bini             ADC\n",
       "              ...   \n",
       "Willer        Jungle\n",
       "SOLKA         Middle\n",
       "TaNa             Top\n",
       "Pleata       Support\n",
       "Bible        Support\n",
       "Name: position, Length: 80, dtype: object"
      ]
     },
     "execution_count": 769,
     "metadata": {},
     "output_type": "execute_result"
    }
   ],
   "source": [
    "agg_all.position"
   ]
  },
  {
   "cell_type": "code",
   "execution_count": 770,
   "metadata": {},
   "outputs": [
    {
     "data": {
      "text/html": [
       "<div>\n",
       "<style scoped>\n",
       "    .dataframe tbody tr th:only-of-type {\n",
       "        vertical-align: middle;\n",
       "    }\n",
       "\n",
       "    .dataframe tbody tr th {\n",
       "        vertical-align: top;\n",
       "    }\n",
       "\n",
       "    .dataframe thead th {\n",
       "        text-align: right;\n",
       "    }\n",
       "</style>\n",
       "<table border=\"1\" class=\"dataframe\">\n",
       "  <thead>\n",
       "    <tr style=\"text-align: right;\">\n",
       "      <th></th>\n",
       "      <th>KDA</th>\n",
       "      <th>total_kills</th>\n",
       "      <th>total_deaths</th>\n",
       "      <th>total_assists</th>\n",
       "      <th>KDA_custom</th>\n",
       "    </tr>\n",
       "  </thead>\n",
       "  <tbody>\n",
       "    <tr>\n",
       "      <th>Cruiser</th>\n",
       "      <td>1.500000</td>\n",
       "      <td>1</td>\n",
       "      <td>4</td>\n",
       "      <td>5</td>\n",
       "      <td>1.500000</td>\n",
       "    </tr>\n",
       "    <tr>\n",
       "      <th>Dice</th>\n",
       "      <td>3.500000</td>\n",
       "      <td>47</td>\n",
       "      <td>34</td>\n",
       "      <td>75</td>\n",
       "      <td>3.588235</td>\n",
       "    </tr>\n",
       "    <tr>\n",
       "      <th>Eign</th>\n",
       "      <td>2.633333</td>\n",
       "      <td>108</td>\n",
       "      <td>115</td>\n",
       "      <td>211</td>\n",
       "      <td>2.773913</td>\n",
       "    </tr>\n",
       "    <tr>\n",
       "      <th>FIESTA</th>\n",
       "      <td>2.433333</td>\n",
       "      <td>80</td>\n",
       "      <td>99</td>\n",
       "      <td>176</td>\n",
       "      <td>2.585859</td>\n",
       "    </tr>\n",
       "    <tr>\n",
       "      <th>Jool</th>\n",
       "      <td>3.050000</td>\n",
       "      <td>69</td>\n",
       "      <td>90</td>\n",
       "      <td>184</td>\n",
       "      <td>2.811111</td>\n",
       "    </tr>\n",
       "    <tr>\n",
       "      <th>Keine</th>\n",
       "      <td>3.433333</td>\n",
       "      <td>89</td>\n",
       "      <td>64</td>\n",
       "      <td>132</td>\n",
       "      <td>3.453125</td>\n",
       "    </tr>\n",
       "    <tr>\n",
       "      <th>Mask</th>\n",
       "      <td>4.200000</td>\n",
       "      <td>144</td>\n",
       "      <td>105</td>\n",
       "      <td>292</td>\n",
       "      <td>4.152381</td>\n",
       "    </tr>\n",
       "    <tr>\n",
       "      <th>Mireu</th>\n",
       "      <td>4.100000</td>\n",
       "      <td>149</td>\n",
       "      <td>124</td>\n",
       "      <td>300</td>\n",
       "      <td>3.620968</td>\n",
       "    </tr>\n",
       "    <tr>\n",
       "      <th>Ophelia</th>\n",
       "      <td>3.866667</td>\n",
       "      <td>56</td>\n",
       "      <td>50</td>\n",
       "      <td>156</td>\n",
       "      <td>4.240000</td>\n",
       "    </tr>\n",
       "    <tr>\n",
       "      <th>Roamer</th>\n",
       "      <td>4.100000</td>\n",
       "      <td>131</td>\n",
       "      <td>97</td>\n",
       "      <td>267</td>\n",
       "      <td>4.103093</td>\n",
       "    </tr>\n",
       "    <tr>\n",
       "      <th>Storm</th>\n",
       "      <td>1.400000</td>\n",
       "      <td>19</td>\n",
       "      <td>31</td>\n",
       "      <td>25</td>\n",
       "      <td>1.419355</td>\n",
       "    </tr>\n",
       "    <tr>\n",
       "      <th>TolanD</th>\n",
       "      <td>3.100000</td>\n",
       "      <td>114</td>\n",
       "      <td>120</td>\n",
       "      <td>283</td>\n",
       "      <td>3.308333</td>\n",
       "    </tr>\n",
       "    <tr>\n",
       "      <th>VicLa</th>\n",
       "      <td>2.775000</td>\n",
       "      <td>136</td>\n",
       "      <td>130</td>\n",
       "      <td>277</td>\n",
       "      <td>3.176923</td>\n",
       "    </tr>\n",
       "    <tr>\n",
       "      <th>BuLLDoG</th>\n",
       "      <td>8.000000</td>\n",
       "      <td>25</td>\n",
       "      <td>11</td>\n",
       "      <td>63</td>\n",
       "      <td>8.000000</td>\n",
       "    </tr>\n",
       "    <tr>\n",
       "      <th>Karis</th>\n",
       "      <td>5.700000</td>\n",
       "      <td>61</td>\n",
       "      <td>31</td>\n",
       "      <td>117</td>\n",
       "      <td>5.741935</td>\n",
       "    </tr>\n",
       "    <tr>\n",
       "      <th>Bay</th>\n",
       "      <td>3.550000</td>\n",
       "      <td>38</td>\n",
       "      <td>44</td>\n",
       "      <td>115</td>\n",
       "      <td>3.477273</td>\n",
       "    </tr>\n",
       "    <tr>\n",
       "      <th>SOLKA</th>\n",
       "      <td>3.500000</td>\n",
       "      <td>32</td>\n",
       "      <td>28</td>\n",
       "      <td>66</td>\n",
       "      <td>3.500000</td>\n",
       "    </tr>\n",
       "  </tbody>\n",
       "</table>\n",
       "</div>"
      ],
      "text/plain": [
       "              KDA  total_kills  total_deaths  total_assists  KDA_custom\n",
       "Cruiser  1.500000            1             4              5    1.500000\n",
       "Dice     3.500000           47            34             75    3.588235\n",
       "Eign     2.633333          108           115            211    2.773913\n",
       "FIESTA   2.433333           80            99            176    2.585859\n",
       "Jool     3.050000           69            90            184    2.811111\n",
       "Keine    3.433333           89            64            132    3.453125\n",
       "Mask     4.200000          144           105            292    4.152381\n",
       "Mireu    4.100000          149           124            300    3.620968\n",
       "Ophelia  3.866667           56            50            156    4.240000\n",
       "Roamer   4.100000          131            97            267    4.103093\n",
       "Storm    1.400000           19            31             25    1.419355\n",
       "TolanD   3.100000          114           120            283    3.308333\n",
       "VicLa    2.775000          136           130            277    3.176923\n",
       "BuLLDoG  8.000000           25            11             63    8.000000\n",
       "Karis    5.700000           61            31            117    5.741935\n",
       "Bay      3.550000           38            44            115    3.477273\n",
       "SOLKA    3.500000           32            28             66    3.500000"
      ]
     },
     "execution_count": 770,
     "metadata": {},
     "output_type": "execute_result"
    }
   ],
   "source": [
    "Middle = agg_all.query('position == \"Middle\"')\n",
    "\n",
    "Middle[['KDA', 'total_kills', 'total_deaths', 'total_assists']].assign(KDA_custom =\n",
    " (Middle['total_kills'] + Middle['total_assists'])/Middle['total_deaths'])"
   ]
  },
  {
   "cell_type": "code",
   "execution_count": 771,
   "metadata": {},
   "outputs": [
    {
     "data": {
      "text/plain": [
       "Index(['Team', 'position', 'games_played', 'total_kills', 'total_deaths',\n",
       "       'total_assists', 'num_neutral_obj_stolen', 'winrate%',\n",
       "       'pick_after_opponent%', 'KDA', 'kill_assist_participation%',\n",
       "       'kill_participation%', 'average_share_teams_deaths%',\n",
       "       'first_blood_participation_rate%', 'average_gold_diff_10_min',\n",
       "       'average_xp_diff_10_min', 'average_cs_diff_10_min', 'average_CSPM',\n",
       "       'average_share_team_cs_post_15_min%', 'average_DPM_to_champs',\n",
       "       'average_share_team_DMG_to_champs%',\n",
       "       'average_share_team_DMG_to_champs_post_15_min%', 'average_gold_per_min',\n",
       "       'average_share_team_gold%', 'average_wards_per_min',\n",
       "       'average_wards_cleared_per_min'],\n",
       "      dtype='object')"
      ]
     },
     "execution_count": 771,
     "metadata": {},
     "output_type": "execute_result"
    }
   ],
   "source": [
    "Middle.columns"
   ]
  },
  {
   "cell_type": "code",
   "execution_count": 772,
   "metadata": {},
   "outputs": [
    {
     "data": {
      "text/html": [
       "<div>\n",
       "<style scoped>\n",
       "    .dataframe tbody tr th:only-of-type {\n",
       "        vertical-align: middle;\n",
       "    }\n",
       "\n",
       "    .dataframe tbody tr th {\n",
       "        vertical-align: top;\n",
       "    }\n",
       "\n",
       "    .dataframe thead th {\n",
       "        text-align: right;\n",
       "    }\n",
       "</style>\n",
       "<table border=\"1\" class=\"dataframe\">\n",
       "  <thead>\n",
       "    <tr style=\"text-align: right;\">\n",
       "      <th></th>\n",
       "      <th>kill_assist_participation%</th>\n",
       "      <th>average_share_teams_deaths%</th>\n",
       "    </tr>\n",
       "  </thead>\n",
       "  <tbody>\n",
       "    <tr>\n",
       "      <th>Cruiser</th>\n",
       "      <td>85.68750</td>\n",
       "      <td>18.203125</td>\n",
       "    </tr>\n",
       "    <tr>\n",
       "      <th>Dice</th>\n",
       "      <td>64.37500</td>\n",
       "      <td>24.593750</td>\n",
       "    </tr>\n",
       "    <tr>\n",
       "      <th>Eign</th>\n",
       "      <td>61.96875</td>\n",
       "      <td>20.437500</td>\n",
       "    </tr>\n",
       "    <tr>\n",
       "      <th>FIESTA</th>\n",
       "      <td>77.75000</td>\n",
       "      <td>17.031250</td>\n",
       "    </tr>\n",
       "    <tr>\n",
       "      <th>Jool</th>\n",
       "      <td>68.25000</td>\n",
       "      <td>18.796875</td>\n",
       "    </tr>\n",
       "    <tr>\n",
       "      <th>Keine</th>\n",
       "      <td>68.12500</td>\n",
       "      <td>18.734375</td>\n",
       "    </tr>\n",
       "    <tr>\n",
       "      <th>Mask</th>\n",
       "      <td>70.37500</td>\n",
       "      <td>16.437500</td>\n",
       "    </tr>\n",
       "    <tr>\n",
       "      <th>Mireu</th>\n",
       "      <td>71.87500</td>\n",
       "      <td>24.703125</td>\n",
       "    </tr>\n",
       "    <tr>\n",
       "      <th>Ophelia</th>\n",
       "      <td>65.50000</td>\n",
       "      <td>17.531250</td>\n",
       "    </tr>\n",
       "    <tr>\n",
       "      <th>Roamer</th>\n",
       "      <td>75.06250</td>\n",
       "      <td>17.796875</td>\n",
       "    </tr>\n",
       "    <tr>\n",
       "      <th>Storm</th>\n",
       "      <td>60.31250</td>\n",
       "      <td>20.500000</td>\n",
       "    </tr>\n",
       "    <tr>\n",
       "      <th>TolanD</th>\n",
       "      <td>68.93750</td>\n",
       "      <td>21.718750</td>\n",
       "    </tr>\n",
       "    <tr>\n",
       "      <th>VicLa</th>\n",
       "      <td>62.09375</td>\n",
       "      <td>22.328125</td>\n",
       "    </tr>\n",
       "    <tr>\n",
       "      <th>BuLLDoG</th>\n",
       "      <td>74.62500</td>\n",
       "      <td>15.703125</td>\n",
       "    </tr>\n",
       "    <tr>\n",
       "      <th>Karis</th>\n",
       "      <td>66.12500</td>\n",
       "      <td>18.203125</td>\n",
       "    </tr>\n",
       "    <tr>\n",
       "      <th>Bay</th>\n",
       "      <td>71.87500</td>\n",
       "      <td>20.156250</td>\n",
       "    </tr>\n",
       "    <tr>\n",
       "      <th>SOLKA</th>\n",
       "      <td>70.00000</td>\n",
       "      <td>18.750000</td>\n",
       "    </tr>\n",
       "  </tbody>\n",
       "</table>\n",
       "</div>"
      ],
      "text/plain": [
       "         kill_assist_participation%  average_share_teams_deaths%\n",
       "Cruiser                    85.68750                    18.203125\n",
       "Dice                       64.37500                    24.593750\n",
       "Eign                       61.96875                    20.437500\n",
       "FIESTA                     77.75000                    17.031250\n",
       "Jool                       68.25000                    18.796875\n",
       "Keine                      68.12500                    18.734375\n",
       "Mask                       70.37500                    16.437500\n",
       "Mireu                      71.87500                    24.703125\n",
       "Ophelia                    65.50000                    17.531250\n",
       "Roamer                     75.06250                    17.796875\n",
       "Storm                      60.31250                    20.500000\n",
       "TolanD                     68.93750                    21.718750\n",
       "VicLa                      62.09375                    22.328125\n",
       "BuLLDoG                    74.62500                    15.703125\n",
       "Karis                      66.12500                    18.203125\n",
       "Bay                        71.87500                    20.156250\n",
       "SOLKA                      70.00000                    18.750000"
      ]
     },
     "execution_count": 772,
     "metadata": {},
     "output_type": "execute_result"
    }
   ],
   "source": [
    "Middle[['kill_assist_participation%', 'average_share_teams_deaths%']]"
   ]
  },
  {
   "cell_type": "markdown",
   "metadata": {},
   "source": [
    "General gold efficiency. Multiply by fraction of maximum amount of games played in that position to account for the uncertainty by less games played. Or adjust thickness of scatter points (the thicker, the more games played). "
   ]
  },
  {
   "cell_type": "code",
   "execution_count": 773,
   "metadata": {},
   "outputs": [],
   "source": [
    "agg_all = agg_all.assign(DPM_per_gold = agg_all['average_share_team_DMG_to_champs%']/agg_all['average_share_team_gold%'])\n",
    "agg_all = agg_all.assign(Net_KP_per_gold = (agg_all['kill_assist_participation%'] - agg_all['average_share_teams_deaths%']) /agg_all['average_share_team_gold%'])\n",
    "agg_all = agg_all.assign(Gold_efficiency = agg_all['DPM_per_gold'] + agg_all['Net_KP_per_gold'])"
   ]
  },
  {
   "cell_type": "markdown",
   "metadata": {},
   "source": [
    "$ge = \\frac{dmg \\%}{gold \\%} + \\frac{KA \\% - D \\%}{gold \\%} $\n",
    "Stupid, as dpm get weighed much more!"
   ]
  },
  {
   "cell_type": "code",
   "execution_count": 774,
   "metadata": {},
   "outputs": [
    {
     "data": {
      "text/plain": [
       "Index(['Team', 'position', 'games_played', 'total_kills', 'total_deaths',\n",
       "       'total_assists', 'num_neutral_obj_stolen', 'winrate%',\n",
       "       'pick_after_opponent%', 'KDA', 'kill_assist_participation%',\n",
       "       'kill_participation%', 'average_share_teams_deaths%',\n",
       "       'first_blood_participation_rate%', 'average_gold_diff_10_min',\n",
       "       'average_xp_diff_10_min', 'average_cs_diff_10_min', 'average_CSPM',\n",
       "       'average_share_team_cs_post_15_min%', 'average_DPM_to_champs',\n",
       "       'average_share_team_DMG_to_champs%',\n",
       "       'average_share_team_DMG_to_champs_post_15_min%', 'average_gold_per_min',\n",
       "       'average_share_team_gold%', 'average_wards_per_min',\n",
       "       'average_wards_cleared_per_min'],\n",
       "      dtype='object')"
      ]
     },
     "execution_count": 774,
     "metadata": {},
     "output_type": "execute_result"
    }
   ],
   "source": [
    "Middle.columns"
   ]
  },
  {
   "cell_type": "code",
   "execution_count": 775,
   "metadata": {},
   "outputs": [
    {
     "data": {
      "text/html": [
       "<div>\n",
       "<style scoped>\n",
       "    .dataframe tbody tr th:only-of-type {\n",
       "        vertical-align: middle;\n",
       "    }\n",
       "\n",
       "    .dataframe tbody tr th {\n",
       "        vertical-align: top;\n",
       "    }\n",
       "\n",
       "    .dataframe thead th {\n",
       "        text-align: right;\n",
       "    }\n",
       "</style>\n",
       "<table border=\"1\" class=\"dataframe\">\n",
       "  <thead>\n",
       "    <tr style=\"text-align: right;\">\n",
       "      <th></th>\n",
       "      <th>pick_after_opponent%</th>\n",
       "      <th>games_played</th>\n",
       "    </tr>\n",
       "  </thead>\n",
       "  <tbody>\n",
       "    <tr>\n",
       "      <th>Cruiser</th>\n",
       "      <td>0.00000</td>\n",
       "      <td>1</td>\n",
       "    </tr>\n",
       "    <tr>\n",
       "      <th>Dice</th>\n",
       "      <td>50.00000</td>\n",
       "      <td>12</td>\n",
       "    </tr>\n",
       "    <tr>\n",
       "      <th>Eign</th>\n",
       "      <td>69.31250</td>\n",
       "      <td>37</td>\n",
       "    </tr>\n",
       "    <tr>\n",
       "      <th>FIESTA</th>\n",
       "      <td>76.68750</td>\n",
       "      <td>31</td>\n",
       "    </tr>\n",
       "    <tr>\n",
       "      <th>Jool</th>\n",
       "      <td>39.00000</td>\n",
       "      <td>36</td>\n",
       "    </tr>\n",
       "    <tr>\n",
       "      <th>Keine</th>\n",
       "      <td>42.34375</td>\n",
       "      <td>28</td>\n",
       "    </tr>\n",
       "    <tr>\n",
       "      <th>Mask</th>\n",
       "      <td>62.34375</td>\n",
       "      <td>50</td>\n",
       "    </tr>\n",
       "    <tr>\n",
       "      <th>Mireu</th>\n",
       "      <td>42.65625</td>\n",
       "      <td>42</td>\n",
       "    </tr>\n",
       "    <tr>\n",
       "      <th>Ophelia</th>\n",
       "      <td>49.00000</td>\n",
       "      <td>23</td>\n",
       "    </tr>\n",
       "    <tr>\n",
       "      <th>Roamer</th>\n",
       "      <td>48.50000</td>\n",
       "      <td>39</td>\n",
       "    </tr>\n",
       "    <tr>\n",
       "      <th>Storm</th>\n",
       "      <td>22.00000</td>\n",
       "      <td>9</td>\n",
       "    </tr>\n",
       "    <tr>\n",
       "      <th>TolanD</th>\n",
       "      <td>46.25000</td>\n",
       "      <td>45</td>\n",
       "    </tr>\n",
       "    <tr>\n",
       "      <th>VicLa</th>\n",
       "      <td>36.00000</td>\n",
       "      <td>48</td>\n",
       "    </tr>\n",
       "    <tr>\n",
       "      <th>BuLLDoG</th>\n",
       "      <td>57.00000</td>\n",
       "      <td>7</td>\n",
       "    </tr>\n",
       "    <tr>\n",
       "      <th>Karis</th>\n",
       "      <td>66.00000</td>\n",
       "      <td>16</td>\n",
       "    </tr>\n",
       "    <tr>\n",
       "      <th>Bay</th>\n",
       "      <td>36.00000</td>\n",
       "      <td>17</td>\n",
       "    </tr>\n",
       "    <tr>\n",
       "      <th>SOLKA</th>\n",
       "      <td>55.00000</td>\n",
       "      <td>11</td>\n",
       "    </tr>\n",
       "  </tbody>\n",
       "</table>\n",
       "</div>"
      ],
      "text/plain": [
       "         pick_after_opponent%  games_played\n",
       "Cruiser               0.00000             1\n",
       "Dice                 50.00000            12\n",
       "Eign                 69.31250            37\n",
       "FIESTA               76.68750            31\n",
       "Jool                 39.00000            36\n",
       "Keine                42.34375            28\n",
       "Mask                 62.34375            50\n",
       "Mireu                42.65625            42\n",
       "Ophelia              49.00000            23\n",
       "Roamer               48.50000            39\n",
       "Storm                22.00000             9\n",
       "TolanD               46.25000            45\n",
       "VicLa                36.00000            48\n",
       "BuLLDoG              57.00000             7\n",
       "Karis                66.00000            16\n",
       "Bay                  36.00000            17\n",
       "SOLKA                55.00000            11"
      ]
     },
     "execution_count": 775,
     "metadata": {},
     "output_type": "execute_result"
    }
   ],
   "source": [
    "Middle[['pick_after_opponent%','games_played']]"
   ]
  },
  {
   "cell_type": "code",
   "execution_count": 776,
   "metadata": {},
   "outputs": [],
   "source": [
    "#first_blood_participation_rate%,\n",
    "# average_gold_diff_10_min, average_xp_diff_10_min,\n",
    "#  average_cs_diff_10_min, first_blood_participation_rate%,\n",
    "#  pick_after_opponent # counter pick possibility"
   ]
  },
  {
   "cell_type": "markdown",
   "metadata": {},
   "source": [
    "### Creating early game performance metrics"
   ]
  },
  {
   "cell_type": "markdown",
   "metadata": {},
   "source": [
    "In the early game, i.e. in the first 10 minutes of the game, the team's influence is rather limited, as most matchups are isolated. Of course, early plays happen. Let's assume that independently of the team, these events have the same probability for every team, which means that we can disregard it. Added to that, beside the first dragon, no neutral objectives, except for jungle camps, are available. Therefore, it can be concluded that accumulating resources can not be associated with high opportunity cost. "
   ]
  },
  {
   "cell_type": "code",
   "execution_count": 777,
   "metadata": {},
   "outputs": [],
   "source": [
    "agg_all = agg_all.assign()"
   ]
  },
  {
   "cell_type": "markdown",
   "metadata": {},
   "source": [
    "### Create plots"
   ]
  },
  {
   "cell_type": "markdown",
   "metadata": {},
   "source": [
    "Define team logo urls"
   ]
  },
  {
   "cell_type": "code",
   "execution_count": 779,
   "metadata": {},
   "outputs": [],
   "source": [
    "t1_img = pd.Series('https://cdn1.dotesports.com/wp-content/uploads/2019/10/08064645/image-7.png')\n",
    "kt_img = pd.Series('https://scontent-frt3-1.xx.fbcdn.net/v/t1.18169-9/12729350_1291829277510939_5501539112801543611_n.png?_nc_cat=107&ccb=1-5&_nc_sid=973b4a&_nc_ohc=sOjAVFCJPhYAX99tkzC&_nc_ht=scontent-frt3-1.xx&oh=00_AT-ZOo1WcpOGTP2gvDxcc1JRhuqlw-GtTMGdG_HsvTk3kw&oe=622282B6')\n",
    "nonghshim_img = pd.Series('https://pbs.twimg.com/profile_images/1397150687427895299/v0aDiUPe_400x400.jpg')\n",
    "drx_img = pd.Series('https://api.sofascore.com/api/v1/team/364017/image')\n",
    "dwg_img = pd.Series('https://static.invenglobal.com/upload/image/2021/01/26/o1611641144974891.jpeg')\n",
    "gen_img = pd.Series('https://cdn1.dotesports.com/wp-content/uploads/2021/02/15173303/geng.png')\n",
    "fred_img = pd.Series('https://api.sofascore.app/api/v1/team/372615/image')\n",
    "hanwha_img = pd.Series('https://api.sofascore.com/api/v1/team/364492/image')\n",
    "kwang_img = pd.Series('https://api.sofascore.app/api/v1/team/405273/image')\n",
    "sand_img = pd.Series('https://cdn0.gamesports.net/edb_team_logos/24000/24147.png?1608560414')\n",
    "\n",
    "logos = pd.concat([kt_img, t1_img, hanwha_img, fred_img, nonghshim_img, kwang_img, dwg_img, drx_img, sand_img, gen_img])\n",
    "\n",
    "\n",
    "\n",
    "teams = pd.unique(agg_all[['Team']].values.ravel())\n",
    "teams_logos = pd.DataFrame({'Team': teams, 'Image_SRC': logos})\n",
    "\n",
    "agg_all = agg_all.rename_axis('Player').reset_index().merge(teams_logos, how = 'inner', on = ['Team'])"
   ]
  },
  {
   "cell_type": "markdown",
   "metadata": {},
   "source": [
    "Plot for paper (no image hover)"
   ]
  },
  {
   "cell_type": "code",
   "execution_count": 781,
   "metadata": {},
   "outputs": [
    {
     "data": {
      "application/vnd.plotly.v1+json": {
       "config": {
        "plotlyServerURL": "https://plot.ly"
       },
       "data": [
        {
         "customdata": [
          [
           "KT Rolster Challengers",
           17,
           29.328125
          ],
          [
           "KT Rolster Challengers",
           7,
           57
          ],
          [
           "KT Rolster Challengers",
           24,
           48.5
          ],
          [
           "T1 Challengers",
           42,
           70.3125
          ],
          [
           "Hanwha Life Esports Challengers",
           50,
           51.65625
          ],
          [
           "Fredit BRION Challengers",
           39,
           43.5
          ],
          [
           "Nongshim RedForce Challengers",
           31,
           58.34375
          ],
          [
           "Nongshim RedForce Challengers",
           28,
           53
          ],
          [
           "Kwangdong Freecs Challengers",
           33,
           40.34375
          ],
          [
           "DWG KIA Challengers",
           27,
           22
          ],
          [
           "DWG KIA Challengers",
           8,
           75
          ],
          [
           "DRX Challengers",
           32,
           50
          ],
          [
           "DRX Challengers",
           16,
           42.5
          ],
          [
           "Liiv SANDBOX Challengers",
           29,
           40.65625
          ],
          [
           "Liiv SANDBOX Challengers",
           17,
           27.671875
          ],
          [
           "Gen.G Challengers",
           51,
           63.25
          ]
         ],
         "hovertemplate": "<b>%{hovertext}</b><br><br>position=ADC<br>DPM_per_gold=%{x}<br>Net_KP_per_gold=%{y}<br>games_played=%{customdata[1]}<br>Team=%{customdata[0]}<br>winrate%=%{customdata[2]}<extra></extra>",
         "hovertext": [
          "5kid",
          "Noah",
          "HyBriD",
          "Berserker",
          "Cheoni",
          "Bini",
          "Bull",
          "vital",
          "Valkyrie",
          "Junmin",
          "Rahel",
          "Taeyoon",
          "BAO",
          "Ice",
          "KingKong",
          "Envyy"
         ],
         "legendgroup": "ADC",
         "line": {
          "color": "Black",
          "width": 2
         },
         "marker": {
          "color": "#636efa",
          "size": [
           17,
           7,
           24,
           42,
           50,
           39,
           31,
           28,
           33,
           27,
           8,
           32,
           16,
           29,
           17,
           51
          ],
          "sizemode": "area",
          "sizeref": 0.1275,
          "symbol": "circle-dot"
         },
         "mode": "markers",
         "name": "ADC",
         "orientation": "v",
         "showlegend": true,
         "type": "scatter",
         "x": [
          1.0498046875,
          0.90625,
          1.185546875,
          1.025390625,
          1.033203125,
          0.99560546875,
          0.89453125,
          1.03515625,
          1.0947265625,
          0.7802734375,
          0.97607421875,
          1.013671875,
          1.1484375,
          0.92822265625,
          1.1640625,
          1.05859375
         ],
         "xaxis": "x",
         "y": [
          1.8349609375,
          1.7880859375,
          1.9501953125,
          1.974609375,
          1.9228515625,
          2.06640625,
          1.9384765625,
          2.115234375,
          2.115234375,
          1.5126953125,
          1.8095703125,
          1.9990234375,
          2.00390625,
          2.076171875,
          1.546875,
          1.8046875
         ],
         "yaxis": "y"
        },
        {
         "customdata": [
          [
           "KT Rolster Challengers",
           48,
           37.5
          ],
          [
           "T1 Challengers",
           42,
           70.3125
          ],
          [
           "Hanwha Life Esports Challengers",
           50,
           51.65625
          ],
          [
           "Fredit BRION Challengers",
           19,
           42
          ],
          [
           "Fredit BRION Challengers",
           20,
           45
          ],
          [
           "Nongshim RedForce Challengers",
           48,
           50.34375
          ],
          [
           "Kwangdong Freecs Challengers",
           18,
           11
          ],
          [
           "Kwangdong Freecs Challengers",
           26,
           58.5
          ],
          [
           "DWG KIA Challengers",
           27,
           30.5
          ],
          [
           "DWG KIA Challengers",
           9,
           44
          ],
          [
           "DRX Challengers",
           48,
           46.75
          ],
          [
           "Liiv SANDBOX Challengers",
           16,
           35.5
          ],
          [
           "Liiv SANDBOX Challengers",
           30,
           39.25
          ],
          [
           "Gen.G Challengers",
           51,
           63.25
          ]
         ],
         "hovertemplate": "<b>%{hovertext}</b><br><br>position=Top<br>DPM_per_gold=%{x}<br>Net_KP_per_gold=%{y}<br>games_played=%{customdata[1]}<br>Team=%{customdata[0]}<br>winrate%=%{customdata[2]}<extra></extra>",
         "hovertext": [
          "Castle",
          "Roach",
          "Riss",
          "Lukalux",
          "TaNa",
          "DnDn",
          "Trap",
          "IlllIma",
          "Chasy",
          "Thanatos",
          "Clear",
          "Howling",
          "Photon",
          "Lonely"
         ],
         "legendgroup": "Top",
         "line": {
          "color": "Black",
          "width": 2
         },
         "marker": {
          "color": "#EF553B",
          "size": [
           48,
           42,
           50,
           19,
           20,
           48,
           18,
           26,
           27,
           9,
           48,
           16,
           30,
           51
          ],
          "sizemode": "area",
          "sizeref": 0.1275,
          "symbol": "circle-dot"
         },
         "mode": "markers",
         "name": "Top",
         "orientation": "v",
         "showlegend": true,
         "type": "scatter",
         "x": [
          0.94287109375,
          1.0419921875,
          0.98779296875,
          1.0224609375,
          0.92578125,
          1.1103515625,
          1.1416015625,
          1.0185546875,
          1.2666015625,
          1.0830078125,
          0.9658203125,
          0.869140625,
          1.134765625,
          1.048828125
         ],
         "xaxis": "x2",
         "y": [
          1.6943359375,
          1.9326171875,
          1.55859375,
          1.798828125,
          1.7001953125,
          1.990234375,
          1.75390625,
          1.5537109375,
          2.134765625,
          1.2861328125,
          1.916015625,
          1.8642578125,
          1.740234375,
          1.8984375
         ],
         "yaxis": "y2"
        },
        {
         "customdata": [
          [
           "KT Rolster Challengers",
           9,
           56
          ],
          [
           "KT Rolster Challengers",
           39,
           37.5
          ],
          [
           "T1 Challengers",
           42,
           70.3125
          ],
          [
           "Hanwha Life Esports Challengers",
           40,
           52.34375
          ],
          [
           "Hanwha Life Esports Challengers",
           10,
           40
          ],
          [
           "Fredit BRION Challengers",
           39,
           43.5
          ],
          [
           "Nongshim RedForce Challengers",
           25,
           40
          ],
          [
           "Nongshim RedForce Challengers",
           23,
           53
          ],
          [
           "Kwangdong Freecs Challengers",
           18,
           11
          ],
          [
           "Kwangdong Freecs Challengers",
           26,
           58.5
          ],
          [
           "DWG KIA Challengers",
           18,
           33
          ],
          [
           "DWG KIA Challengers",
           18,
           39
          ],
          [
           "DRX Challengers",
           48,
           46.75
          ],
          [
           "Liiv SANDBOX Challengers",
           46,
           40.5
          ],
          [
           "Gen.G Challengers",
           35,
           60.34375
          ],
          [
           "Gen.G Challengers",
           16,
           76.5
          ]
         ],
         "hovertemplate": "<b>%{hovertext}</b><br><br>position=Jungle<br>DPM_per_gold=%{x}<br>Net_KP_per_gold=%{y}<br>games_played=%{customdata[1]}<br>Team=%{customdata[0]}<br>winrate%=%{customdata[2]}<extra></extra>",
         "hovertext": [
          "GIDEON",
          "PangSu",
          "Mowgli",
          "CaD",
          "Willer",
          "Jin0",
          "Sylvie",
          "Juhan",
          "Burry",
          "Citrus",
          "Malrang",
          "Lucid",
          "Peach",
          "Seize",
          "YoungJae",
          "Flawless"
         ],
         "legendgroup": "Jungle",
         "line": {
          "color": "Black",
          "width": 2
         },
         "marker": {
          "color": "#00cc96",
          "size": [
           9,
           39,
           42,
           40,
           10,
           39,
           25,
           23,
           18,
           26,
           18,
           18,
           48,
           46,
           35,
           16
          ],
          "sizemode": "area",
          "sizeref": 0.1275,
          "symbol": "circle-dot"
         },
         "mode": "markers",
         "name": "Jungle",
         "orientation": "v",
         "showlegend": true,
         "type": "scatter",
         "x": [
          0.92333984375,
          0.830078125,
          0.8603515625,
          0.74365234375,
          0.9248046875,
          0.955078125,
          0.748046875,
          0.9267578125,
          0.80322265625,
          0.94189453125,
          0.9658203125,
          0.94091796875,
          0.935546875,
          0.94677734375,
          0.9521484375,
          0.8955078125
         ],
         "xaxis": "x3",
         "y": [
          2.513671875,
          3.1640625,
          2.927734375,
          2.138671875,
          2.802734375,
          2.6328125,
          2.73828125,
          2.712890625,
          3.5625,
          2.830078125,
          2.935546875,
          2.92578125,
          2.078125,
          2.8359375,
          3.06640625,
          2.634765625
         ],
         "yaxis": "y3"
        },
        {
         "customdata": [
          [
           "KT Rolster Challengers",
           18,
           29.5
          ],
          [
           "KT Rolster Challengers",
           30,
           23.5
          ],
          [
           "T1 Challengers",
           42,
           70.3125
          ],
          [
           "Hanwha Life Esports Challengers",
           50,
           51.65625
          ],
          [
           "Fredit BRION Challengers",
           39,
           43.5
          ],
          [
           "Nongshim RedForce Challengers",
           48,
           50.34375
          ],
          [
           "Kwangdong Freecs Challengers",
           8,
           13
          ],
          [
           "Kwangdong Freecs Challengers",
           36,
           42.34375
          ],
          [
           "DWG KIA Challengers",
           10,
           11
          ],
          [
           "DWG KIA Challengers",
           3,
           67
          ],
          [
           "DWG KIA Challengers",
           11,
           16.5
          ],
          [
           "DWG KIA Challengers",
           13,
           54
          ],
          [
           "DRX Challengers",
           32,
           50
          ],
          [
           "DRX Challengers",
           16,
           42.5
          ],
          [
           "Liiv SANDBOX Challengers",
           30,
           47
          ],
          [
           "Liiv SANDBOX Challengers",
           16,
           32.34375
          ],
          [
           "Gen.G Challengers",
           51,
           63.25
          ]
         ],
         "hovertemplate": "<b>%{hovertext}</b><br><br>position=Support<br>DPM_per_gold=%{x}<br>Net_KP_per_gold=%{y}<br>games_played=%{customdata[1]}<br>Team=%{customdata[0]}<br>winrate%=%{customdata[2]}<extra></extra>",
         "hovertext": [
          "Harp",
          "Rebel",
          "Asper",
          "Baut",
          "JeongHoon",
          "Yusin",
          "MapSSi",
          "Minit",
          "Cow",
          "Keshi",
          "Muru",
          "Bible",
          "Jun",
          "Pleata",
          "Kabbie",
          "Prove",
          "Kael"
         ],
         "legendgroup": "Support",
         "line": {
          "color": "Black",
          "width": 2
         },
         "marker": {
          "color": "#ab63fa",
          "size": [
           18,
           30,
           42,
           50,
           39,
           48,
           8,
           36,
           10,
           3,
           11,
           13,
           32,
           16,
           30,
           16,
           51
          ],
          "sizemode": "area",
          "sizeref": 0.1275,
          "symbol": "circle-dot"
         },
         "mode": "markers",
         "name": "Support",
         "orientation": "v",
         "showlegend": true,
         "type": "scatter",
         "x": [
          1.0810546875,
          0.96630859375,
          0.83203125,
          0.794921875,
          1.015625,
          0.75830078125,
          1.1611328125,
          0.82080078125,
          0.91455078125,
          1.20703125,
          0.9306640625,
          0.90673828125,
          0.85302734375,
          1.087890625,
          0.96484375,
          0.74560546875,
          0.9072265625
         ],
         "xaxis": "x4",
         "y": [
          5.078125,
          6.27734375,
          5.01171875,
          5.3515625,
          4.5234375,
          4.984375,
          5.7109375,
          5.34765625,
          1.18359375,
          4.5859375,
          4.7578125,
          3.873046875,
          4.49609375,
          6.62890625,
          4.63671875,
          5.703125,
          5.515625
         ],
         "yaxis": "y4"
        },
        {
         "customdata": [
          [
           "KT Rolster Challengers",
           48,
           37.5
          ],
          [
           "T1 Challengers",
           42,
           70.3125
          ],
          [
           "Hanwha Life Esports Challengers",
           50,
           51.65625
          ],
          [
           "Fredit BRION Challengers",
           39,
           43.5
          ],
          [
           "Nongshim RedForce Challengers",
           31,
           31.671875
          ],
          [
           "Nongshim RedForce Challengers",
           17,
           59.5
          ],
          [
           "Kwangdong Freecs Challengers",
           28,
           41.65625
          ],
          [
           "Kwangdong Freecs Challengers",
           9,
           11
          ],
          [
           "Kwangdong Freecs Challengers",
           7,
           71
          ],
          [
           "DWG KIA Challengers",
           36,
           36
          ],
          [
           "DRX Challengers",
           37,
           48.65625
          ],
          [
           "DRX Challengers",
           11,
           45
          ],
          [
           "Liiv SANDBOX Challengers",
           1,
           0
          ],
          [
           "Liiv SANDBOX Challengers",
           45,
           41.25
          ],
          [
           "Gen.G Challengers",
           12,
           62.5
          ],
          [
           "Gen.G Challengers",
           23,
           60
          ],
          [
           "Gen.G Challengers",
           16,
           76.5
          ]
         ],
         "hovertemplate": "<b>%{hovertext}</b><br><br>position=Middle<br>DPM_per_gold=%{x}<br>Net_KP_per_gold=%{y}<br>games_played=%{customdata[1]}<br>Team=%{customdata[0]}<br>winrate%=%{customdata[2]}<extra></extra>",
         "hovertext": [
          "VicLa",
          "Mireu",
          "Mask",
          "Roamer",
          "FIESTA",
          "Bay",
          "Keine",
          "Storm",
          "BuLLDoG",
          "Jool",
          "Eign",
          "SOLKA",
          "Cruiser",
          "TolanD",
          "Dice",
          "Ophelia",
          "Karis"
         ],
         "legendgroup": "Middle",
         "line": {
          "color": "Black",
          "width": 2
         },
         "marker": {
          "color": "#FFA15A",
          "size": [
           48,
           42,
           50,
           39,
           31,
           17,
           28,
           9,
           7,
           36,
           37,
           11,
           1,
           45,
           12,
           23,
           16
          ],
          "sizemode": "area",
          "sizeref": 0.1275,
          "symbol": "circle-dot"
         },
         "mode": "markers",
         "name": "Middle",
         "orientation": "v",
         "showlegend": true,
         "type": "scatter",
         "x": [
          1.1533203125,
          1.1171875,
          1.2158203125,
          1.0654296875,
          1.166015625,
          1.041015625,
          1.0849609375,
          0.9091796875,
          0.96533203125,
          1.0546875,
          1.0712890625,
          0.9775390625,
          0.61572265625,
          1.138671875,
          0.96630859375,
          0.9091796875,
          1.078125
         ],
         "xaxis": "x5",
         "y": [
          1.7568359375,
          2.12890625,
          2.16015625,
          2.400390625,
          2.583984375,
          2.451171875,
          2.00390625,
          1.7236328125,
          2.552734375,
          2.255859375,
          1.9345703125,
          2.095703125,
          3.552734375,
          1.9677734375,
          1.7880859375,
          2.09765625,
          2.03515625
         ],
         "yaxis": "y5"
        }
       ],
       "layout": {
        "annotations": [
         {
          "font": {},
          "showarrow": false,
          "text": "position=ADC",
          "x": 0.09200000000000001,
          "xanchor": "center",
          "xref": "paper",
          "y": 1,
          "yanchor": "bottom",
          "yref": "paper"
         },
         {
          "font": {},
          "showarrow": false,
          "text": "position=Top",
          "x": 0.29600000000000004,
          "xanchor": "center",
          "xref": "paper",
          "y": 1,
          "yanchor": "bottom",
          "yref": "paper"
         },
         {
          "font": {},
          "showarrow": false,
          "text": "position=Jungle",
          "x": 0.5,
          "xanchor": "center",
          "xref": "paper",
          "y": 1,
          "yanchor": "bottom",
          "yref": "paper"
         },
         {
          "font": {},
          "showarrow": false,
          "text": "position=Support",
          "x": 0.7040000000000002,
          "xanchor": "center",
          "xref": "paper",
          "y": 1,
          "yanchor": "bottom",
          "yref": "paper"
         },
         {
          "font": {},
          "showarrow": false,
          "text": "position=Middle",
          "x": 0.908,
          "xanchor": "center",
          "xref": "paper",
          "y": 1,
          "yanchor": "bottom",
          "yref": "paper"
         }
        ],
        "legend": {
         "itemsizing": "constant",
         "title": {
          "text": "position"
         },
         "tracegroupgap": 0
        },
        "margin": {
         "t": 60
        },
        "template": {
         "data": {
          "bar": [
           {
            "error_x": {
             "color": "#2a3f5f"
            },
            "error_y": {
             "color": "#2a3f5f"
            },
            "marker": {
             "line": {
              "color": "#E5ECF6",
              "width": 0.5
             },
             "pattern": {
              "fillmode": "overlay",
              "size": 10,
              "solidity": 0.2
             }
            },
            "type": "bar"
           }
          ],
          "barpolar": [
           {
            "marker": {
             "line": {
              "color": "#E5ECF6",
              "width": 0.5
             },
             "pattern": {
              "fillmode": "overlay",
              "size": 10,
              "solidity": 0.2
             }
            },
            "type": "barpolar"
           }
          ],
          "carpet": [
           {
            "aaxis": {
             "endlinecolor": "#2a3f5f",
             "gridcolor": "white",
             "linecolor": "white",
             "minorgridcolor": "white",
             "startlinecolor": "#2a3f5f"
            },
            "baxis": {
             "endlinecolor": "#2a3f5f",
             "gridcolor": "white",
             "linecolor": "white",
             "minorgridcolor": "white",
             "startlinecolor": "#2a3f5f"
            },
            "type": "carpet"
           }
          ],
          "choropleth": [
           {
            "colorbar": {
             "outlinewidth": 0,
             "ticks": ""
            },
            "type": "choropleth"
           }
          ],
          "contour": [
           {
            "colorbar": {
             "outlinewidth": 0,
             "ticks": ""
            },
            "colorscale": [
             [
              0,
              "#0d0887"
             ],
             [
              0.1111111111111111,
              "#46039f"
             ],
             [
              0.2222222222222222,
              "#7201a8"
             ],
             [
              0.3333333333333333,
              "#9c179e"
             ],
             [
              0.4444444444444444,
              "#bd3786"
             ],
             [
              0.5555555555555556,
              "#d8576b"
             ],
             [
              0.6666666666666666,
              "#ed7953"
             ],
             [
              0.7777777777777778,
              "#fb9f3a"
             ],
             [
              0.8888888888888888,
              "#fdca26"
             ],
             [
              1,
              "#f0f921"
             ]
            ],
            "type": "contour"
           }
          ],
          "contourcarpet": [
           {
            "colorbar": {
             "outlinewidth": 0,
             "ticks": ""
            },
            "type": "contourcarpet"
           }
          ],
          "heatmap": [
           {
            "colorbar": {
             "outlinewidth": 0,
             "ticks": ""
            },
            "colorscale": [
             [
              0,
              "#0d0887"
             ],
             [
              0.1111111111111111,
              "#46039f"
             ],
             [
              0.2222222222222222,
              "#7201a8"
             ],
             [
              0.3333333333333333,
              "#9c179e"
             ],
             [
              0.4444444444444444,
              "#bd3786"
             ],
             [
              0.5555555555555556,
              "#d8576b"
             ],
             [
              0.6666666666666666,
              "#ed7953"
             ],
             [
              0.7777777777777778,
              "#fb9f3a"
             ],
             [
              0.8888888888888888,
              "#fdca26"
             ],
             [
              1,
              "#f0f921"
             ]
            ],
            "type": "heatmap"
           }
          ],
          "heatmapgl": [
           {
            "colorbar": {
             "outlinewidth": 0,
             "ticks": ""
            },
            "colorscale": [
             [
              0,
              "#0d0887"
             ],
             [
              0.1111111111111111,
              "#46039f"
             ],
             [
              0.2222222222222222,
              "#7201a8"
             ],
             [
              0.3333333333333333,
              "#9c179e"
             ],
             [
              0.4444444444444444,
              "#bd3786"
             ],
             [
              0.5555555555555556,
              "#d8576b"
             ],
             [
              0.6666666666666666,
              "#ed7953"
             ],
             [
              0.7777777777777778,
              "#fb9f3a"
             ],
             [
              0.8888888888888888,
              "#fdca26"
             ],
             [
              1,
              "#f0f921"
             ]
            ],
            "type": "heatmapgl"
           }
          ],
          "histogram": [
           {
            "marker": {
             "pattern": {
              "fillmode": "overlay",
              "size": 10,
              "solidity": 0.2
             }
            },
            "type": "histogram"
           }
          ],
          "histogram2d": [
           {
            "colorbar": {
             "outlinewidth": 0,
             "ticks": ""
            },
            "colorscale": [
             [
              0,
              "#0d0887"
             ],
             [
              0.1111111111111111,
              "#46039f"
             ],
             [
              0.2222222222222222,
              "#7201a8"
             ],
             [
              0.3333333333333333,
              "#9c179e"
             ],
             [
              0.4444444444444444,
              "#bd3786"
             ],
             [
              0.5555555555555556,
              "#d8576b"
             ],
             [
              0.6666666666666666,
              "#ed7953"
             ],
             [
              0.7777777777777778,
              "#fb9f3a"
             ],
             [
              0.8888888888888888,
              "#fdca26"
             ],
             [
              1,
              "#f0f921"
             ]
            ],
            "type": "histogram2d"
           }
          ],
          "histogram2dcontour": [
           {
            "colorbar": {
             "outlinewidth": 0,
             "ticks": ""
            },
            "colorscale": [
             [
              0,
              "#0d0887"
             ],
             [
              0.1111111111111111,
              "#46039f"
             ],
             [
              0.2222222222222222,
              "#7201a8"
             ],
             [
              0.3333333333333333,
              "#9c179e"
             ],
             [
              0.4444444444444444,
              "#bd3786"
             ],
             [
              0.5555555555555556,
              "#d8576b"
             ],
             [
              0.6666666666666666,
              "#ed7953"
             ],
             [
              0.7777777777777778,
              "#fb9f3a"
             ],
             [
              0.8888888888888888,
              "#fdca26"
             ],
             [
              1,
              "#f0f921"
             ]
            ],
            "type": "histogram2dcontour"
           }
          ],
          "mesh3d": [
           {
            "colorbar": {
             "outlinewidth": 0,
             "ticks": ""
            },
            "type": "mesh3d"
           }
          ],
          "parcoords": [
           {
            "line": {
             "colorbar": {
              "outlinewidth": 0,
              "ticks": ""
             }
            },
            "type": "parcoords"
           }
          ],
          "pie": [
           {
            "automargin": true,
            "type": "pie"
           }
          ],
          "scatter": [
           {
            "marker": {
             "colorbar": {
              "outlinewidth": 0,
              "ticks": ""
             }
            },
            "type": "scatter"
           }
          ],
          "scatter3d": [
           {
            "line": {
             "colorbar": {
              "outlinewidth": 0,
              "ticks": ""
             }
            },
            "marker": {
             "colorbar": {
              "outlinewidth": 0,
              "ticks": ""
             }
            },
            "type": "scatter3d"
           }
          ],
          "scattercarpet": [
           {
            "marker": {
             "colorbar": {
              "outlinewidth": 0,
              "ticks": ""
             }
            },
            "type": "scattercarpet"
           }
          ],
          "scattergeo": [
           {
            "marker": {
             "colorbar": {
              "outlinewidth": 0,
              "ticks": ""
             }
            },
            "type": "scattergeo"
           }
          ],
          "scattergl": [
           {
            "marker": {
             "colorbar": {
              "outlinewidth": 0,
              "ticks": ""
             }
            },
            "type": "scattergl"
           }
          ],
          "scattermapbox": [
           {
            "marker": {
             "colorbar": {
              "outlinewidth": 0,
              "ticks": ""
             }
            },
            "type": "scattermapbox"
           }
          ],
          "scatterpolar": [
           {
            "marker": {
             "colorbar": {
              "outlinewidth": 0,
              "ticks": ""
             }
            },
            "type": "scatterpolar"
           }
          ],
          "scatterpolargl": [
           {
            "marker": {
             "colorbar": {
              "outlinewidth": 0,
              "ticks": ""
             }
            },
            "type": "scatterpolargl"
           }
          ],
          "scatterternary": [
           {
            "marker": {
             "colorbar": {
              "outlinewidth": 0,
              "ticks": ""
             }
            },
            "type": "scatterternary"
           }
          ],
          "surface": [
           {
            "colorbar": {
             "outlinewidth": 0,
             "ticks": ""
            },
            "colorscale": [
             [
              0,
              "#0d0887"
             ],
             [
              0.1111111111111111,
              "#46039f"
             ],
             [
              0.2222222222222222,
              "#7201a8"
             ],
             [
              0.3333333333333333,
              "#9c179e"
             ],
             [
              0.4444444444444444,
              "#bd3786"
             ],
             [
              0.5555555555555556,
              "#d8576b"
             ],
             [
              0.6666666666666666,
              "#ed7953"
             ],
             [
              0.7777777777777778,
              "#fb9f3a"
             ],
             [
              0.8888888888888888,
              "#fdca26"
             ],
             [
              1,
              "#f0f921"
             ]
            ],
            "type": "surface"
           }
          ],
          "table": [
           {
            "cells": {
             "fill": {
              "color": "#EBF0F8"
             },
             "line": {
              "color": "white"
             }
            },
            "header": {
             "fill": {
              "color": "#C8D4E3"
             },
             "line": {
              "color": "white"
             }
            },
            "type": "table"
           }
          ]
         },
         "layout": {
          "annotationdefaults": {
           "arrowcolor": "#2a3f5f",
           "arrowhead": 0,
           "arrowwidth": 1
          },
          "autotypenumbers": "strict",
          "coloraxis": {
           "colorbar": {
            "outlinewidth": 0,
            "ticks": ""
           }
          },
          "colorscale": {
           "diverging": [
            [
             0,
             "#8e0152"
            ],
            [
             0.1,
             "#c51b7d"
            ],
            [
             0.2,
             "#de77ae"
            ],
            [
             0.3,
             "#f1b6da"
            ],
            [
             0.4,
             "#fde0ef"
            ],
            [
             0.5,
             "#f7f7f7"
            ],
            [
             0.6,
             "#e6f5d0"
            ],
            [
             0.7,
             "#b8e186"
            ],
            [
             0.8,
             "#7fbc41"
            ],
            [
             0.9,
             "#4d9221"
            ],
            [
             1,
             "#276419"
            ]
           ],
           "sequential": [
            [
             0,
             "#0d0887"
            ],
            [
             0.1111111111111111,
             "#46039f"
            ],
            [
             0.2222222222222222,
             "#7201a8"
            ],
            [
             0.3333333333333333,
             "#9c179e"
            ],
            [
             0.4444444444444444,
             "#bd3786"
            ],
            [
             0.5555555555555556,
             "#d8576b"
            ],
            [
             0.6666666666666666,
             "#ed7953"
            ],
            [
             0.7777777777777778,
             "#fb9f3a"
            ],
            [
             0.8888888888888888,
             "#fdca26"
            ],
            [
             1,
             "#f0f921"
            ]
           ],
           "sequentialminus": [
            [
             0,
             "#0d0887"
            ],
            [
             0.1111111111111111,
             "#46039f"
            ],
            [
             0.2222222222222222,
             "#7201a8"
            ],
            [
             0.3333333333333333,
             "#9c179e"
            ],
            [
             0.4444444444444444,
             "#bd3786"
            ],
            [
             0.5555555555555556,
             "#d8576b"
            ],
            [
             0.6666666666666666,
             "#ed7953"
            ],
            [
             0.7777777777777778,
             "#fb9f3a"
            ],
            [
             0.8888888888888888,
             "#fdca26"
            ],
            [
             1,
             "#f0f921"
            ]
           ]
          },
          "colorway": [
           "#636efa",
           "#EF553B",
           "#00cc96",
           "#ab63fa",
           "#FFA15A",
           "#19d3f3",
           "#FF6692",
           "#B6E880",
           "#FF97FF",
           "#FECB52"
          ],
          "font": {
           "color": "#2a3f5f"
          },
          "geo": {
           "bgcolor": "white",
           "lakecolor": "white",
           "landcolor": "#E5ECF6",
           "showlakes": true,
           "showland": true,
           "subunitcolor": "white"
          },
          "hoverlabel": {
           "align": "left"
          },
          "hovermode": "closest",
          "mapbox": {
           "style": "light"
          },
          "paper_bgcolor": "white",
          "plot_bgcolor": "#E5ECF6",
          "polar": {
           "angularaxis": {
            "gridcolor": "white",
            "linecolor": "white",
            "ticks": ""
           },
           "bgcolor": "#E5ECF6",
           "radialaxis": {
            "gridcolor": "white",
            "linecolor": "white",
            "ticks": ""
           }
          },
          "scene": {
           "xaxis": {
            "backgroundcolor": "#E5ECF6",
            "gridcolor": "white",
            "gridwidth": 2,
            "linecolor": "white",
            "showbackground": true,
            "ticks": "",
            "zerolinecolor": "white"
           },
           "yaxis": {
            "backgroundcolor": "#E5ECF6",
            "gridcolor": "white",
            "gridwidth": 2,
            "linecolor": "white",
            "showbackground": true,
            "ticks": "",
            "zerolinecolor": "white"
           },
           "zaxis": {
            "backgroundcolor": "#E5ECF6",
            "gridcolor": "white",
            "gridwidth": 2,
            "linecolor": "white",
            "showbackground": true,
            "ticks": "",
            "zerolinecolor": "white"
           }
          },
          "shapedefaults": {
           "line": {
            "color": "#2a3f5f"
           }
          },
          "ternary": {
           "aaxis": {
            "gridcolor": "white",
            "linecolor": "white",
            "ticks": ""
           },
           "baxis": {
            "gridcolor": "white",
            "linecolor": "white",
            "ticks": ""
           },
           "bgcolor": "#E5ECF6",
           "caxis": {
            "gridcolor": "white",
            "linecolor": "white",
            "ticks": ""
           }
          },
          "title": {
           "x": 0.05
          },
          "xaxis": {
           "automargin": true,
           "gridcolor": "white",
           "linecolor": "white",
           "ticks": "",
           "title": {
            "standoff": 15
           },
           "zerolinecolor": "white",
           "zerolinewidth": 2
          },
          "yaxis": {
           "automargin": true,
           "gridcolor": "white",
           "linecolor": "white",
           "ticks": "",
           "title": {
            "standoff": 15
           },
           "zerolinecolor": "white",
           "zerolinewidth": 2
          }
         }
        },
        "title": {
         "text": "Gold efficiency per position : the bigger the circle, the more games played",
         "x": 0.5
        },
        "xaxis": {
         "anchor": "y",
         "domain": [
          0,
          0.18400000000000002
         ],
         "title": {
          "text": "DPM_per_gold"
         }
        },
        "xaxis2": {
         "anchor": "y2",
         "domain": [
          0.20400000000000001,
          0.388
         ],
         "matches": "x",
         "title": {
          "text": "DPM_per_gold"
         }
        },
        "xaxis3": {
         "anchor": "y3",
         "domain": [
          0.40800000000000003,
          0.5920000000000001
         ],
         "matches": "x",
         "title": {
          "text": "DPM_per_gold"
         }
        },
        "xaxis4": {
         "anchor": "y4",
         "domain": [
          0.6120000000000001,
          0.7960000000000002
         ],
         "matches": "x",
         "title": {
          "text": "DPM_per_gold"
         }
        },
        "xaxis5": {
         "anchor": "y5",
         "domain": [
          0.8160000000000001,
          1
         ],
         "matches": "x",
         "title": {
          "text": "DPM_per_gold"
         }
        },
        "yaxis": {
         "anchor": "x",
         "domain": [
          0,
          1
         ],
         "showticklabels": true,
         "title": {
          "text": "Net_KP_per_gold"
         }
        },
        "yaxis2": {
         "anchor": "x2",
         "domain": [
          0,
          1
         ],
         "showticklabels": true
        },
        "yaxis3": {
         "anchor": "x3",
         "domain": [
          0,
          1
         ],
         "showticklabels": true
        },
        "yaxis4": {
         "anchor": "x4",
         "domain": [
          0,
          1
         ],
         "showticklabels": true
        },
        "yaxis5": {
         "anchor": "x5",
         "domain": [
          0,
          1
         ],
         "showticklabels": true
        }
       }
      }
     },
     "metadata": {},
     "output_type": "display_data"
    }
   ],
   "source": [
    "# Create basic fig\n",
    "no_dash_fig = px.scatter(agg_all, x=\"DPM_per_gold\", y=\"Net_KP_per_gold\",\n",
    "hover_name = \"Player\", hover_data=[\"Team\", \"games_played\", \"winrate%\", \"DPM_per_gold\",\n",
    "\"Net_KP_per_gold\"], size = \"games_played\",\n",
    "facet_col='position', color = 'position')\n",
    "\n",
    "\n",
    "no_dash_fig.update_layout(title_text = 'Gold efficiency per position : the bigger the circle, the more games played', title_x = 0.5)\n",
    "no_dash_fig.update_traces(marker=dict(symbol='circle-dot'), line=dict(width=2, color='Black'))\n",
    "no_dash_fig.update_yaxes(matches=None)\n",
    "no_dash_fig.for_each_yaxis(lambda yaxis: yaxis.update(showticklabels=True))\n",
    "\n",
    "no_dash_fig.show()"
   ]
  },
  {
   "cell_type": "markdown",
   "metadata": {},
   "source": [
    "Create Dash ready plotly"
   ]
  },
  {
   "cell_type": "code",
   "execution_count": 782,
   "metadata": {},
   "outputs": [
    {
     "data": {
      "application/vnd.plotly.v1+json": {
       "config": {
        "plotlyServerURL": "https://plot.ly"
       },
       "data": [
        {
         "customdata": [
          [
           "5kid",
           "KT Rolster Challengers",
           17,
           29.328125,
           "https://scontent-frt3-1.xx.fbcdn.net/v/t1.18169-9/12729350_1291829277510939_5501539112801543611_n.png?_nc_cat=107&ccb=1-5&_nc_sid=973b4a&_nc_ohc=sOjAVFCJPhYAX99tkzC&_nc_ht=scontent-frt3-1.xx&oh=00_AT-ZOo1WcpOGTP2gvDxcc1JRhuqlw-GtTMGdG_HsvTk3kw&oe=622282B6",
           1.05,
           1.835
          ],
          [
           "Noah",
           "KT Rolster Challengers",
           7,
           57,
           "https://scontent-frt3-1.xx.fbcdn.net/v/t1.18169-9/12729350_1291829277510939_5501539112801543611_n.png?_nc_cat=107&ccb=1-5&_nc_sid=973b4a&_nc_ohc=sOjAVFCJPhYAX99tkzC&_nc_ht=scontent-frt3-1.xx&oh=00_AT-ZOo1WcpOGTP2gvDxcc1JRhuqlw-GtTMGdG_HsvTk3kw&oe=622282B6",
           0.906,
           1.788
          ],
          [
           "HyBriD",
           "KT Rolster Challengers",
           24,
           48.5,
           "https://scontent-frt3-1.xx.fbcdn.net/v/t1.18169-9/12729350_1291829277510939_5501539112801543611_n.png?_nc_cat=107&ccb=1-5&_nc_sid=973b4a&_nc_ohc=sOjAVFCJPhYAX99tkzC&_nc_ht=scontent-frt3-1.xx&oh=00_AT-ZOo1WcpOGTP2gvDxcc1JRhuqlw-GtTMGdG_HsvTk3kw&oe=622282B6",
           1.186,
           1.95
          ],
          [
           "Berserker",
           "T1 Challengers",
           42,
           70.3125,
           "https://cdn1.dotesports.com/wp-content/uploads/2019/10/08064645/image-7.png",
           1.025,
           1.975
          ],
          [
           "Cheoni",
           "Hanwha Life Esports Challengers",
           50,
           51.65625,
           "https://api.sofascore.com/api/v1/team/364492/image",
           1.033,
           1.923
          ],
          [
           "Bini",
           "Fredit BRION Challengers",
           39,
           43.5,
           "https://api.sofascore.app/api/v1/team/372615/image",
           0.996,
           2.066
          ],
          [
           "Bull",
           "Nongshim RedForce Challengers",
           31,
           58.34375,
           "https://pbs.twimg.com/profile_images/1397150687427895299/v0aDiUPe_400x400.jpg",
           0.895,
           1.938
          ],
          [
           "vital",
           "Nongshim RedForce Challengers",
           28,
           53,
           "https://pbs.twimg.com/profile_images/1397150687427895299/v0aDiUPe_400x400.jpg",
           1.035,
           2.115
          ],
          [
           "Valkyrie",
           "Kwangdong Freecs Challengers",
           33,
           40.34375,
           "https://api.sofascore.app/api/v1/team/405273/image",
           1.095,
           2.115
          ],
          [
           "Junmin",
           "DWG KIA Challengers",
           27,
           22,
           "https://static.invenglobal.com/upload/image/2021/01/26/o1611641144974891.jpeg",
           0.78,
           1.513
          ],
          [
           "Rahel",
           "DWG KIA Challengers",
           8,
           75,
           "https://static.invenglobal.com/upload/image/2021/01/26/o1611641144974891.jpeg",
           0.976,
           1.81
          ],
          [
           "Taeyoon",
           "DRX Challengers",
           32,
           50,
           "https://api.sofascore.com/api/v1/team/364017/image",
           1.014,
           1.999
          ],
          [
           "BAO",
           "DRX Challengers",
           16,
           42.5,
           "https://api.sofascore.com/api/v1/team/364017/image",
           1.148,
           2.004
          ],
          [
           "Ice",
           "Liiv SANDBOX Challengers",
           29,
           40.65625,
           "https://cdn0.gamesports.net/edb_team_logos/24000/24147.png?1608560414",
           0.928,
           2.076
          ],
          [
           "KingKong",
           "Liiv SANDBOX Challengers",
           17,
           27.671875,
           "https://cdn0.gamesports.net/edb_team_logos/24000/24147.png?1608560414",
           1.164,
           1.547
          ],
          [
           "Envyy",
           "Gen.G Challengers",
           51,
           63.25,
           "https://cdn1.dotesports.com/wp-content/uploads/2021/02/15173303/geng.png",
           1.059,
           1.805
          ]
         ],
         "hoverinfo": "none",
         "hovertext": [
          "5kid",
          "Noah",
          "HyBriD",
          "Berserker",
          "Cheoni",
          "Bini",
          "Bull",
          "vital",
          "Valkyrie",
          "Junmin",
          "Rahel",
          "Taeyoon",
          "BAO",
          "Ice",
          "KingKong",
          "Envyy"
         ],
         "legendgroup": "ADC",
         "line": {
          "color": "Black",
          "width": 2
         },
         "marker": {
          "color": "#636efa",
          "size": [
           17,
           7,
           24,
           42,
           50,
           39,
           31,
           28,
           33,
           27,
           8,
           32,
           16,
           29,
           17,
           51
          ],
          "sizemode": "area",
          "sizeref": 0.1275,
          "symbol": "circle-dot"
         },
         "mode": "markers",
         "name": "ADC",
         "orientation": "v",
         "showlegend": true,
         "type": "scatter",
         "x": [
          1.0498046875,
          0.90625,
          1.185546875,
          1.025390625,
          1.033203125,
          0.99560546875,
          0.89453125,
          1.03515625,
          1.0947265625,
          0.7802734375,
          0.97607421875,
          1.013671875,
          1.1484375,
          0.92822265625,
          1.1640625,
          1.05859375
         ],
         "xaxis": "x",
         "y": [
          1.8349609375,
          1.7880859375,
          1.9501953125,
          1.974609375,
          1.9228515625,
          2.06640625,
          1.9384765625,
          2.115234375,
          2.115234375,
          1.5126953125,
          1.8095703125,
          1.9990234375,
          2.00390625,
          2.076171875,
          1.546875,
          1.8046875
         ],
         "yaxis": "y"
        },
        {
         "customdata": [
          [
           "Castle",
           "KT Rolster Challengers",
           48,
           37.5,
           "https://scontent-frt3-1.xx.fbcdn.net/v/t1.18169-9/12729350_1291829277510939_5501539112801543611_n.png?_nc_cat=107&ccb=1-5&_nc_sid=973b4a&_nc_ohc=sOjAVFCJPhYAX99tkzC&_nc_ht=scontent-frt3-1.xx&oh=00_AT-ZOo1WcpOGTP2gvDxcc1JRhuqlw-GtTMGdG_HsvTk3kw&oe=622282B6",
           0.943,
           1.694
          ],
          [
           "Roach",
           "T1 Challengers",
           42,
           70.3125,
           "https://cdn1.dotesports.com/wp-content/uploads/2019/10/08064645/image-7.png",
           1.042,
           1.933
          ],
          [
           "Riss",
           "Hanwha Life Esports Challengers",
           50,
           51.65625,
           "https://api.sofascore.com/api/v1/team/364492/image",
           0.988,
           1.559
          ],
          [
           "Lukalux",
           "Fredit BRION Challengers",
           19,
           42,
           "https://api.sofascore.app/api/v1/team/372615/image",
           1.022,
           1.799
          ],
          [
           "TaNa",
           "Fredit BRION Challengers",
           20,
           45,
           "https://api.sofascore.app/api/v1/team/372615/image",
           0.926,
           1.7
          ],
          [
           "DnDn",
           "Nongshim RedForce Challengers",
           48,
           50.34375,
           "https://pbs.twimg.com/profile_images/1397150687427895299/v0aDiUPe_400x400.jpg",
           1.11,
           1.99
          ],
          [
           "Trap",
           "Kwangdong Freecs Challengers",
           18,
           11,
           "https://api.sofascore.app/api/v1/team/405273/image",
           1.142,
           1.754
          ],
          [
           "IlllIma",
           "Kwangdong Freecs Challengers",
           26,
           58.5,
           "https://api.sofascore.app/api/v1/team/405273/image",
           1.019,
           1.554
          ],
          [
           "Chasy",
           "DWG KIA Challengers",
           27,
           30.5,
           "https://static.invenglobal.com/upload/image/2021/01/26/o1611641144974891.jpeg",
           1.267,
           2.135
          ],
          [
           "Thanatos",
           "DWG KIA Challengers",
           9,
           44,
           "https://static.invenglobal.com/upload/image/2021/01/26/o1611641144974891.jpeg",
           1.083,
           1.286
          ],
          [
           "Clear",
           "DRX Challengers",
           48,
           46.75,
           "https://api.sofascore.com/api/v1/team/364017/image",
           0.966,
           1.916
          ],
          [
           "Howling",
           "Liiv SANDBOX Challengers",
           16,
           35.5,
           "https://cdn0.gamesports.net/edb_team_logos/24000/24147.png?1608560414",
           0.869,
           1.864
          ],
          [
           "Photon",
           "Liiv SANDBOX Challengers",
           30,
           39.25,
           "https://cdn0.gamesports.net/edb_team_logos/24000/24147.png?1608560414",
           1.135,
           1.74
          ],
          [
           "Lonely",
           "Gen.G Challengers",
           51,
           63.25,
           "https://cdn1.dotesports.com/wp-content/uploads/2021/02/15173303/geng.png",
           1.049,
           1.898
          ]
         ],
         "hoverinfo": "none",
         "hovertext": [
          "Castle",
          "Roach",
          "Riss",
          "Lukalux",
          "TaNa",
          "DnDn",
          "Trap",
          "IlllIma",
          "Chasy",
          "Thanatos",
          "Clear",
          "Howling",
          "Photon",
          "Lonely"
         ],
         "legendgroup": "Top",
         "line": {
          "color": "Black",
          "width": 2
         },
         "marker": {
          "color": "#EF553B",
          "size": [
           48,
           42,
           50,
           19,
           20,
           48,
           18,
           26,
           27,
           9,
           48,
           16,
           30,
           51
          ],
          "sizemode": "area",
          "sizeref": 0.1275,
          "symbol": "circle-dot"
         },
         "mode": "markers",
         "name": "Top",
         "orientation": "v",
         "showlegend": true,
         "type": "scatter",
         "x": [
          0.94287109375,
          1.0419921875,
          0.98779296875,
          1.0224609375,
          0.92578125,
          1.1103515625,
          1.1416015625,
          1.0185546875,
          1.2666015625,
          1.0830078125,
          0.9658203125,
          0.869140625,
          1.134765625,
          1.048828125
         ],
         "xaxis": "x2",
         "y": [
          1.6943359375,
          1.9326171875,
          1.55859375,
          1.798828125,
          1.7001953125,
          1.990234375,
          1.75390625,
          1.5537109375,
          2.134765625,
          1.2861328125,
          1.916015625,
          1.8642578125,
          1.740234375,
          1.8984375
         ],
         "yaxis": "y2"
        },
        {
         "customdata": [
          [
           "GIDEON",
           "KT Rolster Challengers",
           9,
           56,
           "https://scontent-frt3-1.xx.fbcdn.net/v/t1.18169-9/12729350_1291829277510939_5501539112801543611_n.png?_nc_cat=107&ccb=1-5&_nc_sid=973b4a&_nc_ohc=sOjAVFCJPhYAX99tkzC&_nc_ht=scontent-frt3-1.xx&oh=00_AT-ZOo1WcpOGTP2gvDxcc1JRhuqlw-GtTMGdG_HsvTk3kw&oe=622282B6",
           0.923,
           2.514
          ],
          [
           "PangSu",
           "KT Rolster Challengers",
           39,
           37.5,
           "https://scontent-frt3-1.xx.fbcdn.net/v/t1.18169-9/12729350_1291829277510939_5501539112801543611_n.png?_nc_cat=107&ccb=1-5&_nc_sid=973b4a&_nc_ohc=sOjAVFCJPhYAX99tkzC&_nc_ht=scontent-frt3-1.xx&oh=00_AT-ZOo1WcpOGTP2gvDxcc1JRhuqlw-GtTMGdG_HsvTk3kw&oe=622282B6",
           0.83,
           3.164
          ],
          [
           "Mowgli",
           "T1 Challengers",
           42,
           70.3125,
           "https://cdn1.dotesports.com/wp-content/uploads/2019/10/08064645/image-7.png",
           0.86,
           2.928
          ],
          [
           "CaD",
           "Hanwha Life Esports Challengers",
           40,
           52.34375,
           "https://api.sofascore.com/api/v1/team/364492/image",
           0.744,
           2.139
          ],
          [
           "Willer",
           "Hanwha Life Esports Challengers",
           10,
           40,
           "https://api.sofascore.com/api/v1/team/364492/image",
           0.925,
           2.803
          ],
          [
           "Jin0",
           "Fredit BRION Challengers",
           39,
           43.5,
           "https://api.sofascore.app/api/v1/team/372615/image",
           0.955,
           2.633
          ],
          [
           "Sylvie",
           "Nongshim RedForce Challengers",
           25,
           40,
           "https://pbs.twimg.com/profile_images/1397150687427895299/v0aDiUPe_400x400.jpg",
           0.748,
           2.738
          ],
          [
           "Juhan",
           "Nongshim RedForce Challengers",
           23,
           53,
           "https://pbs.twimg.com/profile_images/1397150687427895299/v0aDiUPe_400x400.jpg",
           0.927,
           2.713
          ],
          [
           "Burry",
           "Kwangdong Freecs Challengers",
           18,
           11,
           "https://api.sofascore.app/api/v1/team/405273/image",
           0.803,
           3.562
          ],
          [
           "Citrus",
           "Kwangdong Freecs Challengers",
           26,
           58.5,
           "https://api.sofascore.app/api/v1/team/405273/image",
           0.942,
           2.83
          ],
          [
           "Malrang",
           "DWG KIA Challengers",
           18,
           33,
           "https://static.invenglobal.com/upload/image/2021/01/26/o1611641144974891.jpeg",
           0.966,
           2.936
          ],
          [
           "Lucid",
           "DWG KIA Challengers",
           18,
           39,
           "https://static.invenglobal.com/upload/image/2021/01/26/o1611641144974891.jpeg",
           0.941,
           2.926
          ],
          [
           "Peach",
           "DRX Challengers",
           48,
           46.75,
           "https://api.sofascore.com/api/v1/team/364017/image",
           0.936,
           2.078
          ],
          [
           "Seize",
           "Liiv SANDBOX Challengers",
           46,
           40.5,
           "https://cdn0.gamesports.net/edb_team_logos/24000/24147.png?1608560414",
           0.947,
           2.836
          ],
          [
           "YoungJae",
           "Gen.G Challengers",
           35,
           60.34375,
           "https://cdn1.dotesports.com/wp-content/uploads/2021/02/15173303/geng.png",
           0.952,
           3.066
          ],
          [
           "Flawless",
           "Gen.G Challengers",
           16,
           76.5,
           "https://cdn1.dotesports.com/wp-content/uploads/2021/02/15173303/geng.png",
           0.896,
           2.635
          ]
         ],
         "hoverinfo": "none",
         "hovertext": [
          "GIDEON",
          "PangSu",
          "Mowgli",
          "CaD",
          "Willer",
          "Jin0",
          "Sylvie",
          "Juhan",
          "Burry",
          "Citrus",
          "Malrang",
          "Lucid",
          "Peach",
          "Seize",
          "YoungJae",
          "Flawless"
         ],
         "legendgroup": "Jungle",
         "line": {
          "color": "Black",
          "width": 2
         },
         "marker": {
          "color": "#00cc96",
          "size": [
           9,
           39,
           42,
           40,
           10,
           39,
           25,
           23,
           18,
           26,
           18,
           18,
           48,
           46,
           35,
           16
          ],
          "sizemode": "area",
          "sizeref": 0.1275,
          "symbol": "circle-dot"
         },
         "mode": "markers",
         "name": "Jungle",
         "orientation": "v",
         "showlegend": true,
         "type": "scatter",
         "x": [
          0.92333984375,
          0.830078125,
          0.8603515625,
          0.74365234375,
          0.9248046875,
          0.955078125,
          0.748046875,
          0.9267578125,
          0.80322265625,
          0.94189453125,
          0.9658203125,
          0.94091796875,
          0.935546875,
          0.94677734375,
          0.9521484375,
          0.8955078125
         ],
         "xaxis": "x3",
         "y": [
          2.513671875,
          3.1640625,
          2.927734375,
          2.138671875,
          2.802734375,
          2.6328125,
          2.73828125,
          2.712890625,
          3.5625,
          2.830078125,
          2.935546875,
          2.92578125,
          2.078125,
          2.8359375,
          3.06640625,
          2.634765625
         ],
         "yaxis": "y3"
        },
        {
         "customdata": [
          [
           "Harp",
           "KT Rolster Challengers",
           18,
           29.5,
           "https://scontent-frt3-1.xx.fbcdn.net/v/t1.18169-9/12729350_1291829277510939_5501539112801543611_n.png?_nc_cat=107&ccb=1-5&_nc_sid=973b4a&_nc_ohc=sOjAVFCJPhYAX99tkzC&_nc_ht=scontent-frt3-1.xx&oh=00_AT-ZOo1WcpOGTP2gvDxcc1JRhuqlw-GtTMGdG_HsvTk3kw&oe=622282B6",
           1.081,
           5.078
          ],
          [
           "Rebel",
           "KT Rolster Challengers",
           30,
           23.5,
           "https://scontent-frt3-1.xx.fbcdn.net/v/t1.18169-9/12729350_1291829277510939_5501539112801543611_n.png?_nc_cat=107&ccb=1-5&_nc_sid=973b4a&_nc_ohc=sOjAVFCJPhYAX99tkzC&_nc_ht=scontent-frt3-1.xx&oh=00_AT-ZOo1WcpOGTP2gvDxcc1JRhuqlw-GtTMGdG_HsvTk3kw&oe=622282B6",
           0.966,
           6.277
          ],
          [
           "Asper",
           "T1 Challengers",
           42,
           70.3125,
           "https://cdn1.dotesports.com/wp-content/uploads/2019/10/08064645/image-7.png",
           0.832,
           5.012
          ],
          [
           "Baut",
           "Hanwha Life Esports Challengers",
           50,
           51.65625,
           "https://api.sofascore.com/api/v1/team/364492/image",
           0.795,
           5.352
          ],
          [
           "JeongHoon",
           "Fredit BRION Challengers",
           39,
           43.5,
           "https://api.sofascore.app/api/v1/team/372615/image",
           1.016,
           4.523
          ],
          [
           "Yusin",
           "Nongshim RedForce Challengers",
           48,
           50.34375,
           "https://pbs.twimg.com/profile_images/1397150687427895299/v0aDiUPe_400x400.jpg",
           0.758,
           4.984
          ],
          [
           "MapSSi",
           "Kwangdong Freecs Challengers",
           8,
           13,
           "https://api.sofascore.app/api/v1/team/405273/image",
           1.161,
           5.711
          ],
          [
           "Minit",
           "Kwangdong Freecs Challengers",
           36,
           42.34375,
           "https://api.sofascore.app/api/v1/team/405273/image",
           0.821,
           5.348
          ],
          [
           "Cow",
           "DWG KIA Challengers",
           10,
           11,
           "https://static.invenglobal.com/upload/image/2021/01/26/o1611641144974891.jpeg",
           0.915,
           1.184
          ],
          [
           "Keshi",
           "DWG KIA Challengers",
           3,
           67,
           "https://static.invenglobal.com/upload/image/2021/01/26/o1611641144974891.jpeg",
           1.207,
           4.586
          ],
          [
           "Muru",
           "DWG KIA Challengers",
           11,
           16.5,
           "https://static.invenglobal.com/upload/image/2021/01/26/o1611641144974891.jpeg",
           0.931,
           4.758
          ],
          [
           "Bible",
           "DWG KIA Challengers",
           13,
           54,
           "https://static.invenglobal.com/upload/image/2021/01/26/o1611641144974891.jpeg",
           0.907,
           3.873
          ],
          [
           "Jun",
           "DRX Challengers",
           32,
           50,
           "https://api.sofascore.com/api/v1/team/364017/image",
           0.853,
           4.496
          ],
          [
           "Pleata",
           "DRX Challengers",
           16,
           42.5,
           "https://api.sofascore.com/api/v1/team/364017/image",
           1.088,
           6.629
          ],
          [
           "Kabbie",
           "Liiv SANDBOX Challengers",
           30,
           47,
           "https://cdn0.gamesports.net/edb_team_logos/24000/24147.png?1608560414",
           0.965,
           4.637
          ],
          [
           "Prove",
           "Liiv SANDBOX Challengers",
           16,
           32.34375,
           "https://cdn0.gamesports.net/edb_team_logos/24000/24147.png?1608560414",
           0.746,
           5.703
          ],
          [
           "Kael",
           "Gen.G Challengers",
           51,
           63.25,
           "https://cdn1.dotesports.com/wp-content/uploads/2021/02/15173303/geng.png",
           0.907,
           5.516
          ]
         ],
         "hoverinfo": "none",
         "hovertext": [
          "Harp",
          "Rebel",
          "Asper",
          "Baut",
          "JeongHoon",
          "Yusin",
          "MapSSi",
          "Minit",
          "Cow",
          "Keshi",
          "Muru",
          "Bible",
          "Jun",
          "Pleata",
          "Kabbie",
          "Prove",
          "Kael"
         ],
         "legendgroup": "Support",
         "line": {
          "color": "Black",
          "width": 2
         },
         "marker": {
          "color": "#ab63fa",
          "size": [
           18,
           30,
           42,
           50,
           39,
           48,
           8,
           36,
           10,
           3,
           11,
           13,
           32,
           16,
           30,
           16,
           51
          ],
          "sizemode": "area",
          "sizeref": 0.1275,
          "symbol": "circle-dot"
         },
         "mode": "markers",
         "name": "Support",
         "orientation": "v",
         "showlegend": true,
         "type": "scatter",
         "x": [
          1.0810546875,
          0.96630859375,
          0.83203125,
          0.794921875,
          1.015625,
          0.75830078125,
          1.1611328125,
          0.82080078125,
          0.91455078125,
          1.20703125,
          0.9306640625,
          0.90673828125,
          0.85302734375,
          1.087890625,
          0.96484375,
          0.74560546875,
          0.9072265625
         ],
         "xaxis": "x4",
         "y": [
          5.078125,
          6.27734375,
          5.01171875,
          5.3515625,
          4.5234375,
          4.984375,
          5.7109375,
          5.34765625,
          1.18359375,
          4.5859375,
          4.7578125,
          3.873046875,
          4.49609375,
          6.62890625,
          4.63671875,
          5.703125,
          5.515625
         ],
         "yaxis": "y4"
        },
        {
         "customdata": [
          [
           "VicLa",
           "KT Rolster Challengers",
           48,
           37.5,
           "https://scontent-frt3-1.xx.fbcdn.net/v/t1.18169-9/12729350_1291829277510939_5501539112801543611_n.png?_nc_cat=107&ccb=1-5&_nc_sid=973b4a&_nc_ohc=sOjAVFCJPhYAX99tkzC&_nc_ht=scontent-frt3-1.xx&oh=00_AT-ZOo1WcpOGTP2gvDxcc1JRhuqlw-GtTMGdG_HsvTk3kw&oe=622282B6",
           1.153,
           1.757
          ],
          [
           "Mireu",
           "T1 Challengers",
           42,
           70.3125,
           "https://cdn1.dotesports.com/wp-content/uploads/2019/10/08064645/image-7.png",
           1.117,
           2.129
          ],
          [
           "Mask",
           "Hanwha Life Esports Challengers",
           50,
           51.65625,
           "https://api.sofascore.com/api/v1/team/364492/image",
           1.216,
           2.16
          ],
          [
           "Roamer",
           "Fredit BRION Challengers",
           39,
           43.5,
           "https://api.sofascore.app/api/v1/team/372615/image",
           1.065,
           2.4
          ],
          [
           "FIESTA",
           "Nongshim RedForce Challengers",
           31,
           31.671875,
           "https://pbs.twimg.com/profile_images/1397150687427895299/v0aDiUPe_400x400.jpg",
           1.166,
           2.584
          ],
          [
           "Bay",
           "Nongshim RedForce Challengers",
           17,
           59.5,
           "https://pbs.twimg.com/profile_images/1397150687427895299/v0aDiUPe_400x400.jpg",
           1.041,
           2.451
          ],
          [
           "Keine",
           "Kwangdong Freecs Challengers",
           28,
           41.65625,
           "https://api.sofascore.app/api/v1/team/405273/image",
           1.085,
           2.004
          ],
          [
           "Storm",
           "Kwangdong Freecs Challengers",
           9,
           11,
           "https://api.sofascore.app/api/v1/team/405273/image",
           0.909,
           1.724
          ],
          [
           "BuLLDoG",
           "Kwangdong Freecs Challengers",
           7,
           71,
           "https://api.sofascore.app/api/v1/team/405273/image",
           0.965,
           2.553
          ],
          [
           "Jool",
           "DWG KIA Challengers",
           36,
           36,
           "https://static.invenglobal.com/upload/image/2021/01/26/o1611641144974891.jpeg",
           1.055,
           2.256
          ],
          [
           "Eign",
           "DRX Challengers",
           37,
           48.65625,
           "https://api.sofascore.com/api/v1/team/364017/image",
           1.071,
           1.935
          ],
          [
           "SOLKA",
           "DRX Challengers",
           11,
           45,
           "https://api.sofascore.com/api/v1/team/364017/image",
           0.978,
           2.096
          ],
          [
           "Cruiser",
           "Liiv SANDBOX Challengers",
           1,
           0,
           "https://cdn0.gamesports.net/edb_team_logos/24000/24147.png?1608560414",
           0.616,
           3.553
          ],
          [
           "TolanD",
           "Liiv SANDBOX Challengers",
           45,
           41.25,
           "https://cdn0.gamesports.net/edb_team_logos/24000/24147.png?1608560414",
           1.139,
           1.968
          ],
          [
           "Dice",
           "Gen.G Challengers",
           12,
           62.5,
           "https://cdn1.dotesports.com/wp-content/uploads/2021/02/15173303/geng.png",
           0.966,
           1.788
          ],
          [
           "Ophelia",
           "Gen.G Challengers",
           23,
           60,
           "https://cdn1.dotesports.com/wp-content/uploads/2021/02/15173303/geng.png",
           0.909,
           2.098
          ],
          [
           "Karis",
           "Gen.G Challengers",
           16,
           76.5,
           "https://cdn1.dotesports.com/wp-content/uploads/2021/02/15173303/geng.png",
           1.078,
           2.035
          ]
         ],
         "hoverinfo": "none",
         "hovertext": [
          "VicLa",
          "Mireu",
          "Mask",
          "Roamer",
          "FIESTA",
          "Bay",
          "Keine",
          "Storm",
          "BuLLDoG",
          "Jool",
          "Eign",
          "SOLKA",
          "Cruiser",
          "TolanD",
          "Dice",
          "Ophelia",
          "Karis"
         ],
         "legendgroup": "Middle",
         "line": {
          "color": "Black",
          "width": 2
         },
         "marker": {
          "color": "#FFA15A",
          "size": [
           48,
           42,
           50,
           39,
           31,
           17,
           28,
           9,
           7,
           36,
           37,
           11,
           1,
           45,
           12,
           23,
           16
          ],
          "sizemode": "area",
          "sizeref": 0.1275,
          "symbol": "circle-dot"
         },
         "mode": "markers",
         "name": "Middle",
         "orientation": "v",
         "showlegend": true,
         "type": "scatter",
         "x": [
          1.1533203125,
          1.1171875,
          1.2158203125,
          1.0654296875,
          1.166015625,
          1.041015625,
          1.0849609375,
          0.9091796875,
          0.96533203125,
          1.0546875,
          1.0712890625,
          0.9775390625,
          0.61572265625,
          1.138671875,
          0.96630859375,
          0.9091796875,
          1.078125
         ],
         "xaxis": "x5",
         "y": [
          1.7568359375,
          2.12890625,
          2.16015625,
          2.400390625,
          2.583984375,
          2.451171875,
          2.00390625,
          1.7236328125,
          2.552734375,
          2.255859375,
          1.9345703125,
          2.095703125,
          3.552734375,
          1.9677734375,
          1.7880859375,
          2.09765625,
          2.03515625
         ],
         "yaxis": "y5"
        }
       ],
       "layout": {
        "annotations": [
         {
          "font": {},
          "showarrow": false,
          "text": "position=ADC",
          "x": 0.09200000000000001,
          "xanchor": "center",
          "xref": "paper",
          "y": 1,
          "yanchor": "bottom",
          "yref": "paper"
         },
         {
          "font": {},
          "showarrow": false,
          "text": "position=Top",
          "x": 0.29600000000000004,
          "xanchor": "center",
          "xref": "paper",
          "y": 1,
          "yanchor": "bottom",
          "yref": "paper"
         },
         {
          "font": {},
          "showarrow": false,
          "text": "position=Jungle",
          "x": 0.5,
          "xanchor": "center",
          "xref": "paper",
          "y": 1,
          "yanchor": "bottom",
          "yref": "paper"
         },
         {
          "font": {},
          "showarrow": false,
          "text": "position=Support",
          "x": 0.7040000000000002,
          "xanchor": "center",
          "xref": "paper",
          "y": 1,
          "yanchor": "bottom",
          "yref": "paper"
         },
         {
          "font": {},
          "showarrow": false,
          "text": "position=Middle",
          "x": 0.908,
          "xanchor": "center",
          "xref": "paper",
          "y": 1,
          "yanchor": "bottom",
          "yref": "paper"
         }
        ],
        "legend": {
         "itemsizing": "constant",
         "title": {
          "text": "position"
         },
         "tracegroupgap": 0
        },
        "margin": {
         "t": 60
        },
        "template": {
         "data": {
          "bar": [
           {
            "error_x": {
             "color": "#2a3f5f"
            },
            "error_y": {
             "color": "#2a3f5f"
            },
            "marker": {
             "line": {
              "color": "#E5ECF6",
              "width": 0.5
             },
             "pattern": {
              "fillmode": "overlay",
              "size": 10,
              "solidity": 0.2
             }
            },
            "type": "bar"
           }
          ],
          "barpolar": [
           {
            "marker": {
             "line": {
              "color": "#E5ECF6",
              "width": 0.5
             },
             "pattern": {
              "fillmode": "overlay",
              "size": 10,
              "solidity": 0.2
             }
            },
            "type": "barpolar"
           }
          ],
          "carpet": [
           {
            "aaxis": {
             "endlinecolor": "#2a3f5f",
             "gridcolor": "white",
             "linecolor": "white",
             "minorgridcolor": "white",
             "startlinecolor": "#2a3f5f"
            },
            "baxis": {
             "endlinecolor": "#2a3f5f",
             "gridcolor": "white",
             "linecolor": "white",
             "minorgridcolor": "white",
             "startlinecolor": "#2a3f5f"
            },
            "type": "carpet"
           }
          ],
          "choropleth": [
           {
            "colorbar": {
             "outlinewidth": 0,
             "ticks": ""
            },
            "type": "choropleth"
           }
          ],
          "contour": [
           {
            "colorbar": {
             "outlinewidth": 0,
             "ticks": ""
            },
            "colorscale": [
             [
              0,
              "#0d0887"
             ],
             [
              0.1111111111111111,
              "#46039f"
             ],
             [
              0.2222222222222222,
              "#7201a8"
             ],
             [
              0.3333333333333333,
              "#9c179e"
             ],
             [
              0.4444444444444444,
              "#bd3786"
             ],
             [
              0.5555555555555556,
              "#d8576b"
             ],
             [
              0.6666666666666666,
              "#ed7953"
             ],
             [
              0.7777777777777778,
              "#fb9f3a"
             ],
             [
              0.8888888888888888,
              "#fdca26"
             ],
             [
              1,
              "#f0f921"
             ]
            ],
            "type": "contour"
           }
          ],
          "contourcarpet": [
           {
            "colorbar": {
             "outlinewidth": 0,
             "ticks": ""
            },
            "type": "contourcarpet"
           }
          ],
          "heatmap": [
           {
            "colorbar": {
             "outlinewidth": 0,
             "ticks": ""
            },
            "colorscale": [
             [
              0,
              "#0d0887"
             ],
             [
              0.1111111111111111,
              "#46039f"
             ],
             [
              0.2222222222222222,
              "#7201a8"
             ],
             [
              0.3333333333333333,
              "#9c179e"
             ],
             [
              0.4444444444444444,
              "#bd3786"
             ],
             [
              0.5555555555555556,
              "#d8576b"
             ],
             [
              0.6666666666666666,
              "#ed7953"
             ],
             [
              0.7777777777777778,
              "#fb9f3a"
             ],
             [
              0.8888888888888888,
              "#fdca26"
             ],
             [
              1,
              "#f0f921"
             ]
            ],
            "type": "heatmap"
           }
          ],
          "heatmapgl": [
           {
            "colorbar": {
             "outlinewidth": 0,
             "ticks": ""
            },
            "colorscale": [
             [
              0,
              "#0d0887"
             ],
             [
              0.1111111111111111,
              "#46039f"
             ],
             [
              0.2222222222222222,
              "#7201a8"
             ],
             [
              0.3333333333333333,
              "#9c179e"
             ],
             [
              0.4444444444444444,
              "#bd3786"
             ],
             [
              0.5555555555555556,
              "#d8576b"
             ],
             [
              0.6666666666666666,
              "#ed7953"
             ],
             [
              0.7777777777777778,
              "#fb9f3a"
             ],
             [
              0.8888888888888888,
              "#fdca26"
             ],
             [
              1,
              "#f0f921"
             ]
            ],
            "type": "heatmapgl"
           }
          ],
          "histogram": [
           {
            "marker": {
             "pattern": {
              "fillmode": "overlay",
              "size": 10,
              "solidity": 0.2
             }
            },
            "type": "histogram"
           }
          ],
          "histogram2d": [
           {
            "colorbar": {
             "outlinewidth": 0,
             "ticks": ""
            },
            "colorscale": [
             [
              0,
              "#0d0887"
             ],
             [
              0.1111111111111111,
              "#46039f"
             ],
             [
              0.2222222222222222,
              "#7201a8"
             ],
             [
              0.3333333333333333,
              "#9c179e"
             ],
             [
              0.4444444444444444,
              "#bd3786"
             ],
             [
              0.5555555555555556,
              "#d8576b"
             ],
             [
              0.6666666666666666,
              "#ed7953"
             ],
             [
              0.7777777777777778,
              "#fb9f3a"
             ],
             [
              0.8888888888888888,
              "#fdca26"
             ],
             [
              1,
              "#f0f921"
             ]
            ],
            "type": "histogram2d"
           }
          ],
          "histogram2dcontour": [
           {
            "colorbar": {
             "outlinewidth": 0,
             "ticks": ""
            },
            "colorscale": [
             [
              0,
              "#0d0887"
             ],
             [
              0.1111111111111111,
              "#46039f"
             ],
             [
              0.2222222222222222,
              "#7201a8"
             ],
             [
              0.3333333333333333,
              "#9c179e"
             ],
             [
              0.4444444444444444,
              "#bd3786"
             ],
             [
              0.5555555555555556,
              "#d8576b"
             ],
             [
              0.6666666666666666,
              "#ed7953"
             ],
             [
              0.7777777777777778,
              "#fb9f3a"
             ],
             [
              0.8888888888888888,
              "#fdca26"
             ],
             [
              1,
              "#f0f921"
             ]
            ],
            "type": "histogram2dcontour"
           }
          ],
          "mesh3d": [
           {
            "colorbar": {
             "outlinewidth": 0,
             "ticks": ""
            },
            "type": "mesh3d"
           }
          ],
          "parcoords": [
           {
            "line": {
             "colorbar": {
              "outlinewidth": 0,
              "ticks": ""
             }
            },
            "type": "parcoords"
           }
          ],
          "pie": [
           {
            "automargin": true,
            "type": "pie"
           }
          ],
          "scatter": [
           {
            "marker": {
             "colorbar": {
              "outlinewidth": 0,
              "ticks": ""
             }
            },
            "type": "scatter"
           }
          ],
          "scatter3d": [
           {
            "line": {
             "colorbar": {
              "outlinewidth": 0,
              "ticks": ""
             }
            },
            "marker": {
             "colorbar": {
              "outlinewidth": 0,
              "ticks": ""
             }
            },
            "type": "scatter3d"
           }
          ],
          "scattercarpet": [
           {
            "marker": {
             "colorbar": {
              "outlinewidth": 0,
              "ticks": ""
             }
            },
            "type": "scattercarpet"
           }
          ],
          "scattergeo": [
           {
            "marker": {
             "colorbar": {
              "outlinewidth": 0,
              "ticks": ""
             }
            },
            "type": "scattergeo"
           }
          ],
          "scattergl": [
           {
            "marker": {
             "colorbar": {
              "outlinewidth": 0,
              "ticks": ""
             }
            },
            "type": "scattergl"
           }
          ],
          "scattermapbox": [
           {
            "marker": {
             "colorbar": {
              "outlinewidth": 0,
              "ticks": ""
             }
            },
            "type": "scattermapbox"
           }
          ],
          "scatterpolar": [
           {
            "marker": {
             "colorbar": {
              "outlinewidth": 0,
              "ticks": ""
             }
            },
            "type": "scatterpolar"
           }
          ],
          "scatterpolargl": [
           {
            "marker": {
             "colorbar": {
              "outlinewidth": 0,
              "ticks": ""
             }
            },
            "type": "scatterpolargl"
           }
          ],
          "scatterternary": [
           {
            "marker": {
             "colorbar": {
              "outlinewidth": 0,
              "ticks": ""
             }
            },
            "type": "scatterternary"
           }
          ],
          "surface": [
           {
            "colorbar": {
             "outlinewidth": 0,
             "ticks": ""
            },
            "colorscale": [
             [
              0,
              "#0d0887"
             ],
             [
              0.1111111111111111,
              "#46039f"
             ],
             [
              0.2222222222222222,
              "#7201a8"
             ],
             [
              0.3333333333333333,
              "#9c179e"
             ],
             [
              0.4444444444444444,
              "#bd3786"
             ],
             [
              0.5555555555555556,
              "#d8576b"
             ],
             [
              0.6666666666666666,
              "#ed7953"
             ],
             [
              0.7777777777777778,
              "#fb9f3a"
             ],
             [
              0.8888888888888888,
              "#fdca26"
             ],
             [
              1,
              "#f0f921"
             ]
            ],
            "type": "surface"
           }
          ],
          "table": [
           {
            "cells": {
             "fill": {
              "color": "#EBF0F8"
             },
             "line": {
              "color": "white"
             }
            },
            "header": {
             "fill": {
              "color": "#C8D4E3"
             },
             "line": {
              "color": "white"
             }
            },
            "type": "table"
           }
          ]
         },
         "layout": {
          "annotationdefaults": {
           "arrowcolor": "#2a3f5f",
           "arrowhead": 0,
           "arrowwidth": 1
          },
          "autotypenumbers": "strict",
          "coloraxis": {
           "colorbar": {
            "outlinewidth": 0,
            "ticks": ""
           }
          },
          "colorscale": {
           "diverging": [
            [
             0,
             "#8e0152"
            ],
            [
             0.1,
             "#c51b7d"
            ],
            [
             0.2,
             "#de77ae"
            ],
            [
             0.3,
             "#f1b6da"
            ],
            [
             0.4,
             "#fde0ef"
            ],
            [
             0.5,
             "#f7f7f7"
            ],
            [
             0.6,
             "#e6f5d0"
            ],
            [
             0.7,
             "#b8e186"
            ],
            [
             0.8,
             "#7fbc41"
            ],
            [
             0.9,
             "#4d9221"
            ],
            [
             1,
             "#276419"
            ]
           ],
           "sequential": [
            [
             0,
             "#0d0887"
            ],
            [
             0.1111111111111111,
             "#46039f"
            ],
            [
             0.2222222222222222,
             "#7201a8"
            ],
            [
             0.3333333333333333,
             "#9c179e"
            ],
            [
             0.4444444444444444,
             "#bd3786"
            ],
            [
             0.5555555555555556,
             "#d8576b"
            ],
            [
             0.6666666666666666,
             "#ed7953"
            ],
            [
             0.7777777777777778,
             "#fb9f3a"
            ],
            [
             0.8888888888888888,
             "#fdca26"
            ],
            [
             1,
             "#f0f921"
            ]
           ],
           "sequentialminus": [
            [
             0,
             "#0d0887"
            ],
            [
             0.1111111111111111,
             "#46039f"
            ],
            [
             0.2222222222222222,
             "#7201a8"
            ],
            [
             0.3333333333333333,
             "#9c179e"
            ],
            [
             0.4444444444444444,
             "#bd3786"
            ],
            [
             0.5555555555555556,
             "#d8576b"
            ],
            [
             0.6666666666666666,
             "#ed7953"
            ],
            [
             0.7777777777777778,
             "#fb9f3a"
            ],
            [
             0.8888888888888888,
             "#fdca26"
            ],
            [
             1,
             "#f0f921"
            ]
           ]
          },
          "colorway": [
           "#636efa",
           "#EF553B",
           "#00cc96",
           "#ab63fa",
           "#FFA15A",
           "#19d3f3",
           "#FF6692",
           "#B6E880",
           "#FF97FF",
           "#FECB52"
          ],
          "font": {
           "color": "#2a3f5f"
          },
          "geo": {
           "bgcolor": "white",
           "lakecolor": "white",
           "landcolor": "#E5ECF6",
           "showlakes": true,
           "showland": true,
           "subunitcolor": "white"
          },
          "hoverlabel": {
           "align": "left"
          },
          "hovermode": "closest",
          "mapbox": {
           "style": "light"
          },
          "paper_bgcolor": "white",
          "plot_bgcolor": "#E5ECF6",
          "polar": {
           "angularaxis": {
            "gridcolor": "white",
            "linecolor": "white",
            "ticks": ""
           },
           "bgcolor": "#E5ECF6",
           "radialaxis": {
            "gridcolor": "white",
            "linecolor": "white",
            "ticks": ""
           }
          },
          "scene": {
           "xaxis": {
            "backgroundcolor": "#E5ECF6",
            "gridcolor": "white",
            "gridwidth": 2,
            "linecolor": "white",
            "showbackground": true,
            "ticks": "",
            "zerolinecolor": "white"
           },
           "yaxis": {
            "backgroundcolor": "#E5ECF6",
            "gridcolor": "white",
            "gridwidth": 2,
            "linecolor": "white",
            "showbackground": true,
            "ticks": "",
            "zerolinecolor": "white"
           },
           "zaxis": {
            "backgroundcolor": "#E5ECF6",
            "gridcolor": "white",
            "gridwidth": 2,
            "linecolor": "white",
            "showbackground": true,
            "ticks": "",
            "zerolinecolor": "white"
           }
          },
          "shapedefaults": {
           "line": {
            "color": "#2a3f5f"
           }
          },
          "ternary": {
           "aaxis": {
            "gridcolor": "white",
            "linecolor": "white",
            "ticks": ""
           },
           "baxis": {
            "gridcolor": "white",
            "linecolor": "white",
            "ticks": ""
           },
           "bgcolor": "#E5ECF6",
           "caxis": {
            "gridcolor": "white",
            "linecolor": "white",
            "ticks": ""
           }
          },
          "title": {
           "x": 0.05
          },
          "xaxis": {
           "automargin": true,
           "gridcolor": "white",
           "linecolor": "white",
           "ticks": "",
           "title": {
            "standoff": 15
           },
           "zerolinecolor": "white",
           "zerolinewidth": 2
          },
          "yaxis": {
           "automargin": true,
           "gridcolor": "white",
           "linecolor": "white",
           "ticks": "",
           "title": {
            "standoff": 15
           },
           "zerolinecolor": "white",
           "zerolinewidth": 2
          }
         }
        },
        "title": {
         "text": "Gold efficiency per position : the bigger the circle, the more games played",
         "x": 0.5
        },
        "xaxis": {
         "anchor": "y",
         "domain": [
          0,
          0.18400000000000002
         ],
         "title": {
          "text": "DPM_per_gold"
         }
        },
        "xaxis2": {
         "anchor": "y2",
         "domain": [
          0.20400000000000001,
          0.388
         ],
         "matches": "x",
         "title": {
          "text": "DPM_per_gold"
         }
        },
        "xaxis3": {
         "anchor": "y3",
         "domain": [
          0.40800000000000003,
          0.5920000000000001
         ],
         "matches": "x",
         "title": {
          "text": "DPM_per_gold"
         }
        },
        "xaxis4": {
         "anchor": "y4",
         "domain": [
          0.6120000000000001,
          0.7960000000000002
         ],
         "matches": "x",
         "title": {
          "text": "DPM_per_gold"
         }
        },
        "xaxis5": {
         "anchor": "y5",
         "domain": [
          0.8160000000000001,
          1
         ],
         "matches": "x",
         "title": {
          "text": "DPM_per_gold"
         }
        },
        "yaxis": {
         "anchor": "x",
         "domain": [
          0,
          1
         ],
         "showticklabels": true,
         "title": {
          "text": "Net_KP_per_gold"
         }
        },
        "yaxis2": {
         "anchor": "x2",
         "domain": [
          0,
          1
         ],
         "showticklabels": true
        },
        "yaxis3": {
         "anchor": "x3",
         "domain": [
          0,
          1
         ],
         "showticklabels": true
        },
        "yaxis4": {
         "anchor": "x4",
         "domain": [
          0,
          1
         ],
         "showticklabels": true
        },
        "yaxis5": {
         "anchor": "x5",
         "domain": [
          0,
          1
         ],
         "showticklabels": true
        }
       }
      }
     },
     "metadata": {},
     "output_type": "display_data"
    }
   ],
   "source": [
    "dash_fig = px.scatter(agg_all.assign(DPM_per_Gold = agg_all['DPM_per_gold'].astype(float).round(decimals = 3),\n",
    "Net_KP_per_Gold = agg_all['Net_KP_per_gold'].astype(float).round(3)), x=\"DPM_per_gold\", y=\"Net_KP_per_gold\",\n",
    "hover_name = \"Player\", hover_data=[\"Player\",\"Team\", \"games_played\", \"winrate%\",\n",
    "\"Image_SRC\", \"DPM_per_Gold\",\n",
    "\"Net_KP_per_Gold\"], size = \"games_played\",\n",
    "facet_col='position', color = 'position')\n",
    "\n",
    "\n",
    "dash_fig.update_layout(title_text = 'Gold efficiency per position : the bigger the circle, the more games played', title_x = 0.5)\n",
    "dash_fig.update_traces(marker=dict(symbol='circle-dot'), line=dict(width=2, color='Black'))\n",
    "dash_fig.update_yaxes(matches=None)\n",
    "dash_fig.for_each_yaxis(lambda yaxis: yaxis.update(showticklabels=True))\n",
    "dash_fig.update_traces(hoverinfo=\"none\", hovertemplate=None)\n"
   ]
  },
  {
   "cell_type": "markdown",
   "metadata": {},
   "source": [
    "Creating dash tool (one dashboard including all plots?!)"
   ]
  },
  {
   "cell_type": "code",
   "execution_count": 783,
   "metadata": {},
   "outputs": [],
   "source": [
    "app = Dash(__name__)\n",
    "\n",
    "app.layout = html.Div([\n",
    "    dcc.Graph(id=\"gold_efficiency_plot\", figure=dash_fig, clear_on_unhover=True),\n",
    "    dcc.Tooltip(id=\"graph-tooltip\"),\n",
    "])\n",
    "\n",
    "\n",
    "@app.callback(\n",
    "    Output(\"graph-tooltip\", \"show\"),\n",
    "    Output(\"graph-tooltip\", \"bbox\"),\n",
    "    Output(\"graph-tooltip\", \"children\"),\n",
    "    Input(\"gold_efficiency_plot\", \"hoverData\"),\n",
    ")\n",
    "def display_hover(hoverData):\n",
    "    if hoverData is None:\n",
    "        return False, no_update, no_update\n",
    "\n",
    "    # Define data for hover\n",
    "\n",
    "\n",
    "    hover_data = hoverData[\"points\"][0]\n",
    "\n",
    "    player_data = hover_data[\"customdata\"]\n",
    "    bbox = hover_data[\"bbox\"]\n",
    "\n",
    "    player = player_data[0]\n",
    "    team = player_data[1]\n",
    "    games_played = player_data[2]\n",
    "    winrate = player_data[3]\n",
    "    team_logo = player_data[4]\n",
    "    DPM_per_gold = player_data[5]\n",
    "    Net_KP_per_gold = player_data[6]\n",
    "\n",
    "    children = [\n",
    "        html.Div([\n",
    "            html.Img(src=team_logo, width=125),\n",
    "            html.H2(f\"{player}\", style={\"color\": \"darkblue\"}),\n",
    "            html.P(f\"Team: {team}\"),\n",
    "            html.P(f\"DPM per gold: {DPM_per_gold}\"),\n",
    "            html.P(f\"Net KP per gold: {Net_KP_per_gold}\"),\n",
    "            html.P(f\"Games Played: {games_played}\"),\n",
    "            html.P(f\"Winrate in %: {winrate}\"),\n",
    "        ], style={'width': '125', 'white-space': 'normal', 'font-family': 'Arial'})\n",
    "    ]\n",
    "   \n",
    "# bilder tooltip immer zeigen um dominante teams zu sehen\n",
    "\n",
    "    return True, bbox, children"
   ]
  },
  {
   "cell_type": "markdown",
   "metadata": {},
   "source": [
    "Running dash tool"
   ]
  },
  {
   "cell_type": "code",
   "execution_count": 784,
   "metadata": {},
   "outputs": [
    {
     "name": "stdout",
     "output_type": "stream",
     "text": [
      "Dash is running on http://127.0.0.1:8050/\n",
      "\n",
      "Dash is running on http://127.0.0.1:8050/\n",
      "\n",
      "Dash is running on http://127.0.0.1:8050/\n",
      "\n",
      "Dash is running on http://127.0.0.1:8050/\n",
      "\n",
      "Dash is running on http://127.0.0.1:8050/\n",
      "\n",
      "Dash is running on http://127.0.0.1:8050/\n",
      "\n",
      "Dash is running on http://127.0.0.1:8050/\n",
      "\n",
      "Dash is running on http://127.0.0.1:8050/\n",
      "\n",
      "Dash is running on http://127.0.0.1:8050/\n",
      "\n",
      "Dash is running on http://127.0.0.1:8050/\n",
      "\n",
      "Dash is running on http://127.0.0.1:8050/\n",
      "\n",
      "Dash is running on http://127.0.0.1:8050/\n",
      "\n",
      "Dash is running on http://127.0.0.1:8050/\n",
      "\n",
      "Dash is running on http://127.0.0.1:8050/\n",
      "\n",
      "Dash is running on http://127.0.0.1:8050/\n",
      "\n",
      "Dash is running on http://127.0.0.1:8050/\n",
      "\n",
      "Dash is running on http://127.0.0.1:8050/\n",
      "\n",
      "Dash is running on http://127.0.0.1:8050/\n",
      "\n",
      "Dash is running on http://127.0.0.1:8050/\n",
      "\n",
      "Dash is running on http://127.0.0.1:8050/\n",
      "\n",
      "Dash is running on http://127.0.0.1:8050/\n",
      "\n",
      "Dash is running on http://127.0.0.1:8050/\n",
      "\n",
      "Dash is running on http://127.0.0.1:8050/\n",
      "\n",
      "Dash is running on http://127.0.0.1:8050/\n",
      "\n",
      "Dash is running on http://127.0.0.1:8050/\n",
      "\n",
      "Dash is running on http://127.0.0.1:8050/\n",
      "\n",
      "Dash is running on http://127.0.0.1:8050/\n",
      "\n",
      "Dash is running on http://127.0.0.1:8050/\n",
      "\n",
      "Dash is running on http://127.0.0.1:8050/\n",
      "\n",
      "Dash is running on http://127.0.0.1:8050/\n",
      "\n",
      "Dash is running on http://127.0.0.1:8050/\n",
      "\n",
      "Dash is running on http://127.0.0.1:8050/\n",
      "\n",
      "Dash is running on http://127.0.0.1:8050/\n",
      "\n",
      "Dash is running on http://127.0.0.1:8050/\n",
      "\n",
      "Dash is running on http://127.0.0.1:8050/\n",
      "\n",
      "Dash is running on http://127.0.0.1:8050/\n",
      "\n",
      "Dash is running on http://127.0.0.1:8050/\n",
      "\n",
      "Dash is running on http://127.0.0.1:8050/\n",
      "\n",
      "Dash is running on http://127.0.0.1:8050/\n",
      "\n",
      "Dash is running on http://127.0.0.1:8050/\n",
      "\n",
      "Dash is running on http://127.0.0.1:8050/\n",
      "\n",
      " * Serving Flask app \"__main__\" (lazy loading)\n",
      " * Environment: production\n",
      "   WARNING: This is a development server. Do not use it in a production deployment.\n",
      "   Use a production WSGI server instead.\n",
      " * Debug mode: on\n"
     ]
    }
   ],
   "source": [
    "if __name__ == \"__main__\":\n",
    "    app.run_server(debug=True, use_reloader=False) "
   ]
  },
  {
   "cell_type": "code",
   "execution_count": null,
   "metadata": {},
   "outputs": [
    {
     "data": {
      "text/plain": [
       "<matplotlib.legend.Legend at 0x26a183926a0>"
      ]
     },
     "execution_count": 31,
     "metadata": {},
     "output_type": "execute_result"
    },
    {
     "data": {
      "image/png": "[encoded data removed]",
      "text/plain": [
       "<Figure size 1800x1200 with 1 Axes>"
      ]
     },
     "metadata": {
      "needs_background": "light"
     },
     "output_type": "display_data"
    }
   ],
   "source": [
    "fig, ax = plt.subplots(1, 1)\n",
    "\n",
    "fig.set_dpi(300)\n",
    "\n",
    "gold_efficiency_plot = sns.scatterplot(ax=ax, x=\"DPM_per_gold\",\n",
    " y=\"Net_KP_per_gold\", data=agg_all.query('position == \"Middle\"'),\n",
    "  hue='Team', size='games_played')\n",
    "  \n",
    "  \n",
    "gold_efficiency_plot.legend(loc='center left', prop={'size': 6})\n"
   ]
  }
 ],
 "metadata": {
  "interpreter": {
   "hash": "472d943c67c954b7f06b1baeba716db8b575ace6c95caa276b0093a7ac85c3bd"
  },
  "kernelspec": {
   "display_name": "Python 3.6.13 64-bit (conda)",
   "language": "python",
   "name": "python3"
  },
  "language_info": {
   "codemirror_mode": {
    "name": "ipython",
    "version": 3
   },
   "file_extension": ".py",
   "mimetype": "text/x-python",
   "name": "python",
   "nbconvert_exporter": "python",
   "pygments_lexer": "ipython3",
   "version": "3.8.5"
  },
  "orig_nbformat": 4
 },
 "nbformat": 4,
 "nbformat_minor": 2
}
