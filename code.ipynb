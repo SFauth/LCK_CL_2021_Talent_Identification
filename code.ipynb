{
 "cells": [
  {
   "cell_type": "markdown",
   "metadata": {},
   "source": [
    "League of Legends is a popular Multiplayer Online Battle Arena (MOBA) that is played by more than 100 Million people around the globe. Data is publicly available and can be accessed. The problem is that the data structure is very incovenient (a lot of dictionaries) and a lot of data wrangling is necessary until actual, useful questions can be answered. This project gets data from the Riot Games API."
   ]
  },
  {
   "cell_type": "code",
   "execution_count": 2,
   "metadata": {},
   "outputs": [],
   "source": [
    "import pandas as pd\n",
    "import numpy as np\n",
    "from scipy.stats import beta, binom\n",
    "import matplotlib.pyplot as plt\n",
    "import seaborn as sns"
   ]
  },
  {
   "cell_type": "markdown",
   "metadata": {},
   "source": [
    "Teams try to find talented players. We want to get stats for the best players (Rank: Challenger) of the Korean server. Teams' scouts might be interested in metrics.\n"
   ]
  },
  {
   "cell_type": "markdown",
   "metadata": {},
   "source": [
    "Reading in data from Oracle's Elixir, downloaded on 1-13-2021."
   ]
  },
  {
   "cell_type": "code",
   "execution_count": 3,
   "metadata": {},
   "outputs": [],
   "source": [
    "sp_2021_reg, sp_2021_pl, su_2021_reg, su_2021_pl =  pd.read_csv(\"LCK CL 2021 Spring - Player Stats - OraclesElixir.csv\"), pd.read_csv(\"LCK CL 2021 Spring Playoffs - Player Stats - OraclesElixir.csv\"), pd.read_csv(\"LCK CL 2021 Summer - Player Stats - OraclesElixir.csv\"), pd.read_csv(\"LCK CL 2021 Summer Playoffs - Player Stats - OraclesElixir.csv\")\n",
    "\n",
    "all_splits = [sp_2021_reg, sp_2021_pl, su_2021_reg, su_2021_pl]\n",
    "\n",
    "all_splits_df = pd.concat(all_splits)"
   ]
  },
  {
   "cell_type": "markdown",
   "metadata": {},
   "source": [
    "Inspecting one players as an example."
   ]
  },
  {
   "cell_type": "code",
   "execution_count": 4,
   "metadata": {},
   "outputs": [
    {
     "data": {
      "text/plain": [
       "Index(['Player', 'Team', 'Pos', 'GP', 'W%', 'CTR%', 'K', 'D', 'A', 'KDA', 'KP',\n",
       "       'KS%', 'DTH%', 'FB%', 'GD10', 'XPD10', 'CSD10', 'CSPM', 'CS%P15', 'DPM',\n",
       "       'DMG%', 'D%P15', 'EGPM', 'GOLD%', 'STL', 'WPM', 'WCPM'],\n",
       "      dtype='object')"
      ]
     },
     "execution_count": 4,
     "metadata": {},
     "output_type": "execute_result"
    }
   ],
   "source": [
    "all_splits_df.query('Player == \"Berserker\"').columns"
   ]
  },
  {
   "cell_type": "markdown",
   "metadata": {},
   "source": [
    "We want to change some column names to avoid confusion."
   ]
  },
  {
   "cell_type": "code",
   "execution_count": 5,
   "metadata": {},
   "outputs": [],
   "source": [
    "all_splits_df = all_splits_df.rename(columns={\"K\": \"total_kills\",\n",
    "\"Pos\": \"position\",\n",
    " \"D\": \"total_deaths\",\n",
    "  \"A\": \"total_assists\",\n",
    "  \"GP\": \"games_played\",\n",
    "   \"W%\": \"winrate%\",\n",
    "    \"CTR%\": \"pick_after_opponent%\",\n",
    "     \"KP\":\"kill_assist_participation%\",\n",
    "      \"KS%\":\"kill_participation%\",\n",
    "      \"DTH%\":\"average_share_teams_deaths%\",\n",
    "      \"FB%\": \"first_blood_participation_rate%\",\n",
    "      \"GD10\": \"average_gold_diff_10_min\",\n",
    "      \"XPD10\": \"average_xp_diff_10_min\",\n",
    "      \"CSD10\": \"average_cs_diff_10_min\",\n",
    "      \"CSPM\": \"average_CSPM\",\n",
    "      \"CS%P15\": \"average_share_team_cs_post_15_min%\",\n",
    "      \"DPM\": \"average_DPM_to_champs\",\n",
    "      \"DMG%\": \"average_share_team_DMG_to_champs%\",\n",
    "      \"D%P15\": \"average_share_team_DMG_to_champs_post_15_min%\",\n",
    "      \"EGPM\": \"average_gold_per_min\",\n",
    "      \"GOLD%\": \"average_share_team_gold%\",\n",
    "      \"STL\": \"num_neutral_obj_stolen\",\n",
    "      \"WPM\": \"average_wards_per_min\",\n",
    "      \"WCPM\": \"average_wards_cleared_per_min\"})"
   ]
  },
  {
   "cell_type": "markdown",
   "metadata": {},
   "source": [
    "Inspecting the resulting column names and their datatypes. "
   ]
  },
  {
   "cell_type": "code",
   "execution_count": 6,
   "metadata": {},
   "outputs": [
    {
     "data": {
      "text/plain": [
       "Player                                            object\n",
       "Team                                              object\n",
       "position                                          object\n",
       "games_played                                       int64\n",
       "winrate%                                          object\n",
       "pick_after_opponent%                              object\n",
       "total_kills                                        int64\n",
       "total_deaths                                       int64\n",
       "total_assists                                      int64\n",
       "KDA                                              float64\n",
       "kill_assist_participation%                        object\n",
       "kill_participation%                               object\n",
       "average_share_teams_deaths%                       object\n",
       "first_blood_participation_rate%                   object\n",
       "average_gold_diff_10_min                           int64\n",
       "average_xp_diff_10_min                             int64\n",
       "average_cs_diff_10_min                           float64\n",
       "average_CSPM                                     float64\n",
       "average_share_team_cs_post_15_min%                object\n",
       "average_DPM_to_champs                              int64\n",
       "average_share_team_DMG_to_champs%                 object\n",
       "average_share_team_DMG_to_champs_post_15_min%     object\n",
       "average_gold_per_min                               int64\n",
       "average_share_team_gold%                          object\n",
       "num_neutral_obj_stolen                           float64\n",
       "average_wards_per_min                            float64\n",
       "average_wards_cleared_per_min                    float64\n",
       "dtype: object"
      ]
     },
     "execution_count": 6,
     "metadata": {},
     "output_type": "execute_result"
    }
   ],
   "source": [
    "all_splits_df.dtypes"
   ]
  },
  {
   "cell_type": "markdown",
   "metadata": {},
   "source": [
    "All columns that are measured in percent are not recognized as numeric columns, but as object columns. In order to use mathematical operations with these columns, they have to be transformed to numeric columns."
   ]
  },
  {
   "cell_type": "code",
   "execution_count": 7,
   "metadata": {},
   "outputs": [
    {
     "data": {
      "text/plain": [
       "0     55\n",
       "1     83\n",
       "2     63\n",
       "3     83\n",
       "4     42\n",
       "      ..\n",
       "28    40\n",
       "29    40\n",
       "30    44\n",
       "31    50\n",
       "32    50\n",
       "Name: winrate%, Length: 195, dtype: object"
      ]
     },
     "execution_count": 7,
     "metadata": {},
     "output_type": "execute_result"
    }
   ],
   "source": [
    "all_splits_df['winrate%'].str.rstrip('%')\n",
    "\n",
    "#all_splits_df.astype({'winrate%' : 'float64'})"
   ]
  },
  {
   "cell_type": "markdown",
   "metadata": {},
   "source": [
    "As we have seen above, some players participated in more than one split, we have to aggregate their data, such that we end up with one row for every player. We want to keep non-performance related features, as they are in the raw data: this includes the player name, his team, his position and the number of games played. Some metrics allow for just averaging over them (e.g. all averaged metrics). This is possible, as these metrics refer to an average game of a player in one split, i.e. playoff. Thus, taking their mean just means that the value now represents the average game of all tournaments, a player took part in. However, this can not be done for absolute measures who refer to a whole tournaments, such as kills. This is due to the fact that certain players have participated in different tournaments that had a different amount of games. This questions the general use of absolute measures."
   ]
  },
  {
   "cell_type": "markdown",
   "metadata": {},
   "source": [
    "We are gonna create lists that specify columns that will be aggregated in the same way: one list for the columns that will be summed, one list for the columns that will be averaged, and finally, one list for the remaining, non-numerical, columns."
   ]
  },
  {
   "cell_type": "code",
   "execution_count": 8,
   "metadata": {},
   "outputs": [],
   "source": [
    "cols_to_sum = ['games_played',\n",
    " 'total_kills', 'total_deaths',\n",
    "  'total_assists', 'num_neutral_obj_stolen']\n",
    "\n",
    "cols_to_keep = ['Player','Team', 'position']\n",
    "\n",
    "cols_to_avg = [col for col in all_splits_df.columns if col not in (cols_to_sum + cols_to_keep)]"
   ]
  },
  {
   "cell_type": "markdown",
   "metadata": {},
   "source": [
    "Transforming string columns that are stored in % to numerical columns, before grouping and performing the aggregation."
   ]
  },
  {
   "cell_type": "code",
   "execution_count": 9,
   "metadata": {},
   "outputs": [],
   "source": [
    "percentage_cols = [col for col in cols_to_avg if col.endswith(\"%\")]\n",
    "\n",
    "all_splits_df_percentage_cols = all_splits_df[percentage_cols].astype(str).applymap(lambda x: x.strip(\"%\"))\n",
    "\n",
    "\n",
    "\n",
    "all_splits_df = pd.concat([all_splits_df.drop(percentage_cols, axis = 1),\n",
    " all_splits_df_percentage_cols.astype('float16')], axis = 1)"
   ]
  },
  {
   "cell_type": "code",
   "execution_count": 10,
   "metadata": {},
   "outputs": [
    {
     "data": {
      "text/plain": [
       "Player                                            object\n",
       "Team                                              object\n",
       "position                                          object\n",
       "games_played                                       int64\n",
       "total_kills                                        int64\n",
       "total_deaths                                       int64\n",
       "total_assists                                      int64\n",
       "KDA                                              float64\n",
       "average_gold_diff_10_min                           int64\n",
       "average_xp_diff_10_min                             int64\n",
       "average_cs_diff_10_min                           float64\n",
       "average_CSPM                                     float64\n",
       "average_DPM_to_champs                              int64\n",
       "average_gold_per_min                               int64\n",
       "num_neutral_obj_stolen                           float64\n",
       "average_wards_per_min                            float64\n",
       "average_wards_cleared_per_min                    float64\n",
       "winrate%                                         float16\n",
       "pick_after_opponent%                             float16\n",
       "kill_assist_participation%                       float16\n",
       "kill_participation%                              float16\n",
       "average_share_teams_deaths%                      float16\n",
       "first_blood_participation_rate%                  float16\n",
       "average_share_team_cs_post_15_min%               float16\n",
       "average_share_team_DMG_to_champs%                float16\n",
       "average_share_team_DMG_to_champs_post_15_min%    float16\n",
       "average_share_team_gold%                         float16\n",
       "dtype: object"
      ]
     },
     "execution_count": 10,
     "metadata": {},
     "output_type": "execute_result"
    }
   ],
   "source": [
    "all_splits_df.dtypes"
   ]
  },
  {
   "cell_type": "markdown",
   "metadata": {},
   "source": [
    "Grouping and aggregating."
   ]
  },
  {
   "cell_type": "code",
   "execution_count": 11,
   "metadata": {},
   "outputs": [],
   "source": [
    "all_splits_by_player = all_splits_df.groupby(['Player'])\n",
    "\n",
    "orig_cols = all_splits_df[cols_to_keep].drop_duplicates('Player')\n",
    "summed_cols = all_splits_by_player[cols_to_sum].sum()\n",
    "\n",
    "\n",
    "avg_cols = all_splits_by_player[cols_to_avg].mean()\n",
    "\n"
   ]
  },
  {
   "cell_type": "markdown",
   "metadata": {},
   "source": [
    " Concatenating the dfs. "
   ]
  },
  {
   "cell_type": "code",
   "execution_count": 12,
   "metadata": {},
   "outputs": [],
   "source": [
    "orig_summed_cols = pd.concat([orig_cols.set_index('Player'), summed_cols], axis = 1)\n",
    "agg_all = pd.concat([orig_summed_cols, avg_cols], axis = 1)"
   ]
  },
  {
   "cell_type": "markdown",
   "metadata": {},
   "source": [
    "Unfortunately, the metrics are still biased by the team and the position of a player. One should not compare the number of kills of a support and of an attack damage carry (ADC). This can be easily be taken care of by grouping by positions.\n",
    "Added to that, two players that feature the same characteristics (e.g. ability) will have different metrics. This is due to the fact that if one player is on the worst team, while the other is on the best team, he will score less kills, for example. Therefore, it is also indispensable to account for the relative rank of a player's team. In order to minimize the team's effect, we will conduct statistical tests to compare the performance of teams. Then, if a team's performance (m games won out of n games) is not statistically different from another team's, we consider then to be similar, allowing for comparison of players. First, we have to compute a team's performance. This can be done by looking at the player of the team that has played most games for it, serving as an estimate for m and n."
   ]
  },
  {
   "cell_type": "code",
   "execution_count": 13,
   "metadata": {},
   "outputs": [
    {
     "data": {
      "text/html": [
       "<div>\n",
       "<style scoped>\n",
       "    .dataframe tbody tr th:only-of-type {\n",
       "        vertical-align: middle;\n",
       "    }\n",
       "\n",
       "    .dataframe tbody tr th {\n",
       "        vertical-align: top;\n",
       "    }\n",
       "\n",
       "    .dataframe thead th {\n",
       "        text-align: right;\n",
       "    }\n",
       "</style>\n",
       "<table border=\"1\" class=\"dataframe\">\n",
       "  <thead>\n",
       "    <tr style=\"text-align: right;\">\n",
       "      <th></th>\n",
       "      <th>wins</th>\n",
       "      <th>winrate%</th>\n",
       "      <th>games_played</th>\n",
       "    </tr>\n",
       "    <tr>\n",
       "      <th>Team</th>\n",
       "      <th></th>\n",
       "      <th></th>\n",
       "      <th></th>\n",
       "    </tr>\n",
       "  </thead>\n",
       "  <tbody>\n",
       "    <tr>\n",
       "      <th>Gen.G Challengers</th>\n",
       "      <td>39</td>\n",
       "      <td>76</td>\n",
       "      <td>51</td>\n",
       "    </tr>\n",
       "    <tr>\n",
       "      <th>DWG KIA Challengers</th>\n",
       "      <td>27</td>\n",
       "      <td>75</td>\n",
       "      <td>36</td>\n",
       "    </tr>\n",
       "    <tr>\n",
       "      <th>Kwangdong Freecs Challengers</th>\n",
       "      <td>25</td>\n",
       "      <td>71</td>\n",
       "      <td>36</td>\n",
       "    </tr>\n",
       "    <tr>\n",
       "      <th>T1 Challengers</th>\n",
       "      <td>29</td>\n",
       "      <td>70</td>\n",
       "      <td>42</td>\n",
       "    </tr>\n",
       "    <tr>\n",
       "      <th>Nongshim RedForce Challengers</th>\n",
       "      <td>28</td>\n",
       "      <td>59</td>\n",
       "      <td>48</td>\n",
       "    </tr>\n",
       "    <tr>\n",
       "      <th>KT Rolster Challengers</th>\n",
       "      <td>27</td>\n",
       "      <td>57</td>\n",
       "      <td>48</td>\n",
       "    </tr>\n",
       "    <tr>\n",
       "      <th>Hanwha Life Esports Challengers</th>\n",
       "      <td>26</td>\n",
       "      <td>52</td>\n",
       "      <td>50</td>\n",
       "    </tr>\n",
       "    <tr>\n",
       "      <th>DRX Challengers</th>\n",
       "      <td>24</td>\n",
       "      <td>50</td>\n",
       "      <td>48</td>\n",
       "    </tr>\n",
       "    <tr>\n",
       "      <th>Liiv SANDBOX Challengers</th>\n",
       "      <td>21</td>\n",
       "      <td>47</td>\n",
       "      <td>46</td>\n",
       "    </tr>\n",
       "    <tr>\n",
       "      <th>Fredit BRION Challengers</th>\n",
       "      <td>17</td>\n",
       "      <td>45</td>\n",
       "      <td>39</td>\n",
       "    </tr>\n",
       "  </tbody>\n",
       "</table>\n",
       "</div>"
      ],
      "text/plain": [
       "                                 wins  winrate%  games_played\n",
       "Team                                                         \n",
       "Gen.G Challengers                  39        76            51\n",
       "DWG KIA Challengers                27        75            36\n",
       "Kwangdong Freecs Challengers       25        71            36\n",
       "T1 Challengers                     29        70            42\n",
       "Nongshim RedForce Challengers      28        59            48\n",
       "KT Rolster Challengers             27        57            48\n",
       "Hanwha Life Esports Challengers    26        52            50\n",
       "DRX Challengers                    24        50            48\n",
       "Liiv SANDBOX Challengers           21        47            46\n",
       "Fredit BRION Challengers           17        45            39"
      ]
     },
     "execution_count": 13,
     "metadata": {},
     "output_type": "execute_result"
    }
   ],
   "source": [
    "teams = agg_all.groupby(['Team']).max('games_played')\n",
    "\n",
    "teams = teams.assign(wins = (teams['winrate%'] / 100) * teams['games_played']).astype(int)\n",
    "\n",
    "win_stats = teams[['wins', 'winrate%', 'games_played']].sort_values(by=['winrate%'], ascending = False)\n",
    "\n",
    "win_stats"
   ]
  },
  {
   "cell_type": "markdown",
   "metadata": {},
   "source": [
    "By descriptively looking at the teams, I would suggest three groups: Gen.G, DWG, Freecs and T1 form the best teams, followed by mid tier teams Nongshim and KT. Lastly, we have the rest of the teams whose winrate is very close to 50% only. Unfortunately, comparison within groups would be quite difficult, assuming we have three groups, as in the worst case scenario, we would only have two players in each position to compare in the mid tier group. Therefore, two groups should be the play. Still, it remains unclear, where the cut-off should be. Maybe inference can help us making this decision: "
   ]
  },
  {
   "cell_type": "markdown",
   "metadata": {},
   "source": [
    "#### Hypothesis testing\n",
    "$H_0: w_0 = ... = w_9 $\n",
    "\n",
    "A standard testing procedure comparing all win rates, simultaneously, would not really help to solve to this problem, as it is super likely that we would reject the $H_0$ just due to Fredit and Gen.G's difference. We would not gain a lot of additional insight, as we don't statistical evidence for this difference (the worst team and the best team are just different). Therefore, it is necessary to think about a more useful approach. It would be possible to do pair wise comparisons instead. Then, however, one has to consider the type-1-error inflation, by implementing, for instance, the Bonferroni correction. \\\n",
    "Pair-wise comparisons can be done by doing Binomial tests, as we are having one binomial distribution for every team. We want to know whether these distributions differ."
   ]
  },
  {
   "cell_type": "markdown",
   "metadata": {},
   "source": [
    "$p(w_i | m_i , n_i ) =  \\frac{p(m_i , n_i | w_i) * p(w_i)}\n",
    "    {\\int p(m_i , n_i | w_a) * p(w_a) dw_a}$"
   ]
  },
  {
   "cell_type": "markdown",
   "metadata": {},
   "source": [
    "Let's do Bayesian inference to get a posterior for the winrate of every team. The prior should be a distribution that suggests, most frequently, a winrate of 50%, as I would assume, before seeing any data that each team will perform similarly well, while some teams are worse and some teams are better. We want to use a Beta prior:"
   ]
  },
  {
   "cell_type": "markdown",
   "metadata": {},
   "source": [
    "$p(w_i) = \\frac{(w_i)^{a-1} (1-w_i)^{b-1}}{B(a,b)}$"
   ]
  },
  {
   "cell_type": "markdown",
   "metadata": {},
   "source": [
    "Creating a function that plots a beta distribution, which is parameterized by a and b:"
   ]
  },
  {
   "cell_type": "code",
   "execution_count": 14,
   "metadata": {},
   "outputs": [],
   "source": [
    "def plot_beta_prior(a:float, b:float):\n",
    "\n",
    "    prior = beta(a,b)\n",
    "\n",
    "    mm = np.linspace(0, 1, 500)\n",
    "\n",
    "    fig,ax = plt.subplots(1,1, figsize=(10, 4),dpi=150)\n",
    "    \n",
    "    ax.vlines(mm,0,prior.pdf(mm))   \n",
    "\n"
   ]
  },
  {
   "cell_type": "markdown",
   "metadata": {},
   "source": [
    "A symmetric beta distribution manifests the belief that the most frequent winrate is 50%:"
   ]
  },
  {
   "cell_type": "code",
   "execution_count": 15,
   "metadata": {},
   "outputs": [
    {
     "data": {
      "image/png": "[encoded data removed]",
      "text/plain": [
       "<Figure size 1500x600 with 1 Axes>"
      ]
     },
     "metadata": {
      "needs_background": "light"
     },
     "output_type": "display_data"
    }
   ],
   "source": [
    "plot_beta_prior(2,2 )"
   ]
  },
  {
   "cell_type": "markdown",
   "metadata": {},
   "source": [
    "As mentioned above, we are having a Binomial likelihood:"
   ]
  },
  {
   "cell_type": "markdown",
   "metadata": {},
   "source": [
    "$p(m_i , n_i | w_i) = {n_i\\choose m_i} w_{i}^{m_i} (1 - w_i)^{n_i - m_i}$"
   ]
  },
  {
   "cell_type": "markdown",
   "metadata": {},
   "source": [
    "Creating a function that plots a binomial distribution:"
   ]
  },
  {
   "cell_type": "code",
   "execution_count": 16,
   "metadata": {},
   "outputs": [],
   "source": [
    "def plot_binomial_likelihood(n:int, w:float):\n",
    "\n",
    "    grid = np.arange(n_1)\n",
    "\n",
    "    fig,ax = plt.subplots(1,1, figsize=(10, 4),dpi=150)\n",
    "    ax.vlines(grid, 0, binom.pmf(grid, n, w))   \n"
   ]
  },
  {
   "cell_type": "markdown",
   "metadata": {},
   "source": [
    "For Gen.G, this looks like:"
   ]
  },
  {
   "cell_type": "code",
   "execution_count": 17,
   "metadata": {},
   "outputs": [
    {
     "data": {
      "image/png": "[encoded data removed]",
      "text/plain": [
       "<Figure size 1500x600 with 1 Axes>"
      ]
     },
     "metadata": {
      "needs_background": "light"
     },
     "output_type": "display_data"
    }
   ],
   "source": [
    "n_1 = win_stats.loc['Gen.G Challengers'].games_played\n",
    "w_1 = win_stats.loc['Gen.G Challengers'][['winrate%']]/100\n",
    "m_1 = win_stats.loc['Gen.G Challengers'].wins\n",
    "\n",
    "plot_binomial_likelihood(n_1, w_1)\n"
   ]
  },
  {
   "cell_type": "markdown",
   "metadata": {},
   "source": [
    "The Beta distribution is a conjugate prior for the Binomial distribution, which means that we can write down the posterior in the following closed form:"
   ]
  },
  {
   "cell_type": "markdown",
   "metadata": {},
   "source": [
    "$p(w_i | m_i , n_i ) = \\frac{(w_i)^{a - 1 + m_i} (1-w_i)^{b- 1+ n_i - m_i}}{B(a + m_i; b - n_i + m_i )}$"
   ]
  },
  {
   "cell_type": "markdown",
   "metadata": {},
   "source": [
    "Creating a function that plots the probability density function (PDF) of a posterior (beta distribution), which is parameterized by $a' = a + m_i$ and $b' = b - n_i + m_i$:"
   ]
  },
  {
   "cell_type": "code",
   "execution_count": 18,
   "metadata": {},
   "outputs": [],
   "source": [
    "def plot_beta_posterior_team(teams:list, a:int, b:int):\n",
    "    \"\"\"\n",
    "    Specify a list of teams whose posterior should plotted,\n",
    "    assuming prior Beta prior parameters a and b.\n",
    "\n",
    "    \"\"\"\n",
    "    jet= plt.get_cmap('jet')\n",
    "    colors = iter(jet(np.linspace(0,1,5)))\n",
    "    \n",
    "    fig, axs = plt.subplots(1,1, figsize=(10, 4),dpi=150)\n",
    "    \n",
    "    for team in range(len(teams)):\n",
    "        m_i = win_stats_formalized.filter(like=teams[team], axis=0).m_i\n",
    "        n_i = win_stats_formalized.filter(like=teams[team], axis=0).n_i \n",
    "\n",
    "        mm = np.linspace(0, 1, 100)\n",
    "        \n",
    "        axs.plot(mm, beta.pdf(mm, a + m_i, b + n_i - m_i ), label=teams[team])\n",
    "        axs.fill(mm, beta.pdf(mm, a + m_i, b + n_i - m_i ), alpha = 0.1)\n",
    "        axs.legend()\n",
    "\n",
    "        "
   ]
  },
  {
   "cell_type": "code",
   "execution_count": 19,
   "metadata": {},
   "outputs": [
    {
     "data": {
      "text/html": [
       "<div>\n",
       "<style scoped>\n",
       "    .dataframe tbody tr th:only-of-type {\n",
       "        vertical-align: middle;\n",
       "    }\n",
       "\n",
       "    .dataframe tbody tr th {\n",
       "        vertical-align: top;\n",
       "    }\n",
       "\n",
       "    .dataframe thead th {\n",
       "        text-align: right;\n",
       "    }\n",
       "</style>\n",
       "<table border=\"1\" class=\"dataframe\">\n",
       "  <thead>\n",
       "    <tr style=\"text-align: right;\">\n",
       "      <th></th>\n",
       "      <th>m_i</th>\n",
       "      <th>w_i</th>\n",
       "      <th>n_i</th>\n",
       "    </tr>\n",
       "    <tr>\n",
       "      <th>Team</th>\n",
       "      <th></th>\n",
       "      <th></th>\n",
       "      <th></th>\n",
       "    </tr>\n",
       "  </thead>\n",
       "  <tbody>\n",
       "    <tr>\n",
       "      <th>Gen.G Challengers</th>\n",
       "      <td>39</td>\n",
       "      <td>76</td>\n",
       "      <td>51</td>\n",
       "    </tr>\n",
       "    <tr>\n",
       "      <th>DWG KIA Challengers</th>\n",
       "      <td>27</td>\n",
       "      <td>75</td>\n",
       "      <td>36</td>\n",
       "    </tr>\n",
       "    <tr>\n",
       "      <th>Kwangdong Freecs Challengers</th>\n",
       "      <td>25</td>\n",
       "      <td>71</td>\n",
       "      <td>36</td>\n",
       "    </tr>\n",
       "    <tr>\n",
       "      <th>T1 Challengers</th>\n",
       "      <td>29</td>\n",
       "      <td>70</td>\n",
       "      <td>42</td>\n",
       "    </tr>\n",
       "    <tr>\n",
       "      <th>Nongshim RedForce Challengers</th>\n",
       "      <td>28</td>\n",
       "      <td>59</td>\n",
       "      <td>48</td>\n",
       "    </tr>\n",
       "    <tr>\n",
       "      <th>KT Rolster Challengers</th>\n",
       "      <td>27</td>\n",
       "      <td>57</td>\n",
       "      <td>48</td>\n",
       "    </tr>\n",
       "    <tr>\n",
       "      <th>Hanwha Life Esports Challengers</th>\n",
       "      <td>26</td>\n",
       "      <td>52</td>\n",
       "      <td>50</td>\n",
       "    </tr>\n",
       "    <tr>\n",
       "      <th>DRX Challengers</th>\n",
       "      <td>24</td>\n",
       "      <td>50</td>\n",
       "      <td>48</td>\n",
       "    </tr>\n",
       "    <tr>\n",
       "      <th>Liiv SANDBOX Challengers</th>\n",
       "      <td>21</td>\n",
       "      <td>47</td>\n",
       "      <td>46</td>\n",
       "    </tr>\n",
       "    <tr>\n",
       "      <th>Fredit BRION Challengers</th>\n",
       "      <td>17</td>\n",
       "      <td>45</td>\n",
       "      <td>39</td>\n",
       "    </tr>\n",
       "  </tbody>\n",
       "</table>\n",
       "</div>"
      ],
      "text/plain": [
       "                                 m_i  w_i  n_i\n",
       "Team                                          \n",
       "Gen.G Challengers                 39   76   51\n",
       "DWG KIA Challengers               27   75   36\n",
       "Kwangdong Freecs Challengers      25   71   36\n",
       "T1 Challengers                    29   70   42\n",
       "Nongshim RedForce Challengers     28   59   48\n",
       "KT Rolster Challengers            27   57   48\n",
       "Hanwha Life Esports Challengers   26   52   50\n",
       "DRX Challengers                   24   50   48\n",
       "Liiv SANDBOX Challengers          21   47   46\n",
       "Fredit BRION Challengers          17   45   39"
      ]
     },
     "execution_count": 19,
     "metadata": {},
     "output_type": "execute_result"
    }
   ],
   "source": [
    "win_stats_formalized = win_stats.rename(columns={\"wins\": \"m_i\", \"winrate%\": \"w_i\", \"games_played\": \"n_i\"})\n",
    "\n",
    "win_stats_formalized"
   ]
  },
  {
   "cell_type": "code",
   "execution_count": 20,
   "metadata": {},
   "outputs": [
    {
     "data": {
      "image/png": "[encoded data removed]",
      "text/plain": [
       "<Figure size 1500x600 with 1 Axes>"
      ]
     },
     "metadata": {
      "needs_background": "light"
     },
     "output_type": "display_data"
    }
   ],
   "source": [
    "teams = ['T1 Challengers', 'Nongshim RedForce Challengers', 'KT Rolster Challengers',\n",
    "'Hanwha Life Esports Challengers']\n",
    "\n",
    "plot_beta_posterior_team(teams, 2, 2)"
   ]
  },
  {
   "cell_type": "markdown",
   "metadata": {},
   "source": [
    "The posterior plots question the whole idea of splitting the data in groups. However, due to theoretical reasons, account for the team bias still has to be done. Maybe penalizing each metric could be a way to account for it. Other than that, the analyst could also focus on metrics that show the team's fraction. Like that, we could check for the following hypotheses:\n",
    "\n",
    "- who is the most efficient player: who does most damage / yields highest KDA by needing the least amount of resources (gold / xp). Let us call these metrics gold efficiency. Like in soccer, goals are not everything, but having the top scorer of the league on your team definitely helps winning.\n",
    "\n",
    "- who is the best inlane: who performs well in terms of cs and xp, even though he does, potentially, counterpicked"
   ]
  },
  {
   "cell_type": "markdown",
   "metadata": {},
   "source": [
    "To account for the bias in the KPIs (an ADC will deal more damage than a support) caused by positions, the data should be grouped by the position of the player. Or put everything in one plot and mark positions."
   ]
  },
  {
   "cell_type": "code",
   "execution_count": 21,
   "metadata": {},
   "outputs": [
    {
     "data": {
      "text/plain": [
       "5kid             ADC\n",
       "Asper        Support\n",
       "Baut         Support\n",
       "Berserker        ADC\n",
       "Bini             ADC\n",
       "              ...   \n",
       "Willer        Jungle\n",
       "SOLKA         Middle\n",
       "TaNa             Top\n",
       "Pleata       Support\n",
       "Bible        Support\n",
       "Name: position, Length: 80, dtype: object"
      ]
     },
     "execution_count": 21,
     "metadata": {},
     "output_type": "execute_result"
    }
   ],
   "source": [
    "agg_all.position"
   ]
  },
  {
   "cell_type": "code",
   "execution_count": 22,
   "metadata": {},
   "outputs": [
    {
     "data": {
      "text/html": [
       "<div>\n",
       "<style scoped>\n",
       "    .dataframe tbody tr th:only-of-type {\n",
       "        vertical-align: middle;\n",
       "    }\n",
       "\n",
       "    .dataframe tbody tr th {\n",
       "        vertical-align: top;\n",
       "    }\n",
       "\n",
       "    .dataframe thead th {\n",
       "        text-align: right;\n",
       "    }\n",
       "</style>\n",
       "<table border=\"1\" class=\"dataframe\">\n",
       "  <thead>\n",
       "    <tr style=\"text-align: right;\">\n",
       "      <th></th>\n",
       "      <th>KDA</th>\n",
       "      <th>total_kills</th>\n",
       "      <th>total_deaths</th>\n",
       "      <th>total_assists</th>\n",
       "      <th>KDA_custom</th>\n",
       "    </tr>\n",
       "  </thead>\n",
       "  <tbody>\n",
       "    <tr>\n",
       "      <th>Cruiser</th>\n",
       "      <td>1.500000</td>\n",
       "      <td>1</td>\n",
       "      <td>4</td>\n",
       "      <td>5</td>\n",
       "      <td>1.500000</td>\n",
       "    </tr>\n",
       "    <tr>\n",
       "      <th>Dice</th>\n",
       "      <td>3.500000</td>\n",
       "      <td>47</td>\n",
       "      <td>34</td>\n",
       "      <td>75</td>\n",
       "      <td>3.588235</td>\n",
       "    </tr>\n",
       "    <tr>\n",
       "      <th>Eign</th>\n",
       "      <td>2.633333</td>\n",
       "      <td>108</td>\n",
       "      <td>115</td>\n",
       "      <td>211</td>\n",
       "      <td>2.773913</td>\n",
       "    </tr>\n",
       "    <tr>\n",
       "      <th>FIESTA</th>\n",
       "      <td>2.433333</td>\n",
       "      <td>80</td>\n",
       "      <td>99</td>\n",
       "      <td>176</td>\n",
       "      <td>2.585859</td>\n",
       "    </tr>\n",
       "    <tr>\n",
       "      <th>Jool</th>\n",
       "      <td>3.050000</td>\n",
       "      <td>69</td>\n",
       "      <td>90</td>\n",
       "      <td>184</td>\n",
       "      <td>2.811111</td>\n",
       "    </tr>\n",
       "    <tr>\n",
       "      <th>Keine</th>\n",
       "      <td>3.433333</td>\n",
       "      <td>89</td>\n",
       "      <td>64</td>\n",
       "      <td>132</td>\n",
       "      <td>3.453125</td>\n",
       "    </tr>\n",
       "    <tr>\n",
       "      <th>Mask</th>\n",
       "      <td>4.200000</td>\n",
       "      <td>144</td>\n",
       "      <td>105</td>\n",
       "      <td>292</td>\n",
       "      <td>4.152381</td>\n",
       "    </tr>\n",
       "    <tr>\n",
       "      <th>Mireu</th>\n",
       "      <td>4.100000</td>\n",
       "      <td>149</td>\n",
       "      <td>124</td>\n",
       "      <td>300</td>\n",
       "      <td>3.620968</td>\n",
       "    </tr>\n",
       "    <tr>\n",
       "      <th>Ophelia</th>\n",
       "      <td>3.866667</td>\n",
       "      <td>56</td>\n",
       "      <td>50</td>\n",
       "      <td>156</td>\n",
       "      <td>4.240000</td>\n",
       "    </tr>\n",
       "    <tr>\n",
       "      <th>Roamer</th>\n",
       "      <td>4.100000</td>\n",
       "      <td>131</td>\n",
       "      <td>97</td>\n",
       "      <td>267</td>\n",
       "      <td>4.103093</td>\n",
       "    </tr>\n",
       "    <tr>\n",
       "      <th>Storm</th>\n",
       "      <td>1.400000</td>\n",
       "      <td>19</td>\n",
       "      <td>31</td>\n",
       "      <td>25</td>\n",
       "      <td>1.419355</td>\n",
       "    </tr>\n",
       "    <tr>\n",
       "      <th>TolanD</th>\n",
       "      <td>3.100000</td>\n",
       "      <td>114</td>\n",
       "      <td>120</td>\n",
       "      <td>283</td>\n",
       "      <td>3.308333</td>\n",
       "    </tr>\n",
       "    <tr>\n",
       "      <th>VicLa</th>\n",
       "      <td>2.775000</td>\n",
       "      <td>136</td>\n",
       "      <td>130</td>\n",
       "      <td>277</td>\n",
       "      <td>3.176923</td>\n",
       "    </tr>\n",
       "    <tr>\n",
       "      <th>BuLLDoG</th>\n",
       "      <td>8.000000</td>\n",
       "      <td>25</td>\n",
       "      <td>11</td>\n",
       "      <td>63</td>\n",
       "      <td>8.000000</td>\n",
       "    </tr>\n",
       "    <tr>\n",
       "      <th>Karis</th>\n",
       "      <td>5.700000</td>\n",
       "      <td>61</td>\n",
       "      <td>31</td>\n",
       "      <td>117</td>\n",
       "      <td>5.741935</td>\n",
       "    </tr>\n",
       "    <tr>\n",
       "      <th>Bay</th>\n",
       "      <td>3.550000</td>\n",
       "      <td>38</td>\n",
       "      <td>44</td>\n",
       "      <td>115</td>\n",
       "      <td>3.477273</td>\n",
       "    </tr>\n",
       "    <tr>\n",
       "      <th>SOLKA</th>\n",
       "      <td>3.500000</td>\n",
       "      <td>32</td>\n",
       "      <td>28</td>\n",
       "      <td>66</td>\n",
       "      <td>3.500000</td>\n",
       "    </tr>\n",
       "  </tbody>\n",
       "</table>\n",
       "</div>"
      ],
      "text/plain": [
       "              KDA  total_kills  total_deaths  total_assists  KDA_custom\n",
       "Cruiser  1.500000            1             4              5    1.500000\n",
       "Dice     3.500000           47            34             75    3.588235\n",
       "Eign     2.633333          108           115            211    2.773913\n",
       "FIESTA   2.433333           80            99            176    2.585859\n",
       "Jool     3.050000           69            90            184    2.811111\n",
       "Keine    3.433333           89            64            132    3.453125\n",
       "Mask     4.200000          144           105            292    4.152381\n",
       "Mireu    4.100000          149           124            300    3.620968\n",
       "Ophelia  3.866667           56            50            156    4.240000\n",
       "Roamer   4.100000          131            97            267    4.103093\n",
       "Storm    1.400000           19            31             25    1.419355\n",
       "TolanD   3.100000          114           120            283    3.308333\n",
       "VicLa    2.775000          136           130            277    3.176923\n",
       "BuLLDoG  8.000000           25            11             63    8.000000\n",
       "Karis    5.700000           61            31            117    5.741935\n",
       "Bay      3.550000           38            44            115    3.477273\n",
       "SOLKA    3.500000           32            28             66    3.500000"
      ]
     },
     "execution_count": 22,
     "metadata": {},
     "output_type": "execute_result"
    }
   ],
   "source": [
    "Middle = agg_all.query('position == \"Middle\"')\n",
    "\n",
    "Middle[['KDA', 'total_kills', 'total_deaths', 'total_assists']].assign(KDA_custom =\n",
    " (Middle['total_kills'] + Middle['total_assists'])/Middle['total_deaths'])"
   ]
  },
  {
   "cell_type": "code",
   "execution_count": 23,
   "metadata": {},
   "outputs": [
    {
     "data": {
      "text/plain": [
       "Index(['Team', 'position', 'games_played', 'total_kills', 'total_deaths',\n",
       "       'total_assists', 'num_neutral_obj_stolen', 'winrate%',\n",
       "       'pick_after_opponent%', 'KDA', 'kill_assist_participation%',\n",
       "       'kill_participation%', 'average_share_teams_deaths%',\n",
       "       'first_blood_participation_rate%', 'average_gold_diff_10_min',\n",
       "       'average_xp_diff_10_min', 'average_cs_diff_10_min', 'average_CSPM',\n",
       "       'average_share_team_cs_post_15_min%', 'average_DPM_to_champs',\n",
       "       'average_share_team_DMG_to_champs%',\n",
       "       'average_share_team_DMG_to_champs_post_15_min%', 'average_gold_per_min',\n",
       "       'average_share_team_gold%', 'average_wards_per_min',\n",
       "       'average_wards_cleared_per_min'],\n",
       "      dtype='object')"
      ]
     },
     "execution_count": 23,
     "metadata": {},
     "output_type": "execute_result"
    }
   ],
   "source": [
    "Middle.columns"
   ]
  },
  {
   "cell_type": "code",
   "execution_count": 25,
   "metadata": {},
   "outputs": [
    {
     "data": {
      "text/html": [
       "<div>\n",
       "<style scoped>\n",
       "    .dataframe tbody tr th:only-of-type {\n",
       "        vertical-align: middle;\n",
       "    }\n",
       "\n",
       "    .dataframe tbody tr th {\n",
       "        vertical-align: top;\n",
       "    }\n",
       "\n",
       "    .dataframe thead th {\n",
       "        text-align: right;\n",
       "    }\n",
       "</style>\n",
       "<table border=\"1\" class=\"dataframe\">\n",
       "  <thead>\n",
       "    <tr style=\"text-align: right;\">\n",
       "      <th></th>\n",
       "      <th>Team</th>\n",
       "      <th>KP_per_gold</th>\n",
       "    </tr>\n",
       "  </thead>\n",
       "  <tbody>\n",
       "    <tr>\n",
       "      <th>Storm</th>\n",
       "      <td>Kwangdong Freecs Challengers</td>\n",
       "      <td>1.125977</td>\n",
       "    </tr>\n",
       "    <tr>\n",
       "      <th>Dice</th>\n",
       "      <td>Gen.G Challengers</td>\n",
       "      <td>1.110352</td>\n",
       "    </tr>\n",
       "    <tr>\n",
       "      <th>Keine</th>\n",
       "      <td>Kwangdong Freecs Challengers</td>\n",
       "      <td>1.085938</td>\n",
       "    </tr>\n",
       "    <tr>\n",
       "      <th>Roamer</th>\n",
       "      <td>Fredit BRION Challengers</td>\n",
       "      <td>1.038086</td>\n",
       "    </tr>\n",
       "    <tr>\n",
       "      <th>Mireu</th>\n",
       "      <td>T1 Challengers</td>\n",
       "      <td>1.028320</td>\n",
       "    </tr>\n",
       "    <tr>\n",
       "      <th>VicLa</th>\n",
       "      <td>KT Rolster Challengers</td>\n",
       "      <td>0.975586</td>\n",
       "    </tr>\n",
       "    <tr>\n",
       "      <th>TolanD</th>\n",
       "      <td>Liiv SANDBOX Challengers</td>\n",
       "      <td>0.945801</td>\n",
       "    </tr>\n",
       "    <tr>\n",
       "      <th>Eign</th>\n",
       "      <td>DRX Challengers</td>\n",
       "      <td>0.940918</td>\n",
       "    </tr>\n",
       "    <tr>\n",
       "      <th>SOLKA</th>\n",
       "      <td>DRX Challengers</td>\n",
       "      <td>0.934082</td>\n",
       "    </tr>\n",
       "    <tr>\n",
       "      <th>BuLLDoG</th>\n",
       "      <td>Kwangdong Freecs Challengers</td>\n",
       "      <td>0.917969</td>\n",
       "    </tr>\n",
       "    <tr>\n",
       "      <th>Mask</th>\n",
       "      <td>Hanwha Life Esports Challengers</td>\n",
       "      <td>0.908203</td>\n",
       "    </tr>\n",
       "    <tr>\n",
       "      <th>Karis</th>\n",
       "      <td>Gen.G Challengers</td>\n",
       "      <td>0.905762</td>\n",
       "    </tr>\n",
       "    <tr>\n",
       "      <th>Bay</th>\n",
       "      <td>Nongshim RedForce Challengers</td>\n",
       "      <td>0.843750</td>\n",
       "    </tr>\n",
       "    <tr>\n",
       "      <th>Jool</th>\n",
       "      <td>DWG KIA Challengers</td>\n",
       "      <td>0.840332</td>\n",
       "    </tr>\n",
       "    <tr>\n",
       "      <th>Ophelia</th>\n",
       "      <td>Gen.G Challengers</td>\n",
       "      <td>0.833496</td>\n",
       "    </tr>\n",
       "    <tr>\n",
       "      <th>Cruiser</th>\n",
       "      <td>Liiv SANDBOX Challengers</td>\n",
       "      <td>0.752441</td>\n",
       "    </tr>\n",
       "    <tr>\n",
       "      <th>FIESTA</th>\n",
       "      <td>Nongshim RedForce Challengers</td>\n",
       "      <td>0.550293</td>\n",
       "    </tr>\n",
       "  </tbody>\n",
       "</table>\n",
       "</div>"
      ],
      "text/plain": [
       "                                    Team  KP_per_gold\n",
       "Storm       Kwangdong Freecs Challengers     1.125977\n",
       "Dice                   Gen.G Challengers     1.110352\n",
       "Keine       Kwangdong Freecs Challengers     1.085938\n",
       "Roamer          Fredit BRION Challengers     1.038086\n",
       "Mireu                     T1 Challengers     1.028320\n",
       "VicLa             KT Rolster Challengers     0.975586\n",
       "TolanD          Liiv SANDBOX Challengers     0.945801\n",
       "Eign                     DRX Challengers     0.940918\n",
       "SOLKA                    DRX Challengers     0.934082\n",
       "BuLLDoG     Kwangdong Freecs Challengers     0.917969\n",
       "Mask     Hanwha Life Esports Challengers     0.908203\n",
       "Karis                  Gen.G Challengers     0.905762\n",
       "Bay        Nongshim RedForce Challengers     0.843750\n",
       "Jool                 DWG KIA Challengers     0.840332\n",
       "Ophelia                Gen.G Challengers     0.833496\n",
       "Cruiser         Liiv SANDBOX Challengers     0.752441\n",
       "FIESTA     Nongshim RedForce Challengers     0.550293"
      ]
     },
     "execution_count": 25,
     "metadata": {},
     "output_type": "execute_result"
    }
   ],
   "source": [
    "Middle.assign(KP_per_gold = Middle['kill_participation%']/Middle['average_share_team_gold%'])[['Team','KP_per_gold']].sort_values('KP_per_gold', ascending = False)\n"
   ]
  },
  {
   "cell_type": "code",
   "execution_count": null,
   "metadata": {},
   "outputs": [
    {
     "data": {
      "text/html": [
       "<div>\n",
       "<style scoped>\n",
       "    .dataframe tbody tr th:only-of-type {\n",
       "        vertical-align: middle;\n",
       "    }\n",
       "\n",
       "    .dataframe tbody tr th {\n",
       "        vertical-align: top;\n",
       "    }\n",
       "\n",
       "    .dataframe thead th {\n",
       "        text-align: right;\n",
       "    }\n",
       "</style>\n",
       "<table border=\"1\" class=\"dataframe\">\n",
       "  <thead>\n",
       "    <tr style=\"text-align: right;\">\n",
       "      <th></th>\n",
       "      <th>Team</th>\n",
       "      <th>DPM_gold_share</th>\n",
       "    </tr>\n",
       "  </thead>\n",
       "  <tbody>\n",
       "    <tr>\n",
       "      <th>Mask</th>\n",
       "      <td>Hanwha Life Esports Challengers</td>\n",
       "      <td>1.215820</td>\n",
       "    </tr>\n",
       "    <tr>\n",
       "      <th>FIESTA</th>\n",
       "      <td>Nongshim RedForce Challengers</td>\n",
       "      <td>1.166016</td>\n",
       "    </tr>\n",
       "    <tr>\n",
       "      <th>VicLa</th>\n",
       "      <td>KT Rolster Challengers</td>\n",
       "      <td>1.153320</td>\n",
       "    </tr>\n",
       "    <tr>\n",
       "      <th>TolanD</th>\n",
       "      <td>Liiv SANDBOX Challengers</td>\n",
       "      <td>1.138672</td>\n",
       "    </tr>\n",
       "    <tr>\n",
       "      <th>Mireu</th>\n",
       "      <td>T1 Challengers</td>\n",
       "      <td>1.117188</td>\n",
       "    </tr>\n",
       "    <tr>\n",
       "      <th>Keine</th>\n",
       "      <td>Kwangdong Freecs Challengers</td>\n",
       "      <td>1.084961</td>\n",
       "    </tr>\n",
       "    <tr>\n",
       "      <th>Karis</th>\n",
       "      <td>Gen.G Challengers</td>\n",
       "      <td>1.078125</td>\n",
       "    </tr>\n",
       "    <tr>\n",
       "      <th>Eign</th>\n",
       "      <td>DRX Challengers</td>\n",
       "      <td>1.071289</td>\n",
       "    </tr>\n",
       "    <tr>\n",
       "      <th>Roamer</th>\n",
       "      <td>Fredit BRION Challengers</td>\n",
       "      <td>1.065430</td>\n",
       "    </tr>\n",
       "    <tr>\n",
       "      <th>Jool</th>\n",
       "      <td>DWG KIA Challengers</td>\n",
       "      <td>1.054688</td>\n",
       "    </tr>\n",
       "    <tr>\n",
       "      <th>Bay</th>\n",
       "      <td>Nongshim RedForce Challengers</td>\n",
       "      <td>1.041016</td>\n",
       "    </tr>\n",
       "    <tr>\n",
       "      <th>SOLKA</th>\n",
       "      <td>DRX Challengers</td>\n",
       "      <td>0.977539</td>\n",
       "    </tr>\n",
       "    <tr>\n",
       "      <th>Dice</th>\n",
       "      <td>Gen.G Challengers</td>\n",
       "      <td>0.966309</td>\n",
       "    </tr>\n",
       "    <tr>\n",
       "      <th>BuLLDoG</th>\n",
       "      <td>Kwangdong Freecs Challengers</td>\n",
       "      <td>0.965332</td>\n",
       "    </tr>\n",
       "    <tr>\n",
       "      <th>Ophelia</th>\n",
       "      <td>Gen.G Challengers</td>\n",
       "      <td>0.909180</td>\n",
       "    </tr>\n",
       "    <tr>\n",
       "      <th>Storm</th>\n",
       "      <td>Kwangdong Freecs Challengers</td>\n",
       "      <td>0.909180</td>\n",
       "    </tr>\n",
       "    <tr>\n",
       "      <th>Cruiser</th>\n",
       "      <td>Liiv SANDBOX Challengers</td>\n",
       "      <td>0.615723</td>\n",
       "    </tr>\n",
       "  </tbody>\n",
       "</table>\n",
       "</div>"
      ],
      "text/plain": [
       "                                    Team  DPM_gold_share\n",
       "Mask     Hanwha Life Esports Challengers        1.215820\n",
       "FIESTA     Nongshim RedForce Challengers        1.166016\n",
       "VicLa             KT Rolster Challengers        1.153320\n",
       "TolanD          Liiv SANDBOX Challengers        1.138672\n",
       "Mireu                     T1 Challengers        1.117188\n",
       "Keine       Kwangdong Freecs Challengers        1.084961\n",
       "Karis                  Gen.G Challengers        1.078125\n",
       "Eign                     DRX Challengers        1.071289\n",
       "Roamer          Fredit BRION Challengers        1.065430\n",
       "Jool                 DWG KIA Challengers        1.054688\n",
       "Bay        Nongshim RedForce Challengers        1.041016\n",
       "SOLKA                    DRX Challengers        0.977539\n",
       "Dice                   Gen.G Challengers        0.966309\n",
       "BuLLDoG     Kwangdong Freecs Challengers        0.965332\n",
       "Ophelia                Gen.G Challengers        0.909180\n",
       "Storm       Kwangdong Freecs Challengers        0.909180\n",
       "Cruiser         Liiv SANDBOX Challengers        0.615723"
      ]
     },
     "execution_count": 63,
     "metadata": {},
     "output_type": "execute_result"
    }
   ],
   "source": [
    "Middle = Middle.assign(DPM_per_gold = Middle['average_share_team_DMG_to_champs%']/Middle['average_share_team_gold%'])[['Team','DPM_gold_share']].sort_values('DPM_gold_share', ascending = False)\n",
    "Middle = Middle.assign(KP_per_gold = Middle['kill_participation%']/Middle['average_share_team_gold%'])[['Team','DPM_gold_share']].sort_values('KP_per_gold', ascending = False)\n"
   ]
  },
  {
   "cell_type": "code",
   "execution_count": null,
   "metadata": {},
   "outputs": [],
   "source": []
  },
  {
   "cell_type": "code",
   "execution_count": null,
   "metadata": {},
   "outputs": [
    {
     "data": {
      "text/html": [
       "<div>\n",
       "<style scoped>\n",
       "    .dataframe tbody tr th:only-of-type {\n",
       "        vertical-align: middle;\n",
       "    }\n",
       "\n",
       "    .dataframe tbody tr th {\n",
       "        vertical-align: top;\n",
       "    }\n",
       "\n",
       "    .dataframe thead th {\n",
       "        text-align: right;\n",
       "    }\n",
       "</style>\n",
       "<table border=\"1\" class=\"dataframe\">\n",
       "  <thead>\n",
       "    <tr style=\"text-align: right;\">\n",
       "      <th></th>\n",
       "      <th>Team</th>\n",
       "      <th>average_DPM_to_champs</th>\n",
       "      <th>average_share_team_gold%</th>\n",
       "    </tr>\n",
       "  </thead>\n",
       "  <tbody>\n",
       "    <tr>\n",
       "      <th>Cruiser</th>\n",
       "      <td>Liiv SANDBOX Challengers</td>\n",
       "      <td>139.000000</td>\n",
       "      <td>19.000000</td>\n",
       "    </tr>\n",
       "    <tr>\n",
       "      <th>Dice</th>\n",
       "      <td>Gen.G Challengers</td>\n",
       "      <td>414.000000</td>\n",
       "      <td>22.250000</td>\n",
       "    </tr>\n",
       "    <tr>\n",
       "      <th>Eign</th>\n",
       "      <td>DRX Challengers</td>\n",
       "      <td>429.333333</td>\n",
       "      <td>21.468750</td>\n",
       "    </tr>\n",
       "    <tr>\n",
       "      <th>FIESTA</th>\n",
       "      <td>Nongshim RedForce Challengers</td>\n",
       "      <td>495.333333</td>\n",
       "      <td>23.500000</td>\n",
       "    </tr>\n",
       "    <tr>\n",
       "      <th>Jool</th>\n",
       "      <td>DWG KIA Challengers</td>\n",
       "      <td>370.500000</td>\n",
       "      <td>21.906250</td>\n",
       "    </tr>\n",
       "    <tr>\n",
       "      <th>Keine</th>\n",
       "      <td>Kwangdong Freecs Challengers</td>\n",
       "      <td>451.000000</td>\n",
       "      <td>24.640625</td>\n",
       "    </tr>\n",
       "    <tr>\n",
       "      <th>Mask</th>\n",
       "      <td>Hanwha Life Esports Challengers</td>\n",
       "      <td>541.333333</td>\n",
       "      <td>24.968750</td>\n",
       "    </tr>\n",
       "    <tr>\n",
       "      <th>Mireu</th>\n",
       "      <td>T1 Challengers</td>\n",
       "      <td>514.333333</td>\n",
       "      <td>22.171875</td>\n",
       "    </tr>\n",
       "    <tr>\n",
       "      <th>Ophelia</th>\n",
       "      <td>Gen.G Challengers</td>\n",
       "      <td>343.666667</td>\n",
       "      <td>22.875000</td>\n",
       "    </tr>\n",
       "    <tr>\n",
       "      <th>Roamer</th>\n",
       "      <td>Fredit BRION Challengers</td>\n",
       "      <td>483.500000</td>\n",
       "      <td>23.843750</td>\n",
       "    </tr>\n",
       "    <tr>\n",
       "      <th>Storm</th>\n",
       "      <td>Kwangdong Freecs Challengers</td>\n",
       "      <td>379.000000</td>\n",
       "      <td>23.093750</td>\n",
       "    </tr>\n",
       "    <tr>\n",
       "      <th>TolanD</th>\n",
       "      <td>Liiv SANDBOX Challengers</td>\n",
       "      <td>496.750000</td>\n",
       "      <td>24.000000</td>\n",
       "    </tr>\n",
       "    <tr>\n",
       "      <th>VicLa</th>\n",
       "      <td>KT Rolster Challengers</td>\n",
       "      <td>432.750000</td>\n",
       "      <td>22.625000</td>\n",
       "    </tr>\n",
       "    <tr>\n",
       "      <th>BuLLDoG</th>\n",
       "      <td>Kwangdong Freecs Challengers</td>\n",
       "      <td>534.000000</td>\n",
       "      <td>23.093750</td>\n",
       "    </tr>\n",
       "    <tr>\n",
       "      <th>Karis</th>\n",
       "      <td>Gen.G Challengers</td>\n",
       "      <td>488.500000</td>\n",
       "      <td>23.562500</td>\n",
       "    </tr>\n",
       "    <tr>\n",
       "      <th>Bay</th>\n",
       "      <td>Nongshim RedForce Challengers</td>\n",
       "      <td>360.500000</td>\n",
       "      <td>21.093750</td>\n",
       "    </tr>\n",
       "    <tr>\n",
       "      <th>SOLKA</th>\n",
       "      <td>DRX Challengers</td>\n",
       "      <td>415.500000</td>\n",
       "      <td>24.453125</td>\n",
       "    </tr>\n",
       "  </tbody>\n",
       "</table>\n",
       "</div>"
      ],
      "text/plain": [
       "                                    Team  average_DPM_to_champs  \\\n",
       "Cruiser         Liiv SANDBOX Challengers             139.000000   \n",
       "Dice                   Gen.G Challengers             414.000000   \n",
       "Eign                     DRX Challengers             429.333333   \n",
       "FIESTA     Nongshim RedForce Challengers             495.333333   \n",
       "Jool                 DWG KIA Challengers             370.500000   \n",
       "Keine       Kwangdong Freecs Challengers             451.000000   \n",
       "Mask     Hanwha Life Esports Challengers             541.333333   \n",
       "Mireu                     T1 Challengers             514.333333   \n",
       "Ophelia                Gen.G Challengers             343.666667   \n",
       "Roamer          Fredit BRION Challengers             483.500000   \n",
       "Storm       Kwangdong Freecs Challengers             379.000000   \n",
       "TolanD          Liiv SANDBOX Challengers             496.750000   \n",
       "VicLa             KT Rolster Challengers             432.750000   \n",
       "BuLLDoG     Kwangdong Freecs Challengers             534.000000   \n",
       "Karis                  Gen.G Challengers             488.500000   \n",
       "Bay        Nongshim RedForce Challengers             360.500000   \n",
       "SOLKA                    DRX Challengers             415.500000   \n",
       "\n",
       "         average_share_team_gold%  \n",
       "Cruiser                 19.000000  \n",
       "Dice                    22.250000  \n",
       "Eign                    21.468750  \n",
       "FIESTA                  23.500000  \n",
       "Jool                    21.906250  \n",
       "Keine                   24.640625  \n",
       "Mask                    24.968750  \n",
       "Mireu                   22.171875  \n",
       "Ophelia                 22.875000  \n",
       "Roamer                  23.843750  \n",
       "Storm                   23.093750  \n",
       "TolanD                  24.000000  \n",
       "VicLa                   22.625000  \n",
       "BuLLDoG                 23.093750  \n",
       "Karis                   23.562500  \n",
       "Bay                     21.093750  \n",
       "SOLKA                   24.453125  "
      ]
     },
     "execution_count": 50,
     "metadata": {},
     "output_type": "execute_result"
    }
   ],
   "source": [
    "Middle[['Team', 'average_DPM_to_champs', 'average_share_team_gold%']]"
   ]
  },
  {
   "cell_type": "code",
   "execution_count": null,
   "metadata": {},
   "outputs": [
    {
     "data": {
      "text/html": [
       "<div>\n",
       "<style scoped>\n",
       "    .dataframe tbody tr th:only-of-type {\n",
       "        vertical-align: middle;\n",
       "    }\n",
       "\n",
       "    .dataframe tbody tr th {\n",
       "        vertical-align: top;\n",
       "    }\n",
       "\n",
       "    .dataframe thead th {\n",
       "        text-align: right;\n",
       "    }\n",
       "</style>\n",
       "<table border=\"1\" class=\"dataframe\">\n",
       "  <thead>\n",
       "    <tr style=\"text-align: right;\">\n",
       "      <th></th>\n",
       "      <th>KDA</th>\n",
       "      <th>total_kills</th>\n",
       "      <th>total_deaths</th>\n",
       "      <th>total_assists</th>\n",
       "      <th>KDA_custom</th>\n",
       "    </tr>\n",
       "  </thead>\n",
       "  <tbody>\n",
       "    <tr>\n",
       "      <th>Castle</th>\n",
       "      <td>3.150000</td>\n",
       "      <td>114</td>\n",
       "      <td>103</td>\n",
       "      <td>257</td>\n",
       "      <td>3.601942</td>\n",
       "    </tr>\n",
       "    <tr>\n",
       "      <th>Chasy</th>\n",
       "      <td>3.200000</td>\n",
       "      <td>88</td>\n",
       "      <td>64</td>\n",
       "      <td>120</td>\n",
       "      <td>3.250000</td>\n",
       "    </tr>\n",
       "    <tr>\n",
       "      <th>Clear</th>\n",
       "      <td>2.875000</td>\n",
       "      <td>134</td>\n",
       "      <td>144</td>\n",
       "      <td>258</td>\n",
       "      <td>2.722222</td>\n",
       "    </tr>\n",
       "    <tr>\n",
       "      <th>DnDn</th>\n",
       "      <td>2.800000</td>\n",
       "      <td>119</td>\n",
       "      <td>128</td>\n",
       "      <td>248</td>\n",
       "      <td>2.867188</td>\n",
       "    </tr>\n",
       "    <tr>\n",
       "      <th>Howling</th>\n",
       "      <td>3.150000</td>\n",
       "      <td>26</td>\n",
       "      <td>30</td>\n",
       "      <td>63</td>\n",
       "      <td>2.966667</td>\n",
       "    </tr>\n",
       "    <tr>\n",
       "      <th>Lonely</th>\n",
       "      <td>4.200000</td>\n",
       "      <td>139</td>\n",
       "      <td>108</td>\n",
       "      <td>334</td>\n",
       "      <td>4.379630</td>\n",
       "    </tr>\n",
       "    <tr>\n",
       "      <th>Lukalux</th>\n",
       "      <td>2.800000</td>\n",
       "      <td>25</td>\n",
       "      <td>53</td>\n",
       "      <td>123</td>\n",
       "      <td>2.792453</td>\n",
       "    </tr>\n",
       "    <tr>\n",
       "      <th>Photon</th>\n",
       "      <td>2.575000</td>\n",
       "      <td>105</td>\n",
       "      <td>86</td>\n",
       "      <td>167</td>\n",
       "      <td>3.162791</td>\n",
       "    </tr>\n",
       "    <tr>\n",
       "      <th>Riss</th>\n",
       "      <td>2.833333</td>\n",
       "      <td>112</td>\n",
       "      <td>125</td>\n",
       "      <td>213</td>\n",
       "      <td>2.600000</td>\n",
       "    </tr>\n",
       "    <tr>\n",
       "      <th>Roach</th>\n",
       "      <td>4.766667</td>\n",
       "      <td>113</td>\n",
       "      <td>107</td>\n",
       "      <td>272</td>\n",
       "      <td>3.598131</td>\n",
       "    </tr>\n",
       "    <tr>\n",
       "      <th>Thanatos</th>\n",
       "      <td>1.800000</td>\n",
       "      <td>16</td>\n",
       "      <td>24</td>\n",
       "      <td>26</td>\n",
       "      <td>1.750000</td>\n",
       "    </tr>\n",
       "    <tr>\n",
       "      <th>Trap</th>\n",
       "      <td>1.500000</td>\n",
       "      <td>26</td>\n",
       "      <td>58</td>\n",
       "      <td>59</td>\n",
       "      <td>1.465517</td>\n",
       "    </tr>\n",
       "    <tr>\n",
       "      <th>IlllIma</th>\n",
       "      <td>3.150000</td>\n",
       "      <td>101</td>\n",
       "      <td>75</td>\n",
       "      <td>152</td>\n",
       "      <td>3.373333</td>\n",
       "    </tr>\n",
       "    <tr>\n",
       "      <th>TaNa</th>\n",
       "      <td>2.700000</td>\n",
       "      <td>58</td>\n",
       "      <td>59</td>\n",
       "      <td>99</td>\n",
       "      <td>2.661017</td>\n",
       "    </tr>\n",
       "  </tbody>\n",
       "</table>\n",
       "</div>"
      ],
      "text/plain": [
       "               KDA  total_kills  total_deaths  total_assists  KDA_custom\n",
       "Castle    3.150000          114           103            257    3.601942\n",
       "Chasy     3.200000           88            64            120    3.250000\n",
       "Clear     2.875000          134           144            258    2.722222\n",
       "DnDn      2.800000          119           128            248    2.867188\n",
       "Howling   3.150000           26            30             63    2.966667\n",
       "Lonely    4.200000          139           108            334    4.379630\n",
       "Lukalux   2.800000           25            53            123    2.792453\n",
       "Photon    2.575000          105            86            167    3.162791\n",
       "Riss      2.833333          112           125            213    2.600000\n",
       "Roach     4.766667          113           107            272    3.598131\n",
       "Thanatos  1.800000           16            24             26    1.750000\n",
       "Trap      1.500000           26            58             59    1.465517\n",
       "IlllIma   3.150000          101            75            152    3.373333\n",
       "TaNa      2.700000           58            59             99    2.661017"
      ]
     },
     "execution_count": 178,
     "metadata": {},
     "output_type": "execute_result"
    }
   ],
   "source": [
    "top = agg_all.query('position == \"Top\"')\n",
    "\n",
    "top[['KDA', 'total_kills', 'total_deaths', 'total_assists']].assign(KDA_custom =\n",
    " (top['total_kills'] + top['total_assists'])/top['total_deaths'])"
   ]
  }
 ],
 "metadata": {
  "interpreter": {
   "hash": "472d943c67c954b7f06b1baeba716db8b575ace6c95caa276b0093a7ac85c3bd"
  },
  "kernelspec": {
   "display_name": "Python 3.6.13 64-bit (conda)",
   "language": "python",
   "name": "python3"
  },
  "language_info": {
   "codemirror_mode": {
    "name": "ipython",
    "version": 3
   },
   "file_extension": ".py",
   "mimetype": "text/x-python",
   "name": "python",
   "nbconvert_exporter": "python",
   "pygments_lexer": "ipython3",
   "version": "3.8.5"
  },
  "orig_nbformat": 4
 },
 "nbformat": 4,
 "nbformat_minor": 2
}
