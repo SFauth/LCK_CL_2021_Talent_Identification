{
 "cells": [
  {
   "cell_type": "markdown",
   "metadata": {},
   "source": [
    "League of Legends is a popular Multiplayer Online Battle Arena (MOBA) that is played by more than 100 Million people around the globe. Data is publicly available and can be accessed. The problem is that the data structure is very incovenient (a lot of dictionaries) and a lot of data wrangling is necessary until actual, useful questions can be answered. This project gets data from the Riot Games API."
   ]
  },
  {
   "cell_type": "code",
   "execution_count": 96,
   "metadata": {},
   "outputs": [],
   "source": [
    "import pandas as pd\n",
    "import numpy as np\n",
    "from scipy.stats import beta, binom\n",
    "import matplotlib.pyplot as plt"
   ]
  },
  {
   "cell_type": "markdown",
   "metadata": {},
   "source": [
    "Teams try to find talented players. We want to get stats for the best players (Rank: Challenger) of the Korean server. Teams' scouts might be interested in metrics.\n"
   ]
  },
  {
   "cell_type": "markdown",
   "metadata": {},
   "source": [
    "Reading in data from Oracle's Elixir, downloaded on 1-13-2021."
   ]
  },
  {
   "cell_type": "code",
   "execution_count": 39,
   "metadata": {},
   "outputs": [],
   "source": [
    "sp_2021_reg, sp_2021_pl, su_2021_reg, su_2021_pl =  pd.read_csv(\"LCK CL 2021 Spring - Player Stats - OraclesElixir.csv\"), pd.read_csv(\"LCK CL 2021 Spring Playoffs - Player Stats - OraclesElixir.csv\"), pd.read_csv(\"LCK CL 2021 Summer - Player Stats - OraclesElixir.csv\"), pd.read_csv(\"LCK CL 2021 Summer Playoffs - Player Stats - OraclesElixir.csv\")\n",
    "\n",
    "all_splits = [sp_2021_reg, sp_2021_pl, su_2021_reg, su_2021_pl]\n",
    "\n",
    "all_splits_df = pd.concat(all_splits)"
   ]
  },
  {
   "cell_type": "markdown",
   "metadata": {},
   "source": [
    "Inspecting one players as an example."
   ]
  },
  {
   "cell_type": "code",
   "execution_count": 40,
   "metadata": {},
   "outputs": [
    {
     "data": {
      "text/plain": [
       "Index(['Player', 'Team', 'Pos', 'GP', 'W%', 'CTR%', 'K', 'D', 'A', 'KDA', 'KP',\n",
       "       'KS%', 'DTH%', 'FB%', 'GD10', 'XPD10', 'CSD10', 'CSPM', 'CS%P15', 'DPM',\n",
       "       'DMG%', 'D%P15', 'EGPM', 'GOLD%', 'STL', 'WPM', 'WCPM'],\n",
       "      dtype='object')"
      ]
     },
     "execution_count": 40,
     "metadata": {},
     "output_type": "execute_result"
    }
   ],
   "source": [
    "all_splits_df.query('Player == \"Berserker\"').columns"
   ]
  },
  {
   "cell_type": "markdown",
   "metadata": {},
   "source": [
    "We want to change some column names to avoid confusion."
   ]
  },
  {
   "cell_type": "code",
   "execution_count": 41,
   "metadata": {},
   "outputs": [],
   "source": [
    "all_splits_df = all_splits_df.rename(columns={\"K\": \"total_kills\",\n",
    "\"Pos\": \"position\",\n",
    " \"D\": \"total_deaths\",\n",
    "  \"A\": \"total_assists\",\n",
    "  \"GP\": \"games_played\",\n",
    "   \"W%\": \"winrate%\",\n",
    "    \"CTR%\": \"pick_after_opponent%\",\n",
    "     \"KP\":\"kill_assist_participation%\",\n",
    "      \"KS%\":\"kill_participation%\",\n",
    "      \"DTH%\":\"average_share_teams_deaths%\",\n",
    "      \"FB%\": \"first_blood_participation_rate%\",\n",
    "      \"GD10\": \"average_gold_diff_10_min\",\n",
    "      \"XPD10\": \"average_xp_diff_10_min\",\n",
    "      \"CSD10\": \"average_cs_diff_10_min\",\n",
    "      \"CSPM\": \"average_CSPM\",\n",
    "      \"CS%P15\": \"average_share_team_cs_post_15_min%\",\n",
    "      \"DPM\": \"average_DPM_to_champs\",\n",
    "      \"DMG%\": \"average_share_team_DMG_to_champs%\",\n",
    "      \"D%P15\": \"average_share_team_DMG_to_champs_post_15_min%\",\n",
    "      \"EGPM\": \"average_gold_per_min\",\n",
    "      \"GOLD%\": \"average_share_team_gold%\",\n",
    "      \"STL\": \"num_neutral_obj_stolen\",\n",
    "      \"WPM\": \"average_wards_per_min\",\n",
    "      \"WCPM\": \"average_wards_cleared_per_min\"})"
   ]
  },
  {
   "cell_type": "markdown",
   "metadata": {},
   "source": [
    "Inspecting the resulting column names and their datatypes. "
   ]
  },
  {
   "cell_type": "code",
   "execution_count": 42,
   "metadata": {},
   "outputs": [
    {
     "data": {
      "text/plain": [
       "Player                                            object\n",
       "Team                                              object\n",
       "position                                          object\n",
       "games_played                                       int64\n",
       "winrate%                                          object\n",
       "pick_after_opponent%                              object\n",
       "total_kills                                        int64\n",
       "total_deaths                                       int64\n",
       "total_assists                                      int64\n",
       "KDA                                              float64\n",
       "kill_assist_participation%                        object\n",
       "kill_participation%                               object\n",
       "average_share_teams_deaths%                       object\n",
       "first_blood_participation_rate%                   object\n",
       "average_gold_diff_10_min                           int64\n",
       "average_xp_diff_10_min                             int64\n",
       "average_cs_diff_10_min                           float64\n",
       "average_CSPM                                     float64\n",
       "average_share_team_cs_post_15_min%                object\n",
       "average_DPM_to_champs                              int64\n",
       "average_share_team_DMG_to_champs%                 object\n",
       "average_share_team_DMG_to_champs_post_15_min%     object\n",
       "average_gold_per_min                               int64\n",
       "average_share_team_gold%                          object\n",
       "num_neutral_obj_stolen                           float64\n",
       "average_wards_per_min                            float64\n",
       "average_wards_cleared_per_min                    float64\n",
       "dtype: object"
      ]
     },
     "execution_count": 42,
     "metadata": {},
     "output_type": "execute_result"
    }
   ],
   "source": [
    "all_splits_df.dtypes"
   ]
  },
  {
   "cell_type": "markdown",
   "metadata": {},
   "source": [
    "All columns that are measured in percent are not recognized as numeric columns, but as object columns. In order to use mathematical operations with these columns, they have to be transformed to numeric columns."
   ]
  },
  {
   "cell_type": "code",
   "execution_count": 43,
   "metadata": {},
   "outputs": [
    {
     "data": {
      "text/plain": [
       "0     55\n",
       "1     83\n",
       "2     63\n",
       "3     83\n",
       "4     42\n",
       "      ..\n",
       "28    40\n",
       "29    40\n",
       "30    44\n",
       "31    50\n",
       "32    50\n",
       "Name: winrate%, Length: 195, dtype: object"
      ]
     },
     "execution_count": 43,
     "metadata": {},
     "output_type": "execute_result"
    }
   ],
   "source": [
    "all_splits_df['winrate%'].str.rstrip('%')\n",
    "\n",
    "#all_splits_df.astype({'winrate%' : 'float64'})"
   ]
  },
  {
   "cell_type": "markdown",
   "metadata": {},
   "source": [
    "As we have seen above, some players participated in more than one split, we have to aggregate their data, such that we end up with one row for every player. We want to keep non-performance related features, as they are in the raw data: this includes the player name, his team, his position and the number of games played. Some metrics allow for just averaging over them (e.g. all averaged metrics). This is possible, as these metrics refer to an average game of a player in one split, i.e. playoff. Thus, taking their mean just means that the value now represents the average game of all tournaments, a player took part in. However, this can not be done for absolute measures who refer to a whole tournaments, such as kills. This is due to the fact that certain players have participated in different tournaments that had a different amount of games. This questions the general use of absolute measures."
   ]
  },
  {
   "cell_type": "markdown",
   "metadata": {},
   "source": [
    "We are gonna create lists that specify columns that will be aggregated in the same way: one list for the columns that will be summed, one list for the columns that will be averaged, and finally, one list for the remaining, non-numerical, columns."
   ]
  },
  {
   "cell_type": "code",
   "execution_count": 44,
   "metadata": {},
   "outputs": [],
   "source": [
    "cols_to_sum = ['games_played',\n",
    " 'total_kills', 'total_deaths',\n",
    "  'total_assists', 'num_neutral_obj_stolen']\n",
    "\n",
    "cols_to_keep = ['Player','Team', 'position']\n",
    "\n",
    "cols_to_avg = [col for col in all_splits_df.columns if col not in (cols_to_sum + cols_to_keep)]"
   ]
  },
  {
   "cell_type": "markdown",
   "metadata": {},
   "source": [
    "Transforming string columns that are stored in % to numerical columns, before grouping and performing the aggregation."
   ]
  },
  {
   "cell_type": "code",
   "execution_count": 45,
   "metadata": {},
   "outputs": [],
   "source": [
    "percentage_cols = [col for col in cols_to_avg if col.endswith(\"%\")]\n",
    "\n",
    "all_splits_df_percentage_cols = all_splits_df[percentage_cols].astype(str).applymap(lambda x: x.strip(\"%\"))\n",
    "\n",
    "\n",
    "\n",
    "all_splits_df = pd.concat([all_splits_df.drop(percentage_cols, axis = 1),\n",
    " all_splits_df_percentage_cols.astype('float16')], axis = 1)"
   ]
  },
  {
   "cell_type": "code",
   "execution_count": 46,
   "metadata": {},
   "outputs": [
    {
     "data": {
      "text/plain": [
       "Player                                            object\n",
       "Team                                              object\n",
       "position                                          object\n",
       "games_played                                       int64\n",
       "total_kills                                        int64\n",
       "total_deaths                                       int64\n",
       "total_assists                                      int64\n",
       "KDA                                              float64\n",
       "average_gold_diff_10_min                           int64\n",
       "average_xp_diff_10_min                             int64\n",
       "average_cs_diff_10_min                           float64\n",
       "average_CSPM                                     float64\n",
       "average_DPM_to_champs                              int64\n",
       "average_gold_per_min                               int64\n",
       "num_neutral_obj_stolen                           float64\n",
       "average_wards_per_min                            float64\n",
       "average_wards_cleared_per_min                    float64\n",
       "winrate%                                         float16\n",
       "pick_after_opponent%                             float16\n",
       "kill_assist_participation%                       float16\n",
       "kill_participation%                              float16\n",
       "average_share_teams_deaths%                      float16\n",
       "first_blood_participation_rate%                  float16\n",
       "average_share_team_cs_post_15_min%               float16\n",
       "average_share_team_DMG_to_champs%                float16\n",
       "average_share_team_DMG_to_champs_post_15_min%    float16\n",
       "average_share_team_gold%                         float16\n",
       "dtype: object"
      ]
     },
     "execution_count": 46,
     "metadata": {},
     "output_type": "execute_result"
    }
   ],
   "source": [
    "all_splits_df.dtypes"
   ]
  },
  {
   "cell_type": "markdown",
   "metadata": {},
   "source": [
    "Grouping and aggregating."
   ]
  },
  {
   "cell_type": "code",
   "execution_count": 47,
   "metadata": {},
   "outputs": [],
   "source": [
    "all_splits_by_player = all_splits_df.groupby(['Player'])\n",
    "\n",
    "orig_cols = all_splits_df[cols_to_keep].drop_duplicates('Player')\n",
    "summed_cols = all_splits_by_player[cols_to_sum].sum()\n",
    "\n",
    "\n",
    "avg_cols = all_splits_by_player[cols_to_avg].mean()\n",
    "\n"
   ]
  },
  {
   "cell_type": "markdown",
   "metadata": {},
   "source": [
    " Concatenating the dfs. "
   ]
  },
  {
   "cell_type": "code",
   "execution_count": 48,
   "metadata": {},
   "outputs": [],
   "source": [
    "orig_summed_cols = pd.concat([orig_cols.set_index('Player'), summed_cols], axis = 1)\n",
    "agg_all = pd.concat([orig_summed_cols, avg_cols], axis = 1)"
   ]
  },
  {
   "cell_type": "markdown",
   "metadata": {},
   "source": [
    "Unfortunately, the metrics are still biased by the team and the position of a player. One should not compare the number of kills of a support and of an attack damage carry (ADC). This can be easily be taken care of by grouping by positions.\n",
    "Added to that, two players that feature the same characteristics (e.g. ability) will have different metrics. This is due to the fact that if one player is on the worst team, while the other is on the best team, he will score less kills, for example. Therefore, it is also indispensable to account for the relative rank of a player's team. In order to minimize the team's effect, we will conduct statistical tests to compare the performance of teams. Then, if a team's performance (m games won out of n games) is not statistically different from another team's, we consider then to be similar, allowing for comparison of players. First, we have to compute a team's performance. This can be done by looking at the player of the team that has played most games for it, serving as an estimate for m and n."
   ]
  },
  {
   "cell_type": "code",
   "execution_count": 99,
   "metadata": {},
   "outputs": [
    {
     "data": {
      "text/html": [
       "<div>\n",
       "<style scoped>\n",
       "    .dataframe tbody tr th:only-of-type {\n",
       "        vertical-align: middle;\n",
       "    }\n",
       "\n",
       "    .dataframe tbody tr th {\n",
       "        vertical-align: top;\n",
       "    }\n",
       "\n",
       "    .dataframe thead th {\n",
       "        text-align: right;\n",
       "    }\n",
       "</style>\n",
       "<table border=\"1\" class=\"dataframe\">\n",
       "  <thead>\n",
       "    <tr style=\"text-align: right;\">\n",
       "      <th></th>\n",
       "      <th>wins</th>\n",
       "      <th>winrate%</th>\n",
       "      <th>games_played</th>\n",
       "    </tr>\n",
       "    <tr>\n",
       "      <th>Team</th>\n",
       "      <th></th>\n",
       "      <th></th>\n",
       "      <th></th>\n",
       "    </tr>\n",
       "  </thead>\n",
       "  <tbody>\n",
       "    <tr>\n",
       "      <th>Gen.G Challengers</th>\n",
       "      <td>39</td>\n",
       "      <td>76</td>\n",
       "      <td>51</td>\n",
       "    </tr>\n",
       "    <tr>\n",
       "      <th>DWG KIA Challengers</th>\n",
       "      <td>27</td>\n",
       "      <td>75</td>\n",
       "      <td>36</td>\n",
       "    </tr>\n",
       "    <tr>\n",
       "      <th>Kwangdong Freecs Challengers</th>\n",
       "      <td>25</td>\n",
       "      <td>71</td>\n",
       "      <td>36</td>\n",
       "    </tr>\n",
       "    <tr>\n",
       "      <th>T1 Challengers</th>\n",
       "      <td>29</td>\n",
       "      <td>70</td>\n",
       "      <td>42</td>\n",
       "    </tr>\n",
       "    <tr>\n",
       "      <th>Nongshim RedForce Challengers</th>\n",
       "      <td>28</td>\n",
       "      <td>59</td>\n",
       "      <td>48</td>\n",
       "    </tr>\n",
       "    <tr>\n",
       "      <th>KT Rolster Challengers</th>\n",
       "      <td>27</td>\n",
       "      <td>57</td>\n",
       "      <td>48</td>\n",
       "    </tr>\n",
       "    <tr>\n",
       "      <th>Hanwha Life Esports Challengers</th>\n",
       "      <td>26</td>\n",
       "      <td>52</td>\n",
       "      <td>50</td>\n",
       "    </tr>\n",
       "    <tr>\n",
       "      <th>DRX Challengers</th>\n",
       "      <td>24</td>\n",
       "      <td>50</td>\n",
       "      <td>48</td>\n",
       "    </tr>\n",
       "    <tr>\n",
       "      <th>Liiv SANDBOX Challengers</th>\n",
       "      <td>21</td>\n",
       "      <td>47</td>\n",
       "      <td>46</td>\n",
       "    </tr>\n",
       "    <tr>\n",
       "      <th>Fredit BRION Challengers</th>\n",
       "      <td>17</td>\n",
       "      <td>45</td>\n",
       "      <td>39</td>\n",
       "    </tr>\n",
       "  </tbody>\n",
       "</table>\n",
       "</div>"
      ],
      "text/plain": [
       "                                 wins  winrate%  games_played\n",
       "Team                                                         \n",
       "Gen.G Challengers                  39        76            51\n",
       "DWG KIA Challengers                27        75            36\n",
       "Kwangdong Freecs Challengers       25        71            36\n",
       "T1 Challengers                     29        70            42\n",
       "Nongshim RedForce Challengers      28        59            48\n",
       "KT Rolster Challengers             27        57            48\n",
       "Hanwha Life Esports Challengers    26        52            50\n",
       "DRX Challengers                    24        50            48\n",
       "Liiv SANDBOX Challengers           21        47            46\n",
       "Fredit BRION Challengers           17        45            39"
      ]
     },
     "execution_count": 99,
     "metadata": {},
     "output_type": "execute_result"
    }
   ],
   "source": [
    "teams = agg_all.groupby(['Team']).max('games_played')\n",
    "\n",
    "teams = teams.assign(wins = (teams['winrate%'] / 100) * teams['games_played']).astype(int)\n",
    "\n",
    "win_stats = teams[['wins', 'winrate%', 'games_played']].sort_values(by=['winrate%'], ascending = False)\n",
    "\n",
    "win_stats"
   ]
  },
  {
   "cell_type": "markdown",
   "metadata": {},
   "source": [
    "By descriptively looking at the teams, I would suggest three groups: Gen.G, DWG, Freecs and T1 form the best teams, followed by mid tier teams Nongshim and KT. Lastly, we have the rest of the teams whose winrate is very close to 50% only. Unfortunately, group wise comparison would be quite difficult with two groups only, as in the worst case scenario, we would only have two players in each position to compare in the mid tier group. What does testing suggest?"
   ]
  },
  {
   "cell_type": "markdown",
   "metadata": {},
   "source": [
    "#### Hypothesis testing\n",
    "$H_0: w_0 = ... = w_9 $\n",
    "\n",
    "A standard testing procedure comparing all win rates, simultaneously, would not really help to solve to this problem, as it is super likely that we would reject the $H_0$ just due to Fredit and Gen.G's difference. We would not gain a lot of additional insight, as we don't statistical evidence for this difference (the worst team and the best team are just different). Therefore, it is necessary to think about a more useful approach. It would be possible to do pair wise comparisons instead. Then, however, one has to consider the type-1-error inflation, by implementing, for instance, the Bonferroni correction. \\\n",
    "Pair-wise comparisons can be done by doing Binomial tests, as we are having one binomial distribution for every team. We want to know whether these distributions differ."
   ]
  },
  {
   "cell_type": "markdown",
   "metadata": {},
   "source": [
    "$p(w_i | m_i , n_i ) =  \\frac{p(m_i , n_i | w_i) * p(w_i)}\n",
    "    {\\int p(m_i , n_i | w_a) * p(w_a) dw_a}$"
   ]
  },
  {
   "cell_type": "markdown",
   "metadata": {},
   "source": [
    "Let's do Bayesian inference to get a posterior for the winrate of every team. The prior should be a distribution that suggests, most frequently, a winrate of 50%, as I would assume, before seeing any data that each team will perform similarly well, while some teams are worse and some teams are better. We want to use a Beta prior:"
   ]
  },
  {
   "cell_type": "markdown",
   "metadata": {},
   "source": [
    "$p(w_i) = \\frac{(w_i)^{a-1} (1-w_i)^{b-1}}{B(a,b)}$"
   ]
  },
  {
   "cell_type": "markdown",
   "metadata": {},
   "source": [
    "This could look like:"
   ]
  },
  {
   "cell_type": "code",
   "execution_count": 95,
   "metadata": {},
   "outputs": [
    {
     "data": {
      "text/plain": [
       "<matplotlib.collections.LineCollection at 0x1e63fbc0eb0>"
      ]
     },
     "execution_count": 95,
     "metadata": {},
     "output_type": "execute_result"
    },
    {
     "data": {
      "image/png": "[encoded data removed]",
      "text/plain": [
       "<Figure size 1500x600 with 1 Axes>"
      ]
     },
     "metadata": {
      "needs_background": "light"
     },
     "output_type": "display_data"
    }
   ],
   "source": [
    "prior = beta(5,5)\n",
    "\n",
    "mm = np.linspace(0, 1, 500)\n",
    "\n",
    "fig,ax = plt.subplots(1,1, figsize=(10, 4),dpi=150)\n",
    "ax.vlines(mm,0,prior.pdf(mm))"
   ]
  },
  {
   "cell_type": "markdown",
   "metadata": {},
   "source": [
    "As mentioned above, we are having a Binomial likelihood:"
   ]
  },
  {
   "cell_type": "markdown",
   "metadata": {},
   "source": [
    "$p(m_i , n_i | w_i) = {n_i\\choose m_i} w_{i}^{m_i} (1 - w_i)^{n_i - m_i}$"
   ]
  },
  {
   "cell_type": "markdown",
   "metadata": {},
   "source": [
    "For Gen.G, this looks like that:"
   ]
  },
  {
   "cell_type": "code",
   "execution_count": 163,
   "metadata": {},
   "outputs": [
    {
     "data": {
      "text/plain": [
       "<matplotlib.collections.LineCollection at 0x1e644824760>"
      ]
     },
     "execution_count": 163,
     "metadata": {},
     "output_type": "execute_result"
    },
    {
     "data": {
      "image/png": "[encoded data removed]",
      "text/plain": [
       "<Figure size 1500x600 with 1 Axes>"
      ]
     },
     "metadata": {
      "needs_background": "light"
     },
     "output_type": "display_data"
    }
   ],
   "source": [
    "n_1 = win_stats.loc['Gen.G Challengers'].games_played\n",
    "w_1 = win_stats.loc['Gen.G Challengers'][['winrate%']]/100\n",
    "m_1 = win_stats.loc['Gen.G Challengers'].wins\n",
    "\n",
    "grid = np.arange(n_1)\n",
    "\n",
    "fig,ax = plt.subplots(1,1, figsize=(10, 4),dpi=150)\n",
    "ax.vlines(grid, 0, binom.pmf(grid, n_1, w_1))"
   ]
  },
  {
   "cell_type": "markdown",
   "metadata": {},
   "source": [
    "The Beta distribution is a conjugate prior for the Binomial distribution, which means that we can write down the posterior in the following closed form:"
   ]
  },
  {
   "cell_type": "markdown",
   "metadata": {},
   "source": [
    "$p(w_i | m_i , n_i ) = \\frac{(w_i)^{a - 1 + m_i} (1-w_i)^{b- 1+ n_i - m_i}}{B(a + m_i; b - n_i + m_i )}$"
   ]
  },
  {
   "cell_type": "markdown",
   "metadata": {},
   "source": [
    "Gen G's posterior then does look like:"
   ]
  },
  {
   "cell_type": "code",
   "execution_count": 164,
   "metadata": {},
   "outputs": [
    {
     "data": {
      "text/plain": [
       "<matplotlib.collections.LineCollection at 0x1e64488da90>"
      ]
     },
     "execution_count": 164,
     "metadata": {},
     "output_type": "execute_result"
    },
    {
     "data": {
      "image/png": "[encoded data removed]",
      "text/plain": [
       "<Figure size 1500x600 with 1 Axes>"
      ]
     },
     "metadata": {
      "needs_background": "light"
     },
     "output_type": "display_data"
    }
   ],
   "source": [
    "posterior = beta(5 + m_1, 5 + n_1 - m_1)\n",
    "\n",
    "mm = np.linspace(0, 1, 500)\n",
    "\n",
    "fig,ax = plt.subplots(1,1, figsize=(10, 4),dpi=150)\n",
    "ax.vlines(mm,0,posterior.pdf(mm))"
   ]
  },
  {
   "cell_type": "code",
   "execution_count": 50,
   "metadata": {},
   "outputs": [
    {
     "data": {
      "text/html": [
       "<div>\n",
       "<style scoped>\n",
       "    .dataframe tbody tr th:only-of-type {\n",
       "        vertical-align: middle;\n",
       "    }\n",
       "\n",
       "    .dataframe tbody tr th {\n",
       "        vertical-align: top;\n",
       "    }\n",
       "\n",
       "    .dataframe thead th {\n",
       "        text-align: right;\n",
       "    }\n",
       "</style>\n",
       "<table border=\"1\" class=\"dataframe\">\n",
       "  <thead>\n",
       "    <tr style=\"text-align: right;\">\n",
       "      <th></th>\n",
       "      <th>m_i</th>\n",
       "      <th>w_i</th>\n",
       "      <th>n_i</th>\n",
       "    </tr>\n",
       "    <tr>\n",
       "      <th>Team</th>\n",
       "      <th></th>\n",
       "      <th></th>\n",
       "      <th></th>\n",
       "    </tr>\n",
       "  </thead>\n",
       "  <tbody>\n",
       "    <tr>\n",
       "      <th>Gen.G Challengers</th>\n",
       "      <td>39</td>\n",
       "      <td>76</td>\n",
       "      <td>51</td>\n",
       "    </tr>\n",
       "    <tr>\n",
       "      <th>DWG KIA Challengers</th>\n",
       "      <td>27</td>\n",
       "      <td>75</td>\n",
       "      <td>36</td>\n",
       "    </tr>\n",
       "    <tr>\n",
       "      <th>Kwangdong Freecs Challengers</th>\n",
       "      <td>25</td>\n",
       "      <td>71</td>\n",
       "      <td>36</td>\n",
       "    </tr>\n",
       "    <tr>\n",
       "      <th>T1 Challengers</th>\n",
       "      <td>29</td>\n",
       "      <td>70</td>\n",
       "      <td>42</td>\n",
       "    </tr>\n",
       "    <tr>\n",
       "      <th>Nongshim RedForce Challengers</th>\n",
       "      <td>28</td>\n",
       "      <td>59</td>\n",
       "      <td>48</td>\n",
       "    </tr>\n",
       "    <tr>\n",
       "      <th>KT Rolster Challengers</th>\n",
       "      <td>27</td>\n",
       "      <td>57</td>\n",
       "      <td>48</td>\n",
       "    </tr>\n",
       "    <tr>\n",
       "      <th>Hanwha Life Esports Challengers</th>\n",
       "      <td>26</td>\n",
       "      <td>52</td>\n",
       "      <td>50</td>\n",
       "    </tr>\n",
       "    <tr>\n",
       "      <th>DRX Challengers</th>\n",
       "      <td>24</td>\n",
       "      <td>50</td>\n",
       "      <td>48</td>\n",
       "    </tr>\n",
       "    <tr>\n",
       "      <th>Liiv SANDBOX Challengers</th>\n",
       "      <td>21</td>\n",
       "      <td>47</td>\n",
       "      <td>46</td>\n",
       "    </tr>\n",
       "    <tr>\n",
       "      <th>Fredit BRION Challengers</th>\n",
       "      <td>17</td>\n",
       "      <td>45</td>\n",
       "      <td>39</td>\n",
       "    </tr>\n",
       "  </tbody>\n",
       "</table>\n",
       "</div>"
      ],
      "text/plain": [
       "                                 m_i  w_i  n_i\n",
       "Team                                          \n",
       "Gen.G Challengers                 39   76   51\n",
       "DWG KIA Challengers               27   75   36\n",
       "Kwangdong Freecs Challengers      25   71   36\n",
       "T1 Challengers                    29   70   42\n",
       "Nongshim RedForce Challengers     28   59   48\n",
       "KT Rolster Challengers            27   57   48\n",
       "Hanwha Life Esports Challengers   26   52   50\n",
       "DRX Challengers                   24   50   48\n",
       "Liiv SANDBOX Challengers          21   47   46\n",
       "Fredit BRION Challengers          17   45   39"
      ]
     },
     "execution_count": 50,
     "metadata": {},
     "output_type": "execute_result"
    }
   ],
   "source": [
    "win_stats_formalized = win_stats.rename(columns={\"wins\": \"m_i\", \"winrate%\": \"w_i\", \"games_played\": \"n_i\"})\n",
    "\n",
    "win_stats_formalized"
   ]
  },
  {
   "cell_type": "markdown",
   "metadata": {},
   "source": [
    "To account for the bias in the KPIs (an ADC will deal more damage than a support) caused by positions, the data should be grouped by the position of the player."
   ]
  },
  {
   "cell_type": "code",
   "execution_count": 51,
   "metadata": {},
   "outputs": [
    {
     "data": {
      "text/html": [
       "<div>\n",
       "<style scoped>\n",
       "    .dataframe tbody tr th:only-of-type {\n",
       "        vertical-align: middle;\n",
       "    }\n",
       "\n",
       "    .dataframe tbody tr th {\n",
       "        vertical-align: top;\n",
       "    }\n",
       "\n",
       "    .dataframe thead th {\n",
       "        text-align: right;\n",
       "    }\n",
       "</style>\n",
       "<table border=\"1\" class=\"dataframe\">\n",
       "  <thead>\n",
       "    <tr style=\"text-align: right;\">\n",
       "      <th></th>\n",
       "      <th>Team</th>\n",
       "      <th>position</th>\n",
       "      <th>games_played</th>\n",
       "      <th>total_kills</th>\n",
       "      <th>total_deaths</th>\n",
       "      <th>total_assists</th>\n",
       "      <th>num_neutral_obj_stolen</th>\n",
       "      <th>winrate%</th>\n",
       "      <th>pick_after_opponent%</th>\n",
       "      <th>KDA</th>\n",
       "      <th>...</th>\n",
       "      <th>average_cs_diff_10_min</th>\n",
       "      <th>average_CSPM</th>\n",
       "      <th>average_share_team_cs_post_15_min%</th>\n",
       "      <th>average_DPM_to_champs</th>\n",
       "      <th>average_share_team_DMG_to_champs%</th>\n",
       "      <th>average_share_team_DMG_to_champs_post_15_min%</th>\n",
       "      <th>average_gold_per_min</th>\n",
       "      <th>average_share_team_gold%</th>\n",
       "      <th>average_wards_per_min</th>\n",
       "      <th>average_wards_cleared_per_min</th>\n",
       "    </tr>\n",
       "  </thead>\n",
       "  <tbody>\n",
       "    <tr>\n",
       "      <th>5kid</th>\n",
       "      <td>KT Rolster Challengers</td>\n",
       "      <td>ADC</td>\n",
       "      <td>17</td>\n",
       "      <td>76</td>\n",
       "      <td>33</td>\n",
       "      <td>88</td>\n",
       "      <td>0.0</td>\n",
       "      <td>29.328125</td>\n",
       "      <td>54.65625</td>\n",
       "      <td>4.000000</td>\n",
       "      <td>...</td>\n",
       "      <td>10.900000</td>\n",
       "      <td>10.466667</td>\n",
       "      <td>36.718750</td>\n",
       "      <td>517.666667</td>\n",
       "      <td>30.734375</td>\n",
       "      <td>NaN</td>\n",
       "      <td>307.666667</td>\n",
       "      <td>29.265625</td>\n",
       "      <td>0.483333</td>\n",
       "      <td>0.496667</td>\n",
       "    </tr>\n",
       "    <tr>\n",
       "      <th>Asper</th>\n",
       "      <td>T1 Challengers</td>\n",
       "      <td>Support</td>\n",
       "      <td>42</td>\n",
       "      <td>34</td>\n",
       "      <td>124</td>\n",
       "      <td>428</td>\n",
       "      <td>0.0</td>\n",
       "      <td>70.312500</td>\n",
       "      <td>50.00000</td>\n",
       "      <td>3.933333</td>\n",
       "      <td>...</td>\n",
       "      <td>-6.233333</td>\n",
       "      <td>1.066667</td>\n",
       "      <td>2.500000</td>\n",
       "      <td>158.666667</td>\n",
       "      <td>7.765625</td>\n",
       "      <td>5.101562</td>\n",
       "      <td>112.000000</td>\n",
       "      <td>9.335938</td>\n",
       "      <td>1.543333</td>\n",
       "      <td>0.366667</td>\n",
       "    </tr>\n",
       "    <tr>\n",
       "      <th>Baut</th>\n",
       "      <td>Hanwha Life Esports Challengers</td>\n",
       "      <td>Support</td>\n",
       "      <td>50</td>\n",
       "      <td>48</td>\n",
       "      <td>131</td>\n",
       "      <td>383</td>\n",
       "      <td>0.0</td>\n",
       "      <td>51.656250</td>\n",
       "      <td>54.34375</td>\n",
       "      <td>3.333333</td>\n",
       "      <td>...</td>\n",
       "      <td>2.733333</td>\n",
       "      <td>1.433333</td>\n",
       "      <td>3.234375</td>\n",
       "      <td>137.333333</td>\n",
       "      <td>7.468750</td>\n",
       "      <td>2.099609</td>\n",
       "      <td>105.666667</td>\n",
       "      <td>9.398438</td>\n",
       "      <td>1.423333</td>\n",
       "      <td>0.346667</td>\n",
       "    </tr>\n",
       "    <tr>\n",
       "      <th>Berserker</th>\n",
       "      <td>T1 Challengers</td>\n",
       "      <td>ADC</td>\n",
       "      <td>42</td>\n",
       "      <td>216</td>\n",
       "      <td>69</td>\n",
       "      <td>230</td>\n",
       "      <td>0.0</td>\n",
       "      <td>70.312500</td>\n",
       "      <td>48.00000</td>\n",
       "      <td>7.000000</td>\n",
       "      <td>...</td>\n",
       "      <td>9.400000</td>\n",
       "      <td>9.800000</td>\n",
       "      <td>33.187500</td>\n",
       "      <td>594.000000</td>\n",
       "      <td>28.703125</td>\n",
       "      <td>18.203125</td>\n",
       "      <td>337.000000</td>\n",
       "      <td>28.000000</td>\n",
       "      <td>0.516667</td>\n",
       "      <td>0.393333</td>\n",
       "    </tr>\n",
       "    <tr>\n",
       "      <th>Bini</th>\n",
       "      <td>Fredit BRION Challengers</td>\n",
       "      <td>ADC</td>\n",
       "      <td>39</td>\n",
       "      <td>168</td>\n",
       "      <td>86</td>\n",
       "      <td>201</td>\n",
       "      <td>0.0</td>\n",
       "      <td>43.500000</td>\n",
       "      <td>59.00000</td>\n",
       "      <td>4.350000</td>\n",
       "      <td>...</td>\n",
       "      <td>-12.550000</td>\n",
       "      <td>8.200000</td>\n",
       "      <td>30.000000</td>\n",
       "      <td>498.500000</td>\n",
       "      <td>25.843750</td>\n",
       "      <td>26.906250</td>\n",
       "      <td>278.000000</td>\n",
       "      <td>25.953125</td>\n",
       "      <td>0.545000</td>\n",
       "      <td>0.270000</td>\n",
       "    </tr>\n",
       "    <tr>\n",
       "      <th>...</th>\n",
       "      <td>...</td>\n",
       "      <td>...</td>\n",
       "      <td>...</td>\n",
       "      <td>...</td>\n",
       "      <td>...</td>\n",
       "      <td>...</td>\n",
       "      <td>...</td>\n",
       "      <td>...</td>\n",
       "      <td>...</td>\n",
       "      <td>...</td>\n",
       "      <td>...</td>\n",
       "      <td>...</td>\n",
       "      <td>...</td>\n",
       "      <td>...</td>\n",
       "      <td>...</td>\n",
       "      <td>...</td>\n",
       "      <td>...</td>\n",
       "      <td>...</td>\n",
       "      <td>...</td>\n",
       "      <td>...</td>\n",
       "      <td>...</td>\n",
       "    </tr>\n",
       "    <tr>\n",
       "      <th>Willer</th>\n",
       "      <td>Hanwha Life Esports Challengers</td>\n",
       "      <td>Jungle</td>\n",
       "      <td>10</td>\n",
       "      <td>29</td>\n",
       "      <td>25</td>\n",
       "      <td>55</td>\n",
       "      <td>0.0</td>\n",
       "      <td>40.000000</td>\n",
       "      <td>50.00000</td>\n",
       "      <td>3.400000</td>\n",
       "      <td>...</td>\n",
       "      <td>6.700000</td>\n",
       "      <td>6.000000</td>\n",
       "      <td>15.898438</td>\n",
       "      <td>292.000000</td>\n",
       "      <td>17.296875</td>\n",
       "      <td>NaN</td>\n",
       "      <td>203.000000</td>\n",
       "      <td>18.703125</td>\n",
       "      <td>0.480000</td>\n",
       "      <td>0.460000</td>\n",
       "    </tr>\n",
       "    <tr>\n",
       "      <th>SOLKA</th>\n",
       "      <td>DRX Challengers</td>\n",
       "      <td>Middle</td>\n",
       "      <td>11</td>\n",
       "      <td>32</td>\n",
       "      <td>28</td>\n",
       "      <td>66</td>\n",
       "      <td>0.0</td>\n",
       "      <td>45.000000</td>\n",
       "      <td>55.00000</td>\n",
       "      <td>3.500000</td>\n",
       "      <td>...</td>\n",
       "      <td>4.700000</td>\n",
       "      <td>8.650000</td>\n",
       "      <td>24.843750</td>\n",
       "      <td>415.500000</td>\n",
       "      <td>23.906250</td>\n",
       "      <td>23.453125</td>\n",
       "      <td>272.500000</td>\n",
       "      <td>24.453125</td>\n",
       "      <td>0.505000</td>\n",
       "      <td>0.270000</td>\n",
       "    </tr>\n",
       "    <tr>\n",
       "      <th>TaNa</th>\n",
       "      <td>Fredit BRION Challengers</td>\n",
       "      <td>Top</td>\n",
       "      <td>20</td>\n",
       "      <td>58</td>\n",
       "      <td>59</td>\n",
       "      <td>99</td>\n",
       "      <td>0.0</td>\n",
       "      <td>45.000000</td>\n",
       "      <td>40.00000</td>\n",
       "      <td>2.700000</td>\n",
       "      <td>...</td>\n",
       "      <td>-1.200000</td>\n",
       "      <td>8.000000</td>\n",
       "      <td>27.000000</td>\n",
       "      <td>403.000000</td>\n",
       "      <td>22.593750</td>\n",
       "      <td>27.500000</td>\n",
       "      <td>261.000000</td>\n",
       "      <td>24.406250</td>\n",
       "      <td>0.430000</td>\n",
       "      <td>0.210000</td>\n",
       "    </tr>\n",
       "    <tr>\n",
       "      <th>Pleata</th>\n",
       "      <td>DRX Challengers</td>\n",
       "      <td>Support</td>\n",
       "      <td>16</td>\n",
       "      <td>7</td>\n",
       "      <td>45</td>\n",
       "      <td>139</td>\n",
       "      <td>0.0</td>\n",
       "      <td>42.500000</td>\n",
       "      <td>38.00000</td>\n",
       "      <td>3.650000</td>\n",
       "      <td>...</td>\n",
       "      <td>-2.400000</td>\n",
       "      <td>1.050000</td>\n",
       "      <td>2.750000</td>\n",
       "      <td>165.000000</td>\n",
       "      <td>9.250000</td>\n",
       "      <td>7.550781</td>\n",
       "      <td>98.500000</td>\n",
       "      <td>8.500000</td>\n",
       "      <td>1.680000</td>\n",
       "      <td>0.405000</td>\n",
       "    </tr>\n",
       "    <tr>\n",
       "      <th>Bible</th>\n",
       "      <td>DWG KIA Challengers</td>\n",
       "      <td>Support</td>\n",
       "      <td>13</td>\n",
       "      <td>9</td>\n",
       "      <td>52</td>\n",
       "      <td>101</td>\n",
       "      <td>0.0</td>\n",
       "      <td>54.000000</td>\n",
       "      <td>62.00000</td>\n",
       "      <td>2.100000</td>\n",
       "      <td>...</td>\n",
       "      <td>-4.300000</td>\n",
       "      <td>1.200000</td>\n",
       "      <td>2.900391</td>\n",
       "      <td>141.000000</td>\n",
       "      <td>7.800781</td>\n",
       "      <td>NaN</td>\n",
       "      <td>99.000000</td>\n",
       "      <td>8.601562</td>\n",
       "      <td>1.590000</td>\n",
       "      <td>0.420000</td>\n",
       "    </tr>\n",
       "  </tbody>\n",
       "</table>\n",
       "<p>80 rows × 26 columns</p>\n",
       "</div>"
      ],
      "text/plain": [
       "                                      Team position  games_played  \\\n",
       "5kid                KT Rolster Challengers      ADC            17   \n",
       "Asper                       T1 Challengers  Support            42   \n",
       "Baut       Hanwha Life Esports Challengers  Support            50   \n",
       "Berserker                   T1 Challengers      ADC            42   \n",
       "Bini              Fredit BRION Challengers      ADC            39   \n",
       "...                                    ...      ...           ...   \n",
       "Willer     Hanwha Life Esports Challengers   Jungle            10   \n",
       "SOLKA                      DRX Challengers   Middle            11   \n",
       "TaNa              Fredit BRION Challengers      Top            20   \n",
       "Pleata                     DRX Challengers  Support            16   \n",
       "Bible                  DWG KIA Challengers  Support            13   \n",
       "\n",
       "           total_kills  total_deaths  total_assists  num_neutral_obj_stolen  \\\n",
       "5kid                76            33             88                     0.0   \n",
       "Asper               34           124            428                     0.0   \n",
       "Baut                48           131            383                     0.0   \n",
       "Berserker          216            69            230                     0.0   \n",
       "Bini               168            86            201                     0.0   \n",
       "...                ...           ...            ...                     ...   \n",
       "Willer              29            25             55                     0.0   \n",
       "SOLKA               32            28             66                     0.0   \n",
       "TaNa                58            59             99                     0.0   \n",
       "Pleata               7            45            139                     0.0   \n",
       "Bible                9            52            101                     0.0   \n",
       "\n",
       "            winrate%  pick_after_opponent%       KDA  ...  \\\n",
       "5kid       29.328125              54.65625  4.000000  ...   \n",
       "Asper      70.312500              50.00000  3.933333  ...   \n",
       "Baut       51.656250              54.34375  3.333333  ...   \n",
       "Berserker  70.312500              48.00000  7.000000  ...   \n",
       "Bini       43.500000              59.00000  4.350000  ...   \n",
       "...              ...                   ...       ...  ...   \n",
       "Willer     40.000000              50.00000  3.400000  ...   \n",
       "SOLKA      45.000000              55.00000  3.500000  ...   \n",
       "TaNa       45.000000              40.00000  2.700000  ...   \n",
       "Pleata     42.500000              38.00000  3.650000  ...   \n",
       "Bible      54.000000              62.00000  2.100000  ...   \n",
       "\n",
       "           average_cs_diff_10_min  average_CSPM  \\\n",
       "5kid                    10.900000     10.466667   \n",
       "Asper                   -6.233333      1.066667   \n",
       "Baut                     2.733333      1.433333   \n",
       "Berserker                9.400000      9.800000   \n",
       "Bini                   -12.550000      8.200000   \n",
       "...                           ...           ...   \n",
       "Willer                   6.700000      6.000000   \n",
       "SOLKA                    4.700000      8.650000   \n",
       "TaNa                    -1.200000      8.000000   \n",
       "Pleata                  -2.400000      1.050000   \n",
       "Bible                   -4.300000      1.200000   \n",
       "\n",
       "           average_share_team_cs_post_15_min%  average_DPM_to_champs  \\\n",
       "5kid                                36.718750             517.666667   \n",
       "Asper                                2.500000             158.666667   \n",
       "Baut                                 3.234375             137.333333   \n",
       "Berserker                           33.187500             594.000000   \n",
       "Bini                                30.000000             498.500000   \n",
       "...                                       ...                    ...   \n",
       "Willer                              15.898438             292.000000   \n",
       "SOLKA                               24.843750             415.500000   \n",
       "TaNa                                27.000000             403.000000   \n",
       "Pleata                               2.750000             165.000000   \n",
       "Bible                                2.900391             141.000000   \n",
       "\n",
       "           average_share_team_DMG_to_champs%  \\\n",
       "5kid                               30.734375   \n",
       "Asper                               7.765625   \n",
       "Baut                                7.468750   \n",
       "Berserker                          28.703125   \n",
       "Bini                               25.843750   \n",
       "...                                      ...   \n",
       "Willer                             17.296875   \n",
       "SOLKA                              23.906250   \n",
       "TaNa                               22.593750   \n",
       "Pleata                              9.250000   \n",
       "Bible                               7.800781   \n",
       "\n",
       "           average_share_team_DMG_to_champs_post_15_min%  \\\n",
       "5kid                                                 NaN   \n",
       "Asper                                           5.101562   \n",
       "Baut                                            2.099609   \n",
       "Berserker                                      18.203125   \n",
       "Bini                                           26.906250   \n",
       "...                                                  ...   \n",
       "Willer                                               NaN   \n",
       "SOLKA                                          23.453125   \n",
       "TaNa                                           27.500000   \n",
       "Pleata                                          7.550781   \n",
       "Bible                                                NaN   \n",
       "\n",
       "           average_gold_per_min  average_share_team_gold%  \\\n",
       "5kid                 307.666667                 29.265625   \n",
       "Asper                112.000000                  9.335938   \n",
       "Baut                 105.666667                  9.398438   \n",
       "Berserker            337.000000                 28.000000   \n",
       "Bini                 278.000000                 25.953125   \n",
       "...                         ...                       ...   \n",
       "Willer               203.000000                 18.703125   \n",
       "SOLKA                272.500000                 24.453125   \n",
       "TaNa                 261.000000                 24.406250   \n",
       "Pleata                98.500000                  8.500000   \n",
       "Bible                 99.000000                  8.601562   \n",
       "\n",
       "           average_wards_per_min  average_wards_cleared_per_min  \n",
       "5kid                    0.483333                       0.496667  \n",
       "Asper                   1.543333                       0.366667  \n",
       "Baut                    1.423333                       0.346667  \n",
       "Berserker               0.516667                       0.393333  \n",
       "Bini                    0.545000                       0.270000  \n",
       "...                          ...                            ...  \n",
       "Willer                  0.480000                       0.460000  \n",
       "SOLKA                   0.505000                       0.270000  \n",
       "TaNa                    0.430000                       0.210000  \n",
       "Pleata                  1.680000                       0.405000  \n",
       "Bible                   1.590000                       0.420000  \n",
       "\n",
       "[80 rows x 26 columns]"
      ]
     },
     "execution_count": 51,
     "metadata": {},
     "output_type": "execute_result"
    }
   ],
   "source": [
    "agg_all"
   ]
  },
  {
   "cell_type": "code",
   "execution_count": 52,
   "metadata": {},
   "outputs": [
    {
     "data": {
      "text/html": [
       "<div>\n",
       "<style scoped>\n",
       "    .dataframe tbody tr th:only-of-type {\n",
       "        vertical-align: middle;\n",
       "    }\n",
       "\n",
       "    .dataframe tbody tr th {\n",
       "        vertical-align: top;\n",
       "    }\n",
       "\n",
       "    .dataframe thead th {\n",
       "        text-align: right;\n",
       "    }\n",
       "</style>\n",
       "<table border=\"1\" class=\"dataframe\">\n",
       "  <thead>\n",
       "    <tr style=\"text-align: right;\">\n",
       "      <th></th>\n",
       "      <th>KDA</th>\n",
       "      <th>total_kills</th>\n",
       "      <th>total_deaths</th>\n",
       "      <th>total_assists</th>\n",
       "      <th>KDA_custom</th>\n",
       "    </tr>\n",
       "  </thead>\n",
       "  <tbody>\n",
       "    <tr>\n",
       "      <th>Castle</th>\n",
       "      <td>3.150000</td>\n",
       "      <td>114</td>\n",
       "      <td>103</td>\n",
       "      <td>257</td>\n",
       "      <td>3.601942</td>\n",
       "    </tr>\n",
       "    <tr>\n",
       "      <th>Chasy</th>\n",
       "      <td>3.200000</td>\n",
       "      <td>88</td>\n",
       "      <td>64</td>\n",
       "      <td>120</td>\n",
       "      <td>3.250000</td>\n",
       "    </tr>\n",
       "    <tr>\n",
       "      <th>Clear</th>\n",
       "      <td>2.875000</td>\n",
       "      <td>134</td>\n",
       "      <td>144</td>\n",
       "      <td>258</td>\n",
       "      <td>2.722222</td>\n",
       "    </tr>\n",
       "    <tr>\n",
       "      <th>DnDn</th>\n",
       "      <td>2.800000</td>\n",
       "      <td>119</td>\n",
       "      <td>128</td>\n",
       "      <td>248</td>\n",
       "      <td>2.867188</td>\n",
       "    </tr>\n",
       "    <tr>\n",
       "      <th>Howling</th>\n",
       "      <td>3.150000</td>\n",
       "      <td>26</td>\n",
       "      <td>30</td>\n",
       "      <td>63</td>\n",
       "      <td>2.966667</td>\n",
       "    </tr>\n",
       "    <tr>\n",
       "      <th>Lonely</th>\n",
       "      <td>4.200000</td>\n",
       "      <td>139</td>\n",
       "      <td>108</td>\n",
       "      <td>334</td>\n",
       "      <td>4.379630</td>\n",
       "    </tr>\n",
       "    <tr>\n",
       "      <th>Lukalux</th>\n",
       "      <td>2.800000</td>\n",
       "      <td>25</td>\n",
       "      <td>53</td>\n",
       "      <td>123</td>\n",
       "      <td>2.792453</td>\n",
       "    </tr>\n",
       "    <tr>\n",
       "      <th>Photon</th>\n",
       "      <td>2.575000</td>\n",
       "      <td>105</td>\n",
       "      <td>86</td>\n",
       "      <td>167</td>\n",
       "      <td>3.162791</td>\n",
       "    </tr>\n",
       "    <tr>\n",
       "      <th>Riss</th>\n",
       "      <td>2.833333</td>\n",
       "      <td>112</td>\n",
       "      <td>125</td>\n",
       "      <td>213</td>\n",
       "      <td>2.600000</td>\n",
       "    </tr>\n",
       "    <tr>\n",
       "      <th>Roach</th>\n",
       "      <td>4.766667</td>\n",
       "      <td>113</td>\n",
       "      <td>107</td>\n",
       "      <td>272</td>\n",
       "      <td>3.598131</td>\n",
       "    </tr>\n",
       "    <tr>\n",
       "      <th>Thanatos</th>\n",
       "      <td>1.800000</td>\n",
       "      <td>16</td>\n",
       "      <td>24</td>\n",
       "      <td>26</td>\n",
       "      <td>1.750000</td>\n",
       "    </tr>\n",
       "    <tr>\n",
       "      <th>Trap</th>\n",
       "      <td>1.500000</td>\n",
       "      <td>26</td>\n",
       "      <td>58</td>\n",
       "      <td>59</td>\n",
       "      <td>1.465517</td>\n",
       "    </tr>\n",
       "    <tr>\n",
       "      <th>IlllIma</th>\n",
       "      <td>3.150000</td>\n",
       "      <td>101</td>\n",
       "      <td>75</td>\n",
       "      <td>152</td>\n",
       "      <td>3.373333</td>\n",
       "    </tr>\n",
       "    <tr>\n",
       "      <th>TaNa</th>\n",
       "      <td>2.700000</td>\n",
       "      <td>58</td>\n",
       "      <td>59</td>\n",
       "      <td>99</td>\n",
       "      <td>2.661017</td>\n",
       "    </tr>\n",
       "  </tbody>\n",
       "</table>\n",
       "</div>"
      ],
      "text/plain": [
       "               KDA  total_kills  total_deaths  total_assists  KDA_custom\n",
       "Castle    3.150000          114           103            257    3.601942\n",
       "Chasy     3.200000           88            64            120    3.250000\n",
       "Clear     2.875000          134           144            258    2.722222\n",
       "DnDn      2.800000          119           128            248    2.867188\n",
       "Howling   3.150000           26            30             63    2.966667\n",
       "Lonely    4.200000          139           108            334    4.379630\n",
       "Lukalux   2.800000           25            53            123    2.792453\n",
       "Photon    2.575000          105            86            167    3.162791\n",
       "Riss      2.833333          112           125            213    2.600000\n",
       "Roach     4.766667          113           107            272    3.598131\n",
       "Thanatos  1.800000           16            24             26    1.750000\n",
       "Trap      1.500000           26            58             59    1.465517\n",
       "IlllIma   3.150000          101            75            152    3.373333\n",
       "TaNa      2.700000           58            59             99    2.661017"
      ]
     },
     "execution_count": 52,
     "metadata": {},
     "output_type": "execute_result"
    }
   ],
   "source": [
    "top = agg_all.query('position == \"Top\"')\n",
    "\n",
    "top[['KDA', 'total_kills', 'total_deaths', 'total_assists']].assign(KDA_custom =\n",
    " (top['total_kills'] + top['total_assists'])/top['total_deaths'])"
   ]
  }
 ],
 "metadata": {
  "interpreter": {
   "hash": "472d943c67c954b7f06b1baeba716db8b575ace6c95caa276b0093a7ac85c3bd"
  },
  "kernelspec": {
   "display_name": "Python 3.6.13 64-bit (conda)",
   "language": "python",
   "name": "python3"
  },
  "language_info": {
   "codemirror_mode": {
    "name": "ipython",
    "version": 3
   },
   "file_extension": ".py",
   "mimetype": "text/x-python",
   "name": "python",
   "nbconvert_exporter": "python",
   "pygments_lexer": "ipython3",
   "version": "3.8.5"
  },
  "orig_nbformat": 4
 },
 "nbformat": 4,
 "nbformat_minor": 2
}
